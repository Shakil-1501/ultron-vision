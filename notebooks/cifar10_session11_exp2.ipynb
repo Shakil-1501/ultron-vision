{
  "nbformat": 4,
  "nbformat_minor": 0,
  "metadata": {
    "colab": {
      "name": "cifar10_session11_exp2.ipynb",
      "provenance": [],
      "collapsed_sections": [
        "bNsI6v853zkp",
        "COrYdPSf7vGe",
        "TBmQhVdGBTH0",
        "OE2wQ52oIG0r",
        "-4v5PQ8oQCv_"
      ],
      "toc_visible": true
    },
    "kernelspec": {
      "name": "python3",
      "display_name": "Python 3"
    },
    "accelerator": "GPU",
    "widgets": {
      "application/vnd.jupyter.widget-state+json": {
        "a1d9b45acd0945479979cba03420c82a": {
          "model_module": "@jupyter-widgets/controls",
          "model_name": "HBoxModel",
          "state": {
            "_view_name": "HBoxView",
            "_dom_classes": [],
            "_model_name": "HBoxModel",
            "_view_module": "@jupyter-widgets/controls",
            "_model_module_version": "1.5.0",
            "_view_count": null,
            "_view_module_version": "1.5.0",
            "box_style": "",
            "layout": "IPY_MODEL_c55eca10a33c4ec39df8ab34bc16ad27",
            "_model_module": "@jupyter-widgets/controls",
            "children": [
              "IPY_MODEL_d0e6e052f82c4fd68f04d6d49b4d0892",
              "IPY_MODEL_4ecad8906c1d4a7fb57ca265d0e57c9b"
            ]
          }
        },
        "c55eca10a33c4ec39df8ab34bc16ad27": {
          "model_module": "@jupyter-widgets/base",
          "model_name": "LayoutModel",
          "state": {
            "_view_name": "LayoutView",
            "grid_template_rows": null,
            "right": null,
            "justify_content": null,
            "_view_module": "@jupyter-widgets/base",
            "overflow": null,
            "_model_module_version": "1.2.0",
            "_view_count": null,
            "flex_flow": null,
            "width": null,
            "min_width": null,
            "border": null,
            "align_items": null,
            "bottom": null,
            "_model_module": "@jupyter-widgets/base",
            "top": null,
            "grid_column": null,
            "overflow_y": null,
            "overflow_x": null,
            "grid_auto_flow": null,
            "grid_area": null,
            "grid_template_columns": null,
            "flex": null,
            "_model_name": "LayoutModel",
            "justify_items": null,
            "grid_row": null,
            "max_height": null,
            "align_content": null,
            "visibility": null,
            "align_self": null,
            "height": null,
            "min_height": null,
            "padding": null,
            "grid_auto_rows": null,
            "grid_gap": null,
            "max_width": null,
            "order": null,
            "_view_module_version": "1.2.0",
            "grid_template_areas": null,
            "object_position": null,
            "object_fit": null,
            "grid_auto_columns": null,
            "margin": null,
            "display": null,
            "left": null
          }
        },
        "d0e6e052f82c4fd68f04d6d49b4d0892": {
          "model_module": "@jupyter-widgets/controls",
          "model_name": "FloatProgressModel",
          "state": {
            "_view_name": "ProgressView",
            "style": "IPY_MODEL_5d325c26b1ef476ab420324cff581a13",
            "_dom_classes": [],
            "description": " 83%",
            "_model_name": "FloatProgressModel",
            "bar_style": "danger",
            "max": 485,
            "_view_module": "@jupyter-widgets/controls",
            "_model_module_version": "1.5.0",
            "value": 403,
            "_view_count": null,
            "_view_module_version": "1.5.0",
            "orientation": "horizontal",
            "min": 0,
            "description_tooltip": null,
            "_model_module": "@jupyter-widgets/controls",
            "layout": "IPY_MODEL_6706030126d246fc9c43a9f203c3c679"
          }
        },
        "4ecad8906c1d4a7fb57ca265d0e57c9b": {
          "model_module": "@jupyter-widgets/controls",
          "model_name": "HTMLModel",
          "state": {
            "_view_name": "HTMLView",
            "style": "IPY_MODEL_5ee0a905127a4397a3918d2bd4919e5d",
            "_dom_classes": [],
            "description": "",
            "_model_name": "HTMLModel",
            "placeholder": "​",
            "_view_module": "@jupyter-widgets/controls",
            "_model_module_version": "1.5.0",
            "value": " 403/485 [02:15&lt;00:27,  2.98it/s]",
            "_view_count": null,
            "_view_module_version": "1.5.0",
            "description_tooltip": null,
            "_model_module": "@jupyter-widgets/controls",
            "layout": "IPY_MODEL_ddd342d99786415fa4fff1c013ca71e0"
          }
        },
        "5d325c26b1ef476ab420324cff581a13": {
          "model_module": "@jupyter-widgets/controls",
          "model_name": "ProgressStyleModel",
          "state": {
            "_view_name": "StyleView",
            "_model_name": "ProgressStyleModel",
            "description_width": "initial",
            "_view_module": "@jupyter-widgets/base",
            "_model_module_version": "1.5.0",
            "_view_count": null,
            "_view_module_version": "1.2.0",
            "bar_color": null,
            "_model_module": "@jupyter-widgets/controls"
          }
        },
        "6706030126d246fc9c43a9f203c3c679": {
          "model_module": "@jupyter-widgets/base",
          "model_name": "LayoutModel",
          "state": {
            "_view_name": "LayoutView",
            "grid_template_rows": null,
            "right": null,
            "justify_content": null,
            "_view_module": "@jupyter-widgets/base",
            "overflow": null,
            "_model_module_version": "1.2.0",
            "_view_count": null,
            "flex_flow": null,
            "width": null,
            "min_width": null,
            "border": null,
            "align_items": null,
            "bottom": null,
            "_model_module": "@jupyter-widgets/base",
            "top": null,
            "grid_column": null,
            "overflow_y": null,
            "overflow_x": null,
            "grid_auto_flow": null,
            "grid_area": null,
            "grid_template_columns": null,
            "flex": null,
            "_model_name": "LayoutModel",
            "justify_items": null,
            "grid_row": null,
            "max_height": null,
            "align_content": null,
            "visibility": null,
            "align_self": null,
            "height": null,
            "min_height": null,
            "padding": null,
            "grid_auto_rows": null,
            "grid_gap": null,
            "max_width": null,
            "order": null,
            "_view_module_version": "1.2.0",
            "grid_template_areas": null,
            "object_position": null,
            "object_fit": null,
            "grid_auto_columns": null,
            "margin": null,
            "display": null,
            "left": null
          }
        },
        "5ee0a905127a4397a3918d2bd4919e5d": {
          "model_module": "@jupyter-widgets/controls",
          "model_name": "DescriptionStyleModel",
          "state": {
            "_view_name": "StyleView",
            "_model_name": "DescriptionStyleModel",
            "description_width": "",
            "_view_module": "@jupyter-widgets/base",
            "_model_module_version": "1.5.0",
            "_view_count": null,
            "_view_module_version": "1.2.0",
            "_model_module": "@jupyter-widgets/controls"
          }
        },
        "ddd342d99786415fa4fff1c013ca71e0": {
          "model_module": "@jupyter-widgets/base",
          "model_name": "LayoutModel",
          "state": {
            "_view_name": "LayoutView",
            "grid_template_rows": null,
            "right": null,
            "justify_content": null,
            "_view_module": "@jupyter-widgets/base",
            "overflow": null,
            "_model_module_version": "1.2.0",
            "_view_count": null,
            "flex_flow": null,
            "width": null,
            "min_width": null,
            "border": null,
            "align_items": null,
            "bottom": null,
            "_model_module": "@jupyter-widgets/base",
            "top": null,
            "grid_column": null,
            "overflow_y": null,
            "overflow_x": null,
            "grid_auto_flow": null,
            "grid_area": null,
            "grid_template_columns": null,
            "flex": null,
            "_model_name": "LayoutModel",
            "justify_items": null,
            "grid_row": null,
            "max_height": null,
            "align_content": null,
            "visibility": null,
            "align_self": null,
            "height": null,
            "min_height": null,
            "padding": null,
            "grid_auto_rows": null,
            "grid_gap": null,
            "max_width": null,
            "order": null,
            "_view_module_version": "1.2.0",
            "grid_template_areas": null,
            "object_position": null,
            "object_fit": null,
            "grid_auto_columns": null,
            "margin": null,
            "display": null,
            "left": null
          }
        },
        "71eca1e822304d818a1a33ae160abd78": {
          "model_module": "@jupyter-widgets/controls",
          "model_name": "HBoxModel",
          "state": {
            "_view_name": "HBoxView",
            "_dom_classes": [],
            "_model_name": "HBoxModel",
            "_view_module": "@jupyter-widgets/controls",
            "_model_module_version": "1.5.0",
            "_view_count": null,
            "_view_module_version": "1.5.0",
            "box_style": "",
            "layout": "IPY_MODEL_9e9968815e9e423c925cbce0b2fcbdd0",
            "_model_module": "@jupyter-widgets/controls",
            "children": [
              "IPY_MODEL_0567a04aafa74552a1871d1de2119c8a",
              "IPY_MODEL_2cd0d7f1233249c69d72f190c47eabf5"
            ]
          }
        },
        "9e9968815e9e423c925cbce0b2fcbdd0": {
          "model_module": "@jupyter-widgets/base",
          "model_name": "LayoutModel",
          "state": {
            "_view_name": "LayoutView",
            "grid_template_rows": null,
            "right": null,
            "justify_content": null,
            "_view_module": "@jupyter-widgets/base",
            "overflow": null,
            "_model_module_version": "1.2.0",
            "_view_count": null,
            "flex_flow": null,
            "width": null,
            "min_width": null,
            "border": null,
            "align_items": null,
            "bottom": null,
            "_model_module": "@jupyter-widgets/base",
            "top": null,
            "grid_column": null,
            "overflow_y": null,
            "overflow_x": null,
            "grid_auto_flow": null,
            "grid_area": null,
            "grid_template_columns": null,
            "flex": null,
            "_model_name": "LayoutModel",
            "justify_items": null,
            "grid_row": null,
            "max_height": null,
            "align_content": null,
            "visibility": null,
            "align_self": null,
            "height": null,
            "min_height": null,
            "padding": null,
            "grid_auto_rows": null,
            "grid_gap": null,
            "max_width": null,
            "order": null,
            "_view_module_version": "1.2.0",
            "grid_template_areas": null,
            "object_position": null,
            "object_fit": null,
            "grid_auto_columns": null,
            "margin": null,
            "display": null,
            "left": null
          }
        },
        "0567a04aafa74552a1871d1de2119c8a": {
          "model_module": "@jupyter-widgets/controls",
          "model_name": "FloatProgressModel",
          "state": {
            "_view_name": "ProgressView",
            "style": "IPY_MODEL_70bf1e4b886c45ffb279d64b095566fc",
            "_dom_classes": [],
            "description": " 75%",
            "_model_name": "FloatProgressModel",
            "bar_style": "danger",
            "max": 485,
            "_view_module": "@jupyter-widgets/controls",
            "_model_module_version": "1.5.0",
            "value": 365,
            "_view_count": null,
            "_view_module_version": "1.5.0",
            "orientation": "horizontal",
            "min": 0,
            "description_tooltip": null,
            "_model_module": "@jupyter-widgets/controls",
            "layout": "IPY_MODEL_3fb1a0a5388d4b21be0b14d2d7aa94c1"
          }
        },
        "2cd0d7f1233249c69d72f190c47eabf5": {
          "model_module": "@jupyter-widgets/controls",
          "model_name": "HTMLModel",
          "state": {
            "_view_name": "HTMLView",
            "style": "IPY_MODEL_a3a5b6edc160456dae35ba9342f9c655",
            "_dom_classes": [],
            "description": "",
            "_model_name": "HTMLModel",
            "placeholder": "​",
            "_view_module": "@jupyter-widgets/controls",
            "_model_module_version": "1.5.0",
            "value": " 365/485 [01:21&lt;00:26,  4.49it/s]",
            "_view_count": null,
            "_view_module_version": "1.5.0",
            "description_tooltip": null,
            "_model_module": "@jupyter-widgets/controls",
            "layout": "IPY_MODEL_476283d235574e048ff426c80e38baa0"
          }
        },
        "70bf1e4b886c45ffb279d64b095566fc": {
          "model_module": "@jupyter-widgets/controls",
          "model_name": "ProgressStyleModel",
          "state": {
            "_view_name": "StyleView",
            "_model_name": "ProgressStyleModel",
            "description_width": "initial",
            "_view_module": "@jupyter-widgets/base",
            "_model_module_version": "1.5.0",
            "_view_count": null,
            "_view_module_version": "1.2.0",
            "bar_color": null,
            "_model_module": "@jupyter-widgets/controls"
          }
        },
        "3fb1a0a5388d4b21be0b14d2d7aa94c1": {
          "model_module": "@jupyter-widgets/base",
          "model_name": "LayoutModel",
          "state": {
            "_view_name": "LayoutView",
            "grid_template_rows": null,
            "right": null,
            "justify_content": null,
            "_view_module": "@jupyter-widgets/base",
            "overflow": null,
            "_model_module_version": "1.2.0",
            "_view_count": null,
            "flex_flow": null,
            "width": null,
            "min_width": null,
            "border": null,
            "align_items": null,
            "bottom": null,
            "_model_module": "@jupyter-widgets/base",
            "top": null,
            "grid_column": null,
            "overflow_y": null,
            "overflow_x": null,
            "grid_auto_flow": null,
            "grid_area": null,
            "grid_template_columns": null,
            "flex": null,
            "_model_name": "LayoutModel",
            "justify_items": null,
            "grid_row": null,
            "max_height": null,
            "align_content": null,
            "visibility": null,
            "align_self": null,
            "height": null,
            "min_height": null,
            "padding": null,
            "grid_auto_rows": null,
            "grid_gap": null,
            "max_width": null,
            "order": null,
            "_view_module_version": "1.2.0",
            "grid_template_areas": null,
            "object_position": null,
            "object_fit": null,
            "grid_auto_columns": null,
            "margin": null,
            "display": null,
            "left": null
          }
        },
        "a3a5b6edc160456dae35ba9342f9c655": {
          "model_module": "@jupyter-widgets/controls",
          "model_name": "DescriptionStyleModel",
          "state": {
            "_view_name": "StyleView",
            "_model_name": "DescriptionStyleModel",
            "description_width": "",
            "_view_module": "@jupyter-widgets/base",
            "_model_module_version": "1.5.0",
            "_view_count": null,
            "_view_module_version": "1.2.0",
            "_model_module": "@jupyter-widgets/controls"
          }
        },
        "476283d235574e048ff426c80e38baa0": {
          "model_module": "@jupyter-widgets/base",
          "model_name": "LayoutModel",
          "state": {
            "_view_name": "LayoutView",
            "grid_template_rows": null,
            "right": null,
            "justify_content": null,
            "_view_module": "@jupyter-widgets/base",
            "overflow": null,
            "_model_module_version": "1.2.0",
            "_view_count": null,
            "flex_flow": null,
            "width": null,
            "min_width": null,
            "border": null,
            "align_items": null,
            "bottom": null,
            "_model_module": "@jupyter-widgets/base",
            "top": null,
            "grid_column": null,
            "overflow_y": null,
            "overflow_x": null,
            "grid_auto_flow": null,
            "grid_area": null,
            "grid_template_columns": null,
            "flex": null,
            "_model_name": "LayoutModel",
            "justify_items": null,
            "grid_row": null,
            "max_height": null,
            "align_content": null,
            "visibility": null,
            "align_self": null,
            "height": null,
            "min_height": null,
            "padding": null,
            "grid_auto_rows": null,
            "grid_gap": null,
            "max_width": null,
            "order": null,
            "_view_module_version": "1.2.0",
            "grid_template_areas": null,
            "object_position": null,
            "object_fit": null,
            "grid_auto_columns": null,
            "margin": null,
            "display": null,
            "left": null
          }
        },
        "af4fb48ecb3741f8b13a92c18f213490": {
          "model_module": "@jupyter-widgets/controls",
          "model_name": "HBoxModel",
          "state": {
            "_view_name": "HBoxView",
            "_dom_classes": [],
            "_model_name": "HBoxModel",
            "_view_module": "@jupyter-widgets/controls",
            "_model_module_version": "1.5.0",
            "_view_count": null,
            "_view_module_version": "1.5.0",
            "box_style": "",
            "layout": "IPY_MODEL_f1aa20b486df4977bdb1fcdeb9b6e2bc",
            "_model_module": "@jupyter-widgets/controls",
            "children": [
              "IPY_MODEL_b07270c26e8a4a91a2e5f07f78bb4f9c",
              "IPY_MODEL_0d9074c009874c0bb46783a6709c80e6"
            ]
          }
        },
        "f1aa20b486df4977bdb1fcdeb9b6e2bc": {
          "model_module": "@jupyter-widgets/base",
          "model_name": "LayoutModel",
          "state": {
            "_view_name": "LayoutView",
            "grid_template_rows": null,
            "right": null,
            "justify_content": null,
            "_view_module": "@jupyter-widgets/base",
            "overflow": null,
            "_model_module_version": "1.2.0",
            "_view_count": null,
            "flex_flow": null,
            "width": null,
            "min_width": null,
            "border": null,
            "align_items": null,
            "bottom": null,
            "_model_module": "@jupyter-widgets/base",
            "top": null,
            "grid_column": null,
            "overflow_y": null,
            "overflow_x": null,
            "grid_auto_flow": null,
            "grid_area": null,
            "grid_template_columns": null,
            "flex": null,
            "_model_name": "LayoutModel",
            "justify_items": null,
            "grid_row": null,
            "max_height": null,
            "align_content": null,
            "visibility": null,
            "align_self": null,
            "height": null,
            "min_height": null,
            "padding": null,
            "grid_auto_rows": null,
            "grid_gap": null,
            "max_width": null,
            "order": null,
            "_view_module_version": "1.2.0",
            "grid_template_areas": null,
            "object_position": null,
            "object_fit": null,
            "grid_auto_columns": null,
            "margin": null,
            "display": null,
            "left": null
          }
        },
        "b07270c26e8a4a91a2e5f07f78bb4f9c": {
          "model_module": "@jupyter-widgets/controls",
          "model_name": "FloatProgressModel",
          "state": {
            "_view_name": "ProgressView",
            "style": "IPY_MODEL_a1a62239f0f3497bb29248f4142ae539",
            "_dom_classes": [],
            "description": " 74%",
            "_model_name": "FloatProgressModel",
            "bar_style": "danger",
            "max": 485,
            "_view_module": "@jupyter-widgets/controls",
            "_model_module_version": "1.5.0",
            "value": 361,
            "_view_count": null,
            "_view_module_version": "1.5.0",
            "orientation": "horizontal",
            "min": 0,
            "description_tooltip": null,
            "_model_module": "@jupyter-widgets/controls",
            "layout": "IPY_MODEL_ab2a081a037749098a6b4b57bd2bddfc"
          }
        },
        "0d9074c009874c0bb46783a6709c80e6": {
          "model_module": "@jupyter-widgets/controls",
          "model_name": "HTMLModel",
          "state": {
            "_view_name": "HTMLView",
            "style": "IPY_MODEL_d511757a854c46b1aa45c6f06a582763",
            "_dom_classes": [],
            "description": "",
            "_model_name": "HTMLModel",
            "placeholder": "​",
            "_view_module": "@jupyter-widgets/controls",
            "_model_module_version": "1.5.0",
            "value": " 361/485 [02:00&lt;00:41,  2.99it/s]",
            "_view_count": null,
            "_view_module_version": "1.5.0",
            "description_tooltip": null,
            "_model_module": "@jupyter-widgets/controls",
            "layout": "IPY_MODEL_a1e7268c54754128ab267de12b5bf622"
          }
        },
        "a1a62239f0f3497bb29248f4142ae539": {
          "model_module": "@jupyter-widgets/controls",
          "model_name": "ProgressStyleModel",
          "state": {
            "_view_name": "StyleView",
            "_model_name": "ProgressStyleModel",
            "description_width": "initial",
            "_view_module": "@jupyter-widgets/base",
            "_model_module_version": "1.5.0",
            "_view_count": null,
            "_view_module_version": "1.2.0",
            "bar_color": null,
            "_model_module": "@jupyter-widgets/controls"
          }
        },
        "ab2a081a037749098a6b4b57bd2bddfc": {
          "model_module": "@jupyter-widgets/base",
          "model_name": "LayoutModel",
          "state": {
            "_view_name": "LayoutView",
            "grid_template_rows": null,
            "right": null,
            "justify_content": null,
            "_view_module": "@jupyter-widgets/base",
            "overflow": null,
            "_model_module_version": "1.2.0",
            "_view_count": null,
            "flex_flow": null,
            "width": null,
            "min_width": null,
            "border": null,
            "align_items": null,
            "bottom": null,
            "_model_module": "@jupyter-widgets/base",
            "top": null,
            "grid_column": null,
            "overflow_y": null,
            "overflow_x": null,
            "grid_auto_flow": null,
            "grid_area": null,
            "grid_template_columns": null,
            "flex": null,
            "_model_name": "LayoutModel",
            "justify_items": null,
            "grid_row": null,
            "max_height": null,
            "align_content": null,
            "visibility": null,
            "align_self": null,
            "height": null,
            "min_height": null,
            "padding": null,
            "grid_auto_rows": null,
            "grid_gap": null,
            "max_width": null,
            "order": null,
            "_view_module_version": "1.2.0",
            "grid_template_areas": null,
            "object_position": null,
            "object_fit": null,
            "grid_auto_columns": null,
            "margin": null,
            "display": null,
            "left": null
          }
        },
        "d511757a854c46b1aa45c6f06a582763": {
          "model_module": "@jupyter-widgets/controls",
          "model_name": "DescriptionStyleModel",
          "state": {
            "_view_name": "StyleView",
            "_model_name": "DescriptionStyleModel",
            "description_width": "",
            "_view_module": "@jupyter-widgets/base",
            "_model_module_version": "1.5.0",
            "_view_count": null,
            "_view_module_version": "1.2.0",
            "_model_module": "@jupyter-widgets/controls"
          }
        },
        "a1e7268c54754128ab267de12b5bf622": {
          "model_module": "@jupyter-widgets/base",
          "model_name": "LayoutModel",
          "state": {
            "_view_name": "LayoutView",
            "grid_template_rows": null,
            "right": null,
            "justify_content": null,
            "_view_module": "@jupyter-widgets/base",
            "overflow": null,
            "_model_module_version": "1.2.0",
            "_view_count": null,
            "flex_flow": null,
            "width": null,
            "min_width": null,
            "border": null,
            "align_items": null,
            "bottom": null,
            "_model_module": "@jupyter-widgets/base",
            "top": null,
            "grid_column": null,
            "overflow_y": null,
            "overflow_x": null,
            "grid_auto_flow": null,
            "grid_area": null,
            "grid_template_columns": null,
            "flex": null,
            "_model_name": "LayoutModel",
            "justify_items": null,
            "grid_row": null,
            "max_height": null,
            "align_content": null,
            "visibility": null,
            "align_self": null,
            "height": null,
            "min_height": null,
            "padding": null,
            "grid_auto_rows": null,
            "grid_gap": null,
            "max_width": null,
            "order": null,
            "_view_module_version": "1.2.0",
            "grid_template_areas": null,
            "object_position": null,
            "object_fit": null,
            "grid_auto_columns": null,
            "margin": null,
            "display": null,
            "left": null
          }
        }
      }
    }
  },
  "cells": [
    {
      "cell_type": "code",
      "metadata": {
        "id": "hV717VRJ4FKz",
        "colab_type": "code",
        "colab": {}
      },
      "source": [
        "# from google.colab import drive\n",
        "# drive.mount('/content/drive')"
      ],
      "execution_count": 0,
      "outputs": []
    },
    {
      "cell_type": "code",
      "metadata": {
        "id": "1NOEhobX4nJz",
        "colab_type": "code",
        "colab": {}
      },
      "source": [
        "import os\n",
        "os.chdir(\"./drive/My Drive/EVA/ULTRON-VISION/ultron-vision\")"
      ],
      "execution_count": 0,
      "outputs": []
    },
    {
      "cell_type": "code",
      "metadata": {
        "id": "UGRyRmhO47DJ",
        "colab_type": "code",
        "outputId": "fa303665-20fe-4d41-b2d7-d76ad0976c60",
        "colab": {
          "base_uri": "https://localhost:8080/",
          "height": 372
        }
      },
      "source": [
        "!nvidia-smi"
      ],
      "execution_count": 3,
      "outputs": [
        {
          "output_type": "stream",
          "text": [
            "Sat Jun 13 08:08:50 2020       \n",
            "+-----------------------------------------------------------------------------+\n",
            "| NVIDIA-SMI 450.36.06    Driver Version: 418.67       CUDA Version: 10.1     |\n",
            "|-------------------------------+----------------------+----------------------+\n",
            "| GPU  Name        Persistence-M| Bus-Id        Disp.A | Volatile Uncorr. ECC |\n",
            "| Fan  Temp  Perf  Pwr:Usage/Cap|         Memory-Usage | GPU-Util  Compute M. |\n",
            "|                               |                      |               MIG M. |\n",
            "|===============================+======================+======================|\n",
            "|   0  Tesla P100-PCIE...  Off  | 00000000:00:04.0 Off |                    0 |\n",
            "| N/A   63C    P0    47W / 250W |      0MiB / 16280MiB |      0%      Default |\n",
            "|                               |                      |                 ERR! |\n",
            "+-------------------------------+----------------------+----------------------+\n",
            "                                                                               \n",
            "+-----------------------------------------------------------------------------+\n",
            "| Processes:                                                                  |\n",
            "|  GPU   GI   CI        PID   Type   Process name                  GPU Memory |\n",
            "|        ID   ID                                                   Usage      |\n",
            "|=============================================================================|\n",
            "|  No running processes found                                                 |\n",
            "+-----------------------------------------------------------------------------+\n"
          ],
          "name": "stdout"
        }
      ]
    },
    {
      "cell_type": "code",
      "metadata": {
        "id": "XTrUOv3E4805",
        "colab_type": "code",
        "outputId": "6207c85c-fc61-4ff1-dc8a-bd018a8af7a4",
        "colab": {
          "base_uri": "https://localhost:8080/",
          "height": 34
        }
      },
      "source": [
        "curr_dir = os.path.abspath(\".\")\n",
        "curr_dir"
      ],
      "execution_count": 4,
      "outputs": [
        {
          "output_type": "execute_result",
          "data": {
            "text/plain": [
              "'/content/drive/My Drive/EVA/ULTRON-VISION/ultron-vision'"
            ]
          },
          "metadata": {
            "tags": []
          },
          "execution_count": 4
        }
      ]
    },
    {
      "cell_type": "code",
      "metadata": {
        "id": "ev-Y9p-p5D50",
        "colab_type": "code",
        "colab": {}
      },
      "source": [
        "import sys\n",
        "sys.path.append(os.path.join(curr_dir))"
      ],
      "execution_count": 0,
      "outputs": []
    },
    {
      "cell_type": "code",
      "metadata": {
        "id": "eETuli7z5Xq0",
        "colab_type": "code",
        "colab": {}
      },
      "source": [
        "# !pip install -r requirements.txt"
      ],
      "execution_count": 0,
      "outputs": []
    },
    {
      "cell_type": "code",
      "metadata": {
        "id": "RgJo7kMR5Rfa",
        "colab_type": "code",
        "colab": {}
      },
      "source": [
        "# import agent libraries\n",
        "from agents import *\n",
        "from inference import *\n",
        "from utils.config import process_config"
      ],
      "execution_count": 0,
      "outputs": []
    },
    {
      "cell_type": "code",
      "metadata": {
        "id": "pCjLq8il6Pm8",
        "colab_type": "code",
        "colab": {}
      },
      "source": [
        "# get config of agent\n",
        "config_path = \"configs/cifar10_config.json\""
      ],
      "execution_count": 0,
      "outputs": []
    },
    {
      "cell_type": "code",
      "metadata": {
        "id": "8bSojnuP6YaU",
        "colab_type": "code",
        "outputId": "64292c43-0056-4a41-996c-ebd33e2f3b27",
        "colab": {
          "base_uri": "https://localhost:8080/",
          "height": 798
        }
      },
      "source": [
        "config = process_config(config_path)"
      ],
      "execution_count": 9,
      "outputs": [
        {
          "output_type": "stream",
          "text": [
            "[INFO]: Hi, This is Ultron. Nice to meet you!!!\n",
            "[INFO]: Saving Configuration\n",
            "[INFO]: Configurations are successfully processed and dirs are created.\n",
            "[INFO]: The pipeline of the project will begin now.\n"
          ],
          "name": "stderr"
        },
        {
          "output_type": "stream",
          "text": [
            "****************************\n",
            "CONFIGURATION OF THIS EXPERIMENT\n",
            "****************************\n",
            "{'agent': 'Cifar10Agent',\n",
            " 'batch_size': 64,\n",
            " 'checkpoint_file': 'checkpoint.pth.tar',\n",
            " 'epochs': 50,\n",
            " 'exp_name': 'cifar10_exp-009',\n",
            " 'gpu_device': 0,\n",
            " 'inference_agent': 'Cifar10IAgent',\n",
            " 'input_size': [3, 32, 32],\n",
            " 'interpret_image': True,\n",
            " 'l1_decay': 1e-06,\n",
            " 'l2_decay': 0.005,\n",
            " 'learning_rate': 0.1,\n",
            " 'load_checkpoint': True,\n",
            " 'mean': [0.4914, 0.4822, 0.4465],\n",
            " 'model_stats_file': 'stats.json',\n",
            " 'momentum': 0.9,\n",
            " 'num_workers': 4,\n",
            " 'pin_memory': True,\n",
            " 'save_checkpoint': True,\n",
            " 'scheduler': {'kwargs': {'anneal_strategy': 'cos',\n",
            "                          'base_momentum': 0.85,\n",
            "                          'cycle_momentum': True,\n",
            "                          'div_factor': 10,\n",
            "                          'final_div_factor': 10000.0,\n",
            "                          'last_epoch': -1,\n",
            "                          'max_momentum': 0.95,\n",
            "                          'pct_start': 0.3},\n",
            "               'lr_factor': 1,\n",
            "               'name': 'OneCycleLR'},\n",
            " 'seed': 1,\n",
            " 'std': [0.2023, 0.1994, 0.201],\n",
            " 'use_cuda': True,\n",
            " 'use_scheduler': True,\n",
            " 'visualize_inline': True}\n",
            "****************************\n",
            "Experiment : cifar10_exp-009\n",
            "****************************\n"
          ],
          "name": "stdout"
        }
      ]
    },
    {
      "cell_type": "markdown",
      "metadata": {
        "id": "bNsI6v853zkp",
        "colab_type": "text"
      },
      "source": [
        "# EXPERIMENT 1"
      ]
    },
    {
      "cell_type": "markdown",
      "metadata": {
        "id": "9FPs7l3pG6sB",
        "colab_type": "text"
      },
      "source": [
        "high batch size, increasing for 20% of iterations, high l2 decay = 0.005"
      ]
    },
    {
      "cell_type": "code",
      "metadata": {
        "id": "2lo7fK_N6r6X",
        "colab_type": "code",
        "colab": {}
      },
      "source": [
        "# as we are using one cycle policy we are defining arguments for the scheduler for testing\n",
        "config[\"batch_size\"] = 512\n",
        "config[\"scheduler\"][\"kwargs\"][\"pct_start\"] = 0.2\n",
        "config[\"epochs\"] = 24\n",
        "config[\"l2_decay\"] = 0.005 # high decay\n",
        "config[\"scheduler\"][\"kwargs\"][\"div_factor\"] = 10\n",
        "config[\"scheduler\"][\"kwargs\"][\"final_div_factor\"] = 1000\n",
        "config[\"scheduler\"][\"kwargs\"][\"epochs\"] = 24\n",
        "config[\"scheduler\"][\"kwargs\"][\"anneal_strategy\"] = \"linear\""
      ],
      "execution_count": 0,
      "outputs": []
    },
    {
      "cell_type": "code",
      "metadata": {
        "id": "lDmupL4v5Sq5",
        "colab_type": "code",
        "outputId": "57425f9b-1469-4101-8182-8112393e2881",
        "colab": {
          "base_uri": "https://localhost:8080/",
          "height": 1000,
          "referenced_widgets": [
            "a1d9b45acd0945479979cba03420c82a",
            "c55eca10a33c4ec39df8ab34bc16ad27",
            "d0e6e052f82c4fd68f04d6d49b4d0892",
            "4ecad8906c1d4a7fb57ca265d0e57c9b",
            "5d325c26b1ef476ab420324cff581a13",
            "6706030126d246fc9c43a9f203c3c679",
            "5ee0a905127a4397a3918d2bd4919e5d",
            "ddd342d99786415fa4fff1c013ca71e0"
          ]
        }
      },
      "source": [
        "# initialize agent and find max_lr using lr_finder\n",
        "agent_class = globals()[config[\"agent\"]]\n",
        "agent = agent_class(config)"
      ],
      "execution_count": 11,
      "outputs": [
        {
          "output_type": "stream",
          "text": [
            "[INFO]: TRAINING MODE ACTIVATED!!!\n"
          ],
          "name": "stderr"
        },
        {
          "output_type": "stream",
          "text": [
            "Files already downloaded and verified\n",
            "Files already downloaded and verified\n"
          ],
          "name": "stdout"
        },
        {
          "output_type": "stream",
          "text": [
            "[INFO]: FINDING OPTIM LEARNING RATE...\n"
          ],
          "name": "stderr"
        },
        {
          "output_type": "display_data",
          "data": {
            "application/vnd.jupyter.widget-view+json": {
              "model_id": "a1d9b45acd0945479979cba03420c82a",
              "version_minor": 0,
              "version_major": 2
            },
            "text/plain": [
              "HBox(children=(FloatProgress(value=0.0, max=485.0), HTML(value='')))"
            ]
          },
          "metadata": {
            "tags": []
          }
        },
        {
          "output_type": "stream",
          "text": [
            "Stopping early, the loss has diverged\n",
            "\n",
            "Learning rate search finished. See the graph with {finder_name}.plot()\n"
          ],
          "name": "stdout"
        },
        {
          "output_type": "display_data",
          "data": {
            "image/png": "[encoded data removed]",
            "text/plain": [
              "<Figure size 432x288 with 1 Axes>"
            ]
          },
          "metadata": {
            "tags": [],
            "needs_background": "light"
          }
        },
        {
          "output_type": "stream",
          "text": [
            "[INFO]: Learning rate with minimum loss : 0.008836514445092735\n",
            "[INFO]: Setting optimizer to optim learning rate : 0.009\n",
            "[INFO]: Program will RUN on ****GPU-CUDA****\n",
            "[INFO]: __Python VERSION : 3.6.9 (default, Apr 18 2020, 01:56:04) \n",
            "[GCC 8.4.0]\n",
            "[INFO]: __pytorch VERSION : 1.5.0+cu101\n",
            "[INFO]: __CUDNN VERSION : 7603\n",
            "[INFO]: __Number CUDA Devices : 1\n",
            "[INFO]: __Devices\n",
            "[INFO]: Active CUDA Device : GPU 0\n",
            "[INFO]: Available devices 1\n",
            "[INFO]: Current CUDA device 0\n"
          ],
          "name": "stderr"
        },
        {
          "output_type": "stream",
          "text": [
            "****************************\n",
            "**********NETWORK SUMMARY**********\n",
            "----------------------------------------------------------------\n",
            "        Layer (type)               Output Shape         Param #\n",
            "================================================================\n",
            "            Conv2d-1           [-1, 64, 32, 32]           1,728\n",
            "    GhostBatchNorm-2           [-1, 64, 32, 32]             128\n",
            "              ReLU-3           [-1, 64, 32, 32]               0\n",
            "            Conv2d-4          [-1, 128, 32, 32]          73,728\n",
            "         MaxPool2d-5          [-1, 128, 16, 16]               0\n",
            "    GhostBatchNorm-6          [-1, 128, 16, 16]             256\n",
            "              ReLU-7          [-1, 128, 16, 16]               0\n",
            "            Conv2d-8          [-1, 128, 16, 16]         147,456\n",
            "    GhostBatchNorm-9          [-1, 128, 16, 16]             256\n",
            "             ReLU-10          [-1, 128, 16, 16]               0\n",
            "           Conv2d-11          [-1, 128, 16, 16]         147,456\n",
            "   GhostBatchNorm-12          [-1, 128, 16, 16]             256\n",
            "             ReLU-13          [-1, 128, 16, 16]               0\n",
            "       BasicBlock-14          [-1, 128, 16, 16]               0\n",
            "           Conv2d-15          [-1, 256, 16, 16]         294,912\n",
            "        MaxPool2d-16            [-1, 256, 8, 8]               0\n",
            "   GhostBatchNorm-17            [-1, 256, 8, 8]             512\n",
            "             ReLU-18            [-1, 256, 8, 8]               0\n",
            "           Conv2d-19            [-1, 512, 8, 8]       1,179,648\n",
            "        MaxPool2d-20            [-1, 512, 4, 4]               0\n",
            "   GhostBatchNorm-21            [-1, 512, 4, 4]           1,024\n",
            "             ReLU-22            [-1, 512, 4, 4]               0\n",
            "           Conv2d-23            [-1, 512, 4, 4]       2,359,296\n",
            "   GhostBatchNorm-24            [-1, 512, 4, 4]           1,024\n",
            "             ReLU-25            [-1, 512, 4, 4]               0\n",
            "           Conv2d-26            [-1, 512, 4, 4]       2,359,296\n",
            "   GhostBatchNorm-27            [-1, 512, 4, 4]           1,024\n",
            "             ReLU-28            [-1, 512, 4, 4]               0\n",
            "       BasicBlock-29            [-1, 512, 4, 4]               0\n",
            "        MaxPool2d-30            [-1, 512, 1, 1]               0\n",
            "           Linear-31                   [-1, 10]           5,130\n",
            "================================================================\n",
            "Total params: 6,573,130\n",
            "Trainable params: 6,573,130\n",
            "Non-trainable params: 0\n",
            "----------------------------------------------------------------\n",
            "Input size (MB): 0.01\n",
            "Forward/backward pass size (MB): 6.75\n",
            "Params size (MB): 25.07\n",
            "Estimated Total Size (MB): 31.84\n",
            "----------------------------------------------------------------\n",
            "****************************\n"
          ],
          "name": "stdout"
        }
      ]
    },
    {
      "cell_type": "code",
      "metadata": {
        "id": "cj9BJRvg7sNl",
        "colab_type": "code",
        "outputId": "968b87c5-9858-425a-942d-adb1874b0088",
        "colab": {
          "base_uri": "https://localhost:8080/",
          "height": 1000
        }
      },
      "source": [
        "import time\n",
        "start = time.time()\n",
        "# run for few epochs and check the graph\n",
        "agent.run()\n",
        "print(f\"\\nTime Taken {(time.time()-start)} seconds\")\n",
        "agent.finalize()"
      ],
      "execution_count": 12,
      "outputs": [
        {
          "output_type": "stream",
          "text": [
            "[INFO]: Current lr value = 0.0009\n",
            "loss = 7.278963088989258 batch_id = 97: 100%|██████████| 98/98 [00:20<00:00,  4.76it/s]\n",
            "[INFO]: TRAIN EPOCH : 0\tLOSS : 0.0195\tACC : 37.7200\n",
            "[INFO]: Saved Best Model\n",
            "[INFO]: VALID EPOCH : 0\tLOSS : 0.0032\tACC : 42.2100\n",
            "[INFO]: Current lr value = 0.0025910950149126543\n",
            "loss = 6.031548023223877 batch_id = 97: 100%|██████████| 98/98 [00:21<00:00,  4.59it/s]\n",
            "[INFO]: TRAIN EPOCH : 1\tLOSS : 0.0137\tACC : 58.5800\n",
            "[INFO]: Saved Best Model\n",
            "[INFO]: VALID EPOCH : 1\tLOSS : 0.0021\tACC : 63.7700\n",
            "[INFO]: Current lr value = 0.004282190029825309\n",
            "loss = 5.917501449584961 batch_id = 97: 100%|██████████| 98/98 [00:22<00:00,  4.30it/s]\n",
            "[INFO]: TRAIN EPOCH : 2\tLOSS : 0.0119\tACC : 67.5860\n",
            "[INFO]: Saved Best Model\n",
            "[INFO]: VALID EPOCH : 2\tLOSS : 0.0025\tACC : 63.9800\n",
            "[INFO]: Current lr value = 0.0059732850447379625\n",
            "loss = 5.846883773803711 batch_id = 97: 100%|██████████| 98/98 [00:22<00:00,  4.33it/s]\n",
            "[INFO]: TRAIN EPOCH : 3\tLOSS : 0.0110\tACC : 72.9620\n",
            "[INFO]: VALID EPOCH : 3\tLOSS : 0.0027\tACC : 61.9100\n",
            "[INFO]: Current lr value = 0.007664380059650617\n",
            "loss = 5.936976432800293 batch_id = 97: 100%|██████████| 98/98 [00:20<00:00,  4.73it/s]\n",
            "[INFO]: TRAIN EPOCH : 4\tLOSS : 0.0097\tACC : 78.2920\n",
            "[INFO]: Saved Best Model\n",
            "[INFO]: VALID EPOCH : 4\tLOSS : 0.0017\tACC : 74.4600\n",
            "[INFO]: Current lr value = 0.00890147669005102\n",
            "loss = 4.471010208129883 batch_id = 97: 100%|██████████| 98/98 [00:20<00:00,  4.69it/s]\n",
            "[INFO]: TRAIN EPOCH : 5\tLOSS : 0.0091\tACC : 81.0120\n",
            "[INFO]: Saved Best Model\n",
            "[INFO]: VALID EPOCH : 5\tLOSS : 0.0014\tACC : 78.5600\n",
            "[INFO]: Current lr value = 0.00843277356505102\n",
            "loss = 4.502510070800781 batch_id = 97: 100%|██████████| 98/98 [00:20<00:00,  4.75it/s]\n",
            "[INFO]: TRAIN EPOCH : 6\tLOSS : 0.0081\tACC : 84.6220\n",
            "[INFO]: Saved Best Model\n",
            "[INFO]: VALID EPOCH : 6\tLOSS : 0.0012\tACC : 80.8300\n",
            "[INFO]: Current lr value = 0.00796407044005102\n",
            "loss = 3.9321670532226562 batch_id = 97: 100%|██████████| 98/98 [00:20<00:00,  4.78it/s]\n",
            "[INFO]: TRAIN EPOCH : 7\tLOSS : 0.0075\tACC : 86.8800\n",
            "[INFO]: Saved Best Model\n",
            "[INFO]: VALID EPOCH : 7\tLOSS : 0.0011\tACC : 83.2700\n",
            "[INFO]: Current lr value = 0.00749536731505102\n",
            "loss = 3.6586227416992188 batch_id = 97: 100%|██████████| 98/98 [00:25<00:00,  3.90it/s]\n",
            "[INFO]: TRAIN EPOCH : 8\tLOSS : 0.0074\tACC : 87.6440\n",
            "[INFO]: Saved Best Model\n",
            "[INFO]: VALID EPOCH : 8\tLOSS : 0.0009\tACC : 85.3300\n",
            "[INFO]: Current lr value = 0.00702666419005102\n",
            "loss = 3.950690507888794 batch_id = 97: 100%|██████████| 98/98 [00:21<00:00,  4.66it/s]\n",
            "[INFO]: TRAIN EPOCH : 9\tLOSS : 0.0069\tACC : 89.3040\n",
            "[INFO]: Saved Best Model\n",
            "[INFO]: VALID EPOCH : 9\tLOSS : 0.0008\tACC : 86.6000\n",
            "[INFO]: Current lr value = 0.00655796106505102\n",
            "loss = 3.204590082168579 batch_id = 97: 100%|██████████| 98/98 [00:20<00:00,  4.67it/s]\n",
            "[INFO]: TRAIN EPOCH : 10\tLOSS : 0.0067\tACC : 90.3240\n",
            "[INFO]: VALID EPOCH : 10\tLOSS : 0.0009\tACC : 86.0800\n",
            "[INFO]: Current lr value = 0.00608925794005102\n",
            "loss = 3.4585719108581543 batch_id = 97: 100%|██████████| 98/98 [00:21<00:00,  4.56it/s]\n",
            "[INFO]: TRAIN EPOCH : 11\tLOSS : 0.0065\tACC : 91.2880\n",
            "[INFO]: VALID EPOCH : 11\tLOSS : 0.0009\tACC : 86.3400\n",
            "[INFO]: Current lr value = 0.0056205548150510196\n",
            "loss = 3.5917344093322754 batch_id = 97: 100%|██████████| 98/98 [00:21<00:00,  4.51it/s]\n",
            "[INFO]: TRAIN EPOCH : 12\tLOSS : 0.0061\tACC : 92.6400\n",
            "[INFO]: Saved Best Model\n",
            "[INFO]: VALID EPOCH : 12\tLOSS : 0.0008\tACC : 87.7500\n",
            "[INFO]: Current lr value = 0.0051518516900510205\n",
            "loss = 2.7921528816223145 batch_id = 97: 100%|██████████| 98/98 [00:21<00:00,  4.66it/s]\n",
            "[INFO]: TRAIN EPOCH : 13\tLOSS : 0.0060\tACC : 93.3960\n",
            "[INFO]: VALID EPOCH : 13\tLOSS : 0.0008\tACC : 87.2200\n",
            "[INFO]: Current lr value = 0.0046831485650510206\n",
            "loss = 2.917041301727295 batch_id = 97: 100%|██████████| 98/98 [00:21<00:00,  4.53it/s]\n",
            "[INFO]: TRAIN EPOCH : 14\tLOSS : 0.0058\tACC : 94.3320\n",
            "[INFO]: Saved Best Model\n",
            "[INFO]: VALID EPOCH : 14\tLOSS : 0.0008\tACC : 88.3300\n",
            "[INFO]: Current lr value = 0.00421444544005102\n",
            "loss = 2.8125686645507812 batch_id = 97: 100%|██████████| 98/98 [00:21<00:00,  4.60it/s]\n",
            "[INFO]: TRAIN EPOCH : 15\tLOSS : 0.0056\tACC : 94.9340\n",
            "[INFO]: Saved Best Model\n",
            "[INFO]: VALID EPOCH : 15\tLOSS : 0.0007\tACC : 89.1100\n",
            "[INFO]: Current lr value = 0.00374574231505102\n",
            "loss = 2.6072585582733154 batch_id = 97: 100%|██████████| 98/98 [00:21<00:00,  4.54it/s]\n",
            "[INFO]: TRAIN EPOCH : 16\tLOSS : 0.0054\tACC : 95.9940\n",
            "[INFO]: Saved Best Model\n",
            "[INFO]: VALID EPOCH : 16\tLOSS : 0.0007\tACC : 89.3400\n",
            "[INFO]: Current lr value = 0.0032770391900510207\n",
            "loss = 2.502307891845703 batch_id = 97: 100%|██████████| 98/98 [00:21<00:00,  4.59it/s]\n",
            "[INFO]: TRAIN EPOCH : 17\tLOSS : 0.0053\tACC : 96.3900\n",
            "[INFO]: VALID EPOCH : 17\tLOSS : 0.0008\tACC : 88.7200\n",
            "[INFO]: Current lr value = 0.00280833606505102\n",
            "loss = 2.572183609008789 batch_id = 97: 100%|██████████| 98/98 [00:21<00:00,  4.53it/s]\n",
            "[INFO]: TRAIN EPOCH : 18\tLOSS : 0.0051\tACC : 97.0300\n",
            "[INFO]: Saved Best Model\n",
            "[INFO]: VALID EPOCH : 18\tLOSS : 0.0007\tACC : 89.9000\n",
            "[INFO]: Current lr value = 0.00233963294005102\n",
            "loss = 2.531745672225952 batch_id = 97: 100%|██████████| 98/98 [00:22<00:00,  4.45it/s]\n",
            "[INFO]: TRAIN EPOCH : 19\tLOSS : 0.0050\tACC : 97.5980\n",
            "[INFO]: Saved Best Model\n",
            "[INFO]: VALID EPOCH : 19\tLOSS : 0.0007\tACC : 89.9700\n",
            "[INFO]: Current lr value = 0.001870929815051021\n",
            "loss = 2.4638710021972656 batch_id = 97: 100%|██████████| 98/98 [00:21<00:00,  4.48it/s]\n",
            "[INFO]: TRAIN EPOCH : 20\tLOSS : 0.0049\tACC : 98.0760\n",
            "[INFO]: Saved Best Model\n",
            "[INFO]: VALID EPOCH : 20\tLOSS : 0.0007\tACC : 90.6700\n",
            "[INFO]: Current lr value = 0.0014022266900510201\n",
            "loss = 2.427605390548706 batch_id = 97: 100%|██████████| 98/98 [00:21<00:00,  4.63it/s]\n",
            "[INFO]: TRAIN EPOCH : 21\tLOSS : 0.0048\tACC : 98.5740\n",
            "[INFO]: Saved Best Model\n",
            "[INFO]: VALID EPOCH : 21\tLOSS : 0.0006\tACC : 90.8700\n",
            "[INFO]: Current lr value = 0.0009335235650510202\n",
            "loss = 2.4240994453430176 batch_id = 97: 100%|██████████| 98/98 [00:20<00:00,  4.67it/s]\n",
            "[INFO]: TRAIN EPOCH : 22\tLOSS : 0.0047\tACC : 98.9960\n",
            "[INFO]: Saved Best Model\n",
            "[INFO]: VALID EPOCH : 22\tLOSS : 0.0006\tACC : 91.0600\n",
            "[INFO]: Current lr value = 0.00046482044005102113\n",
            "loss = 2.346728563308716 batch_id = 97: 100%|██████████| 98/98 [00:21<00:00,  4.64it/s]\n",
            "[INFO]: TRAIN EPOCH : 23\tLOSS : 0.0047\tACC : 99.1560\n",
            "[INFO]: VALID EPOCH : 23\tLOSS : 0.0006\tACC : 90.8900\n",
            "[INFO]: Please wait while finalizing the operations.. Thank you\n"
          ],
          "name": "stderr"
        },
        {
          "output_type": "stream",
          "text": [
            "\n",
            "Time Taken 943.8736324310303 seconds\n"
          ],
          "name": "stdout"
        }
      ]
    },
    {
      "cell_type": "code",
      "metadata": {
        "id": "CS8Quyeu7uJQ",
        "colab_type": "code",
        "outputId": "9470e108-f79f-4416-c1fc-1a5f2a3a2724",
        "colab": {
          "base_uri": "https://localhost:8080/",
          "height": 1000
        }
      },
      "source": [
        "iagent_class = globals()[config[\"inference_agent\"]]\n",
        "iagent = iagent_class(config)\n",
        "iagent.plot_lr_graph()\n",
        "iagent.plot_accuracy_graph()\n",
        "iagent.plot_loss_graph()"
      ],
      "execution_count": 13,
      "outputs": [
        {
          "output_type": "stream",
          "text": [
            "[INFO]: INFERENCE MODE ACTIVATED!!!\n"
          ],
          "name": "stderr"
        },
        {
          "output_type": "stream",
          "text": [
            "Files already downloaded and verified\n",
            "Files already downloaded and verified\n"
          ],
          "name": "stdout"
        },
        {
          "output_type": "stream",
          "text": [
            "[INFO]: Program will RUN on ****GPU-CUDA****\n"
          ],
          "name": "stderr"
        },
        {
          "output_type": "display_data",
          "data": {
            "image/png": "[encoded data removed]",
            "text/plain": [
              "<Figure size 360x360 with 1 Axes>"
            ]
          },
          "metadata": {
            "tags": [],
            "needs_background": "light"
          }
        },
        {
          "output_type": "stream",
          "text": [
            "[INFO]: Learning Rate Graph saved.\n"
          ],
          "name": "stderr"
        },
        {
          "output_type": "display_data",
          "data": {
            "image/png": "[encoded data removed]",
            "text/plain": [
              "<Figure size 360x360 with 1 Axes>"
            ]
          },
          "metadata": {
            "tags": [],
            "needs_background": "light"
          }
        },
        {
          "output_type": "stream",
          "text": [
            "[INFO]: Accuracy Graph saved.\n"
          ],
          "name": "stderr"
        },
        {
          "output_type": "display_data",
          "data": {
            "image/png": "[encoded data removed]",
            "text/plain": [
              "<Figure size 360x360 with 1 Axes>"
            ]
          },
          "metadata": {
            "tags": [],
            "needs_background": "light"
          }
        },
        {
          "output_type": "stream",
          "text": [
            "[INFO]: Loss Graph saved.\n"
          ],
          "name": "stderr"
        }
      ]
    },
    {
      "cell_type": "markdown",
      "metadata": {
        "id": "ifafu-gidHj2",
        "colab_type": "text"
      },
      "source": [
        "Can see overfitting early stage.\n",
        "\n",
        "Let's check when keeping l2 decay low"
      ]
    },
    {
      "cell_type": "code",
      "metadata": {
        "id": "BQOJXKHJdGeL",
        "colab_type": "code",
        "colab": {}
      },
      "source": [
        ""
      ],
      "execution_count": 0,
      "outputs": []
    },
    {
      "cell_type": "markdown",
      "metadata": {
        "id": "COrYdPSf7vGe",
        "colab_type": "text"
      },
      "source": [
        "# EXPERIMENT 2"
      ]
    },
    {
      "cell_type": "markdown",
      "metadata": {
        "id": "I6fNbwQ0dURo",
        "colab_type": "text"
      },
      "source": [
        "change l2_decay from 0.005 > 0.0005\n",
        "\n",
        "and final_div_factor = 1 "
      ]
    },
    {
      "cell_type": "code",
      "metadata": {
        "id": "buvlBak87t54",
        "colab_type": "code",
        "colab": {}
      },
      "source": [
        "# as we are using one cycle policy we are defining arguments for the scheduler for testing\n",
        "config[\"batch_size\"] = 512\n",
        "config[\"scheduler\"][\"kwargs\"][\"pct_start\"] = 0.2\n",
        "config[\"epochs\"] = 24\n",
        "config[\"l2_decay\"] = 0.0005 # low decay\n",
        "config[\"scheduler\"][\"kwargs\"][\"div_factor\"] = 10\n",
        "config[\"scheduler\"][\"kwargs\"][\"final_div_factor\"] = 1\n",
        "config[\"scheduler\"][\"kwargs\"][\"epochs\"] = 24\n",
        "config[\"scheduler\"][\"kwargs\"][\"anneal_strategy\"] = \"linear\""
      ],
      "execution_count": 0,
      "outputs": []
    },
    {
      "cell_type": "code",
      "metadata": {
        "id": "aCFJzF5p7tus",
        "colab_type": "code",
        "outputId": "d407f1d5-81f6-43a1-8365-4af359b4ebe7",
        "colab": {
          "base_uri": "https://localhost:8080/",
          "height": 1000,
          "referenced_widgets": [
            "71eca1e822304d818a1a33ae160abd78",
            "9e9968815e9e423c925cbce0b2fcbdd0",
            "0567a04aafa74552a1871d1de2119c8a",
            "2cd0d7f1233249c69d72f190c47eabf5",
            "70bf1e4b886c45ffb279d64b095566fc",
            "3fb1a0a5388d4b21be0b14d2d7aa94c1",
            "a3a5b6edc160456dae35ba9342f9c655",
            "476283d235574e048ff426c80e38baa0"
          ]
        }
      },
      "source": [
        "# initialize agent and find max_lr using lr_finder\n",
        "agent_class = globals()[config[\"agent\"]]\n",
        "agent = agent_class(config)"
      ],
      "execution_count": 15,
      "outputs": [
        {
          "output_type": "stream",
          "text": [
            "[INFO]: TRAINING MODE ACTIVATED!!!\n"
          ],
          "name": "stderr"
        },
        {
          "output_type": "stream",
          "text": [
            "Files already downloaded and verified\n",
            "Files already downloaded and verified\n"
          ],
          "name": "stdout"
        },
        {
          "output_type": "stream",
          "text": [
            "[INFO]: FINDING OPTIM LEARNING RATE...\n"
          ],
          "name": "stderr"
        },
        {
          "output_type": "display_data",
          "data": {
            "application/vnd.jupyter.widget-view+json": {
              "model_id": "71eca1e822304d818a1a33ae160abd78",
              "version_minor": 0,
              "version_major": 2
            },
            "text/plain": [
              "HBox(children=(FloatProgress(value=0.0, max=485.0), HTML(value='')))"
            ]
          },
          "metadata": {
            "tags": []
          }
        },
        {
          "output_type": "stream",
          "text": [
            "Stopping early, the loss has diverged\n",
            "\n",
            "Learning rate search finished. See the graph with {finder_name}.plot()\n"
          ],
          "name": "stdout"
        },
        {
          "output_type": "display_data",
          "data": {
            "image/png": "[encoded data removed]",
            "text/plain": [
              "<Figure size 432x288 with 1 Axes>"
            ]
          },
          "metadata": {
            "tags": [],
            "needs_background": "light"
          }
        },
        {
          "output_type": "stream",
          "text": [
            "[INFO]: Learning rate with minimum loss : 0.008466149835157154\n",
            "[INFO]: Setting optimizer to optim learning rate : 0.008\n",
            "[INFO]: Program will RUN on ****GPU-CUDA****\n",
            "[INFO]: __Python VERSION : 3.6.9 (default, Apr 18 2020, 01:56:04) \n",
            "[GCC 8.4.0]\n",
            "[INFO]: __pytorch VERSION : 1.5.0+cu101\n",
            "[INFO]: __CUDNN VERSION : 7603\n",
            "[INFO]: __Number CUDA Devices : 1\n",
            "[INFO]: __Devices\n",
            "[INFO]: Active CUDA Device : GPU 0\n",
            "[INFO]: Available devices 1\n",
            "[INFO]: Current CUDA device 0\n"
          ],
          "name": "stderr"
        },
        {
          "output_type": "stream",
          "text": [
            "****************************\n",
            "**********NETWORK SUMMARY**********\n",
            "----------------------------------------------------------------\n",
            "        Layer (type)               Output Shape         Param #\n",
            "================================================================\n",
            "            Conv2d-1           [-1, 64, 32, 32]           1,728\n",
            "    GhostBatchNorm-2           [-1, 64, 32, 32]             128\n",
            "              ReLU-3           [-1, 64, 32, 32]               0\n",
            "            Conv2d-4          [-1, 128, 32, 32]          73,728\n",
            "         MaxPool2d-5          [-1, 128, 16, 16]               0\n",
            "    GhostBatchNorm-6          [-1, 128, 16, 16]             256\n",
            "              ReLU-7          [-1, 128, 16, 16]               0\n",
            "            Conv2d-8          [-1, 128, 16, 16]         147,456\n",
            "    GhostBatchNorm-9          [-1, 128, 16, 16]             256\n",
            "             ReLU-10          [-1, 128, 16, 16]               0\n",
            "           Conv2d-11          [-1, 128, 16, 16]         147,456\n",
            "   GhostBatchNorm-12          [-1, 128, 16, 16]             256\n",
            "             ReLU-13          [-1, 128, 16, 16]               0\n",
            "       BasicBlock-14          [-1, 128, 16, 16]               0\n",
            "           Conv2d-15          [-1, 256, 16, 16]         294,912\n",
            "        MaxPool2d-16            [-1, 256, 8, 8]               0\n",
            "   GhostBatchNorm-17            [-1, 256, 8, 8]             512\n",
            "             ReLU-18            [-1, 256, 8, 8]               0\n",
            "           Conv2d-19            [-1, 512, 8, 8]       1,179,648\n",
            "        MaxPool2d-20            [-1, 512, 4, 4]               0\n",
            "   GhostBatchNorm-21            [-1, 512, 4, 4]           1,024\n",
            "             ReLU-22            [-1, 512, 4, 4]               0\n",
            "           Conv2d-23            [-1, 512, 4, 4]       2,359,296\n",
            "   GhostBatchNorm-24            [-1, 512, 4, 4]           1,024\n",
            "             ReLU-25            [-1, 512, 4, 4]               0\n",
            "           Conv2d-26            [-1, 512, 4, 4]       2,359,296\n",
            "   GhostBatchNorm-27            [-1, 512, 4, 4]           1,024\n",
            "             ReLU-28            [-1, 512, 4, 4]               0\n",
            "       BasicBlock-29            [-1, 512, 4, 4]               0\n",
            "        MaxPool2d-30            [-1, 512, 1, 1]               0\n",
            "           Linear-31                   [-1, 10]           5,130\n",
            "================================================================\n",
            "Total params: 6,573,130\n",
            "Trainable params: 6,573,130\n",
            "Non-trainable params: 0\n",
            "----------------------------------------------------------------\n",
            "Input size (MB): 0.01\n",
            "Forward/backward pass size (MB): 6.75\n",
            "Params size (MB): 25.07\n",
            "Estimated Total Size (MB): 31.84\n",
            "----------------------------------------------------------------\n",
            "****************************\n"
          ],
          "name": "stdout"
        }
      ]
    },
    {
      "cell_type": "code",
      "metadata": {
        "id": "BWqFb4qJ9wls",
        "colab_type": "code",
        "outputId": "307d842d-095a-4e4e-e902-3f69eaafc9a5",
        "colab": {
          "base_uri": "https://localhost:8080/",
          "height": 1000
        }
      },
      "source": [
        "import time\n",
        "start = time.time()\n",
        "# run for few epochs and check the graph\n",
        "agent.run()\n",
        "print(f\"\\nTime Taken {(time.time()-start)} seconds\")\n",
        "agent.finalize()"
      ],
      "execution_count": 16,
      "outputs": [
        {
          "output_type": "stream",
          "text": [
            "[INFO]: Current lr value = 0.0008\n",
            "loss = 5.880067348480225 batch_id = 97: 100%|██████████| 98/98 [00:22<00:00,  4.31it/s]\n",
            "[INFO]: TRAIN EPOCH : 0\tLOSS : 0.0134\tACC : 44.3100\n",
            "[INFO]: Saved Best Model\n",
            "[INFO]: VALID EPOCH : 0\tLOSS : 0.0025\tACC : 56.6600\n",
            "[INFO]: Current lr value = 0.002303195568811248\n",
            "loss = 4.0003437995910645 batch_id = 97: 100%|██████████| 98/98 [00:21<00:00,  4.47it/s]\n",
            "[INFO]: TRAIN EPOCH : 1\tLOSS : 0.0091\tACC : 63.8280\n",
            "[INFO]: Saved Best Model\n",
            "[INFO]: VALID EPOCH : 1\tLOSS : 0.0017\tACC : 69.5500\n",
            "[INFO]: Current lr value = 0.0038063911376224964\n",
            "loss = 3.2998831272125244 batch_id = 97: 100%|██████████| 98/98 [00:23<00:00,  4.22it/s]\n",
            "[INFO]: TRAIN EPOCH : 2\tLOSS : 0.0078\tACC : 71.1360\n",
            "[INFO]: Saved Best Model\n",
            "[INFO]: VALID EPOCH : 2\tLOSS : 0.0015\tACC : 74.6400\n",
            "[INFO]: Current lr value = 0.005309586706433745\n",
            "loss = 3.844680070877075 batch_id = 97: 100%|██████████| 98/98 [00:23<00:00,  4.26it/s]\n",
            "[INFO]: TRAIN EPOCH : 3\tLOSS : 0.0063\tACC : 76.7980\n",
            "[INFO]: VALID EPOCH : 3\tLOSS : 0.0017\tACC : 73.2700\n",
            "[INFO]: Current lr value = 0.006812782275244993\n",
            "loss = 2.838036060333252 batch_id = 97: 100%|██████████| 98/98 [00:21<00:00,  4.61it/s]\n",
            "[INFO]: TRAIN EPOCH : 4\tLOSS : 0.0060\tACC : 79.2800\n",
            "[INFO]: Saved Best Model\n",
            "[INFO]: VALID EPOCH : 4\tLOSS : 0.0014\tACC : 78.7800\n",
            "[INFO]: Current lr value = 0.007921173469387756\n",
            "loss = 2.262765645980835 batch_id = 97: 100%|██████████| 98/98 [00:21<00:00,  4.55it/s]\n",
            "[INFO]: TRAIN EPOCH : 5\tLOSS : 0.0047\tACC : 83.8580\n",
            "[INFO]: VALID EPOCH : 5\tLOSS : 0.0015\tACC : 78.1400\n",
            "[INFO]: Current lr value = 0.007546173469387755\n",
            "loss = 2.5878801345825195 batch_id = 97: 100%|██████████| 98/98 [00:22<00:00,  4.28it/s]\n",
            "[INFO]: TRAIN EPOCH : 6\tLOSS : 0.0041\tACC : 85.9680\n",
            "[INFO]: Saved Best Model\n",
            "[INFO]: VALID EPOCH : 6\tLOSS : 0.0011\tACC : 82.6900\n",
            "[INFO]: Current lr value = 0.0071711734693877555\n",
            "loss = 2.1303181648254395 batch_id = 97: 100%|██████████| 98/98 [00:24<00:00,  4.06it/s]\n",
            "[INFO]: TRAIN EPOCH : 7\tLOSS : 0.0040\tACC : 86.5480\n",
            "[INFO]: Saved Best Model\n",
            "[INFO]: VALID EPOCH : 7\tLOSS : 0.0010\tACC : 84.6300\n",
            "[INFO]: Current lr value = 0.006796173469387755\n",
            "loss = 1.9842400550842285 batch_id = 97: 100%|██████████| 98/98 [00:21<00:00,  4.56it/s]\n",
            "[INFO]: TRAIN EPOCH : 8\tLOSS : 0.0034\tACC : 89.0760\n",
            "[INFO]: Saved Best Model\n",
            "[INFO]: VALID EPOCH : 8\tLOSS : 0.0009\tACC : 85.7800\n",
            "[INFO]: Current lr value = 0.006421173469387755\n",
            "loss = 1.5780125856399536 batch_id = 97: 100%|██████████| 98/98 [00:21<00:00,  4.56it/s]\n",
            "[INFO]: TRAIN EPOCH : 9\tLOSS : 0.0031\tACC : 90.4020\n",
            "[INFO]: VALID EPOCH : 9\tLOSS : 0.0010\tACC : 85.1000\n",
            "[INFO]: Current lr value = 0.006046173469387755\n",
            "loss = 1.3642241954803467 batch_id = 97: 100%|██████████| 98/98 [00:21<00:00,  4.49it/s]\n",
            "[INFO]: TRAIN EPOCH : 10\tLOSS : 0.0028\tACC : 91.6240\n",
            "[INFO]: Saved Best Model\n",
            "[INFO]: VALID EPOCH : 10\tLOSS : 0.0008\tACC : 87.3600\n",
            "[INFO]: Current lr value = 0.005671173469387756\n",
            "loss = 1.501373529434204 batch_id = 97: 100%|██████████| 98/98 [00:21<00:00,  4.62it/s]\n",
            "[INFO]: TRAIN EPOCH : 11\tLOSS : 0.0027\tACC : 92.3540\n",
            "[INFO]: VALID EPOCH : 11\tLOSS : 0.0010\tACC : 85.3900\n",
            "[INFO]: Current lr value = 0.005296173469387756\n",
            "loss = 1.216842532157898 batch_id = 97: 100%|██████████| 98/98 [00:21<00:00,  4.62it/s]\n",
            "[INFO]: TRAIN EPOCH : 12\tLOSS : 0.0024\tACC : 93.4300\n",
            "[INFO]: VALID EPOCH : 12\tLOSS : 0.0009\tACC : 86.5200\n",
            "[INFO]: Current lr value = 0.004921173469387755\n",
            "loss = 0.9130364656448364 batch_id = 97: 100%|██████████| 98/98 [00:21<00:00,  4.63it/s]\n",
            "[INFO]: TRAIN EPOCH : 13\tLOSS : 0.0022\tACC : 94.4600\n",
            "[INFO]: VALID EPOCH : 13\tLOSS : 0.0009\tACC : 87.1900\n",
            "[INFO]: Current lr value = 0.004546173469387756\n",
            "loss = 1.2278988361358643 batch_id = 97: 100%|██████████| 98/98 [00:21<00:00,  4.59it/s]\n",
            "[INFO]: TRAIN EPOCH : 14\tLOSS : 0.0020\tACC : 95.1980\n",
            "[INFO]: Saved Best Model\n",
            "[INFO]: VALID EPOCH : 14\tLOSS : 0.0008\tACC : 88.2100\n",
            "[INFO]: Current lr value = 0.0041711734693877555\n",
            "loss = 1.1082274913787842 batch_id = 97: 100%|██████████| 98/98 [00:23<00:00,  4.09it/s]\n",
            "[INFO]: TRAIN EPOCH : 15\tLOSS : 0.0019\tACC : 95.8940\n",
            "[INFO]: Saved Best Model\n",
            "[INFO]: VALID EPOCH : 15\tLOSS : 0.0008\tACC : 89.0700\n",
            "[INFO]: Current lr value = 0.003796173469387755\n",
            "loss = 0.9123051762580872 batch_id = 97: 100%|██████████| 98/98 [00:20<00:00,  4.72it/s]\n",
            "[INFO]: TRAIN EPOCH : 16\tLOSS : 0.0018\tACC : 96.2640\n",
            "[INFO]: VALID EPOCH : 16\tLOSS : 0.0009\tACC : 88.2000\n",
            "[INFO]: Current lr value = 0.0034211734693877557\n",
            "loss = 0.84561687707901 batch_id = 97: 100%|██████████| 98/98 [00:21<00:00,  4.65it/s]\n",
            "[INFO]: TRAIN EPOCH : 17\tLOSS : 0.0017\tACC : 96.8100\n",
            "[INFO]: VALID EPOCH : 17\tLOSS : 0.0008\tACC : 89.0300\n",
            "[INFO]: Current lr value = 0.0030461734693877553\n",
            "loss = 0.859695553779602 batch_id = 97: 100%|██████████| 98/98 [00:21<00:00,  4.53it/s]\n",
            "[INFO]: TRAIN EPOCH : 18\tLOSS : 0.0016\tACC : 96.9560\n",
            "[INFO]: Saved Best Model\n",
            "[INFO]: VALID EPOCH : 18\tLOSS : 0.0008\tACC : 89.3400\n",
            "[INFO]: Current lr value = 0.002671173469387755\n",
            "loss = 0.737382173538208 batch_id = 97: 100%|██████████| 98/98 [00:23<00:00,  4.19it/s]\n",
            "[INFO]: TRAIN EPOCH : 19\tLOSS : 0.0015\tACC : 97.6600\n",
            "[INFO]: Saved Best Model\n",
            "[INFO]: VALID EPOCH : 19\tLOSS : 0.0007\tACC : 89.8900\n",
            "[INFO]: Current lr value = 0.0022961734693877555\n",
            "loss = 0.7218027710914612 batch_id = 97: 100%|██████████| 98/98 [00:21<00:00,  4.46it/s]\n",
            "[INFO]: TRAIN EPOCH : 20\tLOSS : 0.0014\tACC : 97.9760\n",
            "[INFO]: VALID EPOCH : 20\tLOSS : 0.0008\tACC : 89.8600\n",
            "[INFO]: Current lr value = 0.0019211734693877552\n",
            "loss = 0.6776409149169922 batch_id = 97: 100%|██████████| 98/98 [00:21<00:00,  4.53it/s]\n",
            "[INFO]: TRAIN EPOCH : 21\tLOSS : 0.0013\tACC : 98.4500\n",
            "[INFO]: VALID EPOCH : 21\tLOSS : 0.0008\tACC : 89.6700\n",
            "[INFO]: Current lr value = 0.0015461734693877549\n",
            "loss = 0.6250818371772766 batch_id = 97: 100%|██████████| 98/98 [00:21<00:00,  4.52it/s]\n",
            "[INFO]: TRAIN EPOCH : 22\tLOSS : 0.0013\tACC : 98.6760\n",
            "[INFO]: Saved Best Model\n",
            "[INFO]: VALID EPOCH : 22\tLOSS : 0.0007\tACC : 90.2000\n",
            "[INFO]: Current lr value = 0.0011711734693877554\n",
            "loss = 0.5556058287620544 batch_id = 97: 100%|██████████| 98/98 [00:21<00:00,  4.50it/s]\n",
            "[INFO]: TRAIN EPOCH : 23\tLOSS : 0.0012\tACC : 98.8980\n",
            "[INFO]: Saved Best Model\n",
            "[INFO]: VALID EPOCH : 23\tLOSS : 0.0007\tACC : 90.4200\n",
            "[INFO]: Please wait while finalizing the operations.. Thank you\n"
          ],
          "name": "stderr"
        },
        {
          "output_type": "stream",
          "text": [
            "\n",
            "Time Taken 861.3795909881592 seconds\n"
          ],
          "name": "stdout"
        }
      ]
    },
    {
      "cell_type": "code",
      "metadata": {
        "id": "E2TnROar_Ap0",
        "colab_type": "code",
        "outputId": "7367fed9-d2b9-414e-9c4c-c87b49516b79",
        "colab": {
          "base_uri": "https://localhost:8080/",
          "height": 1000
        }
      },
      "source": [
        "iagent_class = globals()[config[\"inference_agent\"]]\n",
        "iagent = iagent_class(config)\n",
        "iagent.plot_lr_graph()\n",
        "iagent.plot_accuracy_graph()\n",
        "iagent.plot_loss_graph()"
      ],
      "execution_count": 17,
      "outputs": [
        {
          "output_type": "stream",
          "text": [
            "[INFO]: INFERENCE MODE ACTIVATED!!!\n"
          ],
          "name": "stderr"
        },
        {
          "output_type": "stream",
          "text": [
            "Files already downloaded and verified\n",
            "Files already downloaded and verified\n"
          ],
          "name": "stdout"
        },
        {
          "output_type": "stream",
          "text": [
            "[INFO]: Program will RUN on ****GPU-CUDA****\n"
          ],
          "name": "stderr"
        },
        {
          "output_type": "display_data",
          "data": {
            "image/png": "[encoded data removed]",
            "text/plain": [
              "<Figure size 360x360 with 1 Axes>"
            ]
          },
          "metadata": {
            "tags": [],
            "needs_background": "light"
          }
        },
        {
          "output_type": "stream",
          "text": [
            "[INFO]: Learning Rate Graph saved.\n"
          ],
          "name": "stderr"
        },
        {
          "output_type": "display_data",
          "data": {
            "image/png": "[encoded data removed]",
            "text/plain": [
              "<Figure size 360x360 with 1 Axes>"
            ]
          },
          "metadata": {
            "tags": [],
            "needs_background": "light"
          }
        },
        {
          "output_type": "stream",
          "text": [
            "[INFO]: Accuracy Graph saved.\n"
          ],
          "name": "stderr"
        },
        {
          "output_type": "display_data",
          "data": {
            "image/png": "[encoded data removed]",
            "text/plain": [
              "<Figure size 360x360 with 1 Axes>"
            ]
          },
          "metadata": {
            "tags": [],
            "needs_background": "light"
          }
        },
        {
          "output_type": "stream",
          "text": [
            "[INFO]: Loss Graph saved.\n"
          ],
          "name": "stderr"
        }
      ]
    },
    {
      "cell_type": "markdown",
      "metadata": {
        "id": "vncWrbzeiZ2v",
        "colab_type": "text"
      },
      "source": [
        "Though, decreasing l2 norm, the gap between train and val loss has decreased with much extent.\n",
        "\n",
        "There are clear signs of overfitting. We will add some augumentation."
      ]
    },
    {
      "cell_type": "markdown",
      "metadata": {
        "id": "TBmQhVdGBTH0",
        "colab_type": "text"
      },
      "source": [
        "# EXPERIMENT 3"
      ]
    },
    {
      "cell_type": "markdown",
      "metadata": {
        "id": "y8OuYvXVHO-3",
        "colab_type": "text"
      },
      "source": [
        "added rotate augmentation, do final_div_factor with 100"
      ]
    },
    {
      "cell_type": "code",
      "metadata": {
        "id": "D3xLqSCjA9-u",
        "colab_type": "code",
        "colab": {}
      },
      "source": [
        "# as we are using one cycle policy we are defining arguments for the scheduler for testing\n",
        "config[\"batch_size\"] = 512\n",
        "config[\"scheduler\"][\"kwargs\"][\"pct_start\"] = 0.2\n",
        "config[\"epochs\"] = 24\n",
        "config[\"l2_decay\"] = 0.0005 # low decay\n",
        "config[\"scheduler\"][\"kwargs\"][\"div_factor\"] = 10\n",
        "config[\"scheduler\"][\"kwargs\"][\"final_div_factor\"] = 100\n",
        "config[\"scheduler\"][\"kwargs\"][\"epochs\"] = 24\n",
        "config[\"scheduler\"][\"kwargs\"][\"anneal_strategy\"] = \"linear\""
      ],
      "execution_count": 0,
      "outputs": []
    },
    {
      "cell_type": "code",
      "metadata": {
        "id": "ytUC9LIgBl6k",
        "colab_type": "code",
        "outputId": "910898df-dcb7-4a01-d5aa-b74e8cc8eb2a",
        "colab": {
          "base_uri": "https://localhost:8080/",
          "height": 1000,
          "referenced_widgets": [
            "af4fb48ecb3741f8b13a92c18f213490",
            "f1aa20b486df4977bdb1fcdeb9b6e2bc",
            "b07270c26e8a4a91a2e5f07f78bb4f9c",
            "0d9074c009874c0bb46783a6709c80e6",
            "a1a62239f0f3497bb29248f4142ae539",
            "ab2a081a037749098a6b4b57bd2bddfc",
            "d511757a854c46b1aa45c6f06a582763",
            "a1e7268c54754128ab267de12b5bf622"
          ]
        }
      },
      "source": [
        "# initialize agent and find max_lr using lr_finder\n",
        "agent_class = globals()[config[\"agent\"]]\n",
        "agent = agent_class(config)"
      ],
      "execution_count": 11,
      "outputs": [
        {
          "output_type": "stream",
          "text": [
            "[INFO]: TRAINING MODE ACTIVATED!!!\n"
          ],
          "name": "stderr"
        },
        {
          "output_type": "stream",
          "text": [
            "Files already downloaded and verified\n",
            "Files already downloaded and verified\n"
          ],
          "name": "stdout"
        },
        {
          "output_type": "stream",
          "text": [
            "[INFO]: FINDING OPTIM LEARNING RATE...\n"
          ],
          "name": "stderr"
        },
        {
          "output_type": "display_data",
          "data": {
            "application/vnd.jupyter.widget-view+json": {
              "model_id": "af4fb48ecb3741f8b13a92c18f213490",
              "version_minor": 0,
              "version_major": 2
            },
            "text/plain": [
              "HBox(children=(FloatProgress(value=0.0, max=485.0), HTML(value='')))"
            ]
          },
          "metadata": {
            "tags": []
          }
        },
        {
          "output_type": "stream",
          "text": [
            "Stopping early, the loss has diverged\n",
            "\n",
            "Learning rate search finished. See the graph with {finder_name}.plot()\n"
          ],
          "name": "stdout"
        },
        {
          "output_type": "display_data",
          "data": {
            "image/png": "[encoded data removed]",
            "text/plain": [
              "<Figure size 432x288 with 1 Axes>"
            ]
          },
          "metadata": {
            "tags": [],
            "needs_background": "light"
          }
        },
        {
          "output_type": "stream",
          "text": [
            "[INFO]: Learning rate with minimum loss : 0.006273655416076465\n",
            "[INFO]: Setting optimizer to optim learning rate : 0.006\n",
            "[INFO]: Program will RUN on ****GPU-CUDA****\n",
            "[INFO]: __Python VERSION : 3.6.9 (default, Apr 18 2020, 01:56:04) \n",
            "[GCC 8.4.0]\n",
            "[INFO]: __pytorch VERSION : 1.5.0+cu101\n",
            "[INFO]: __CUDNN VERSION : 7603\n",
            "[INFO]: __Number CUDA Devices : 1\n",
            "[INFO]: __Devices\n",
            "[INFO]: Active CUDA Device : GPU 0\n",
            "[INFO]: Available devices 1\n",
            "[INFO]: Current CUDA device 0\n"
          ],
          "name": "stderr"
        },
        {
          "output_type": "stream",
          "text": [
            "****************************\n",
            "**********NETWORK SUMMARY**********\n",
            "----------------------------------------------------------------\n",
            "        Layer (type)               Output Shape         Param #\n",
            "================================================================\n",
            "            Conv2d-1           [-1, 64, 32, 32]           1,728\n",
            "    GhostBatchNorm-2           [-1, 64, 32, 32]             128\n",
            "              ReLU-3           [-1, 64, 32, 32]               0\n",
            "            Conv2d-4          [-1, 128, 32, 32]          73,728\n",
            "         MaxPool2d-5          [-1, 128, 16, 16]               0\n",
            "    GhostBatchNorm-6          [-1, 128, 16, 16]             256\n",
            "              ReLU-7          [-1, 128, 16, 16]               0\n",
            "            Conv2d-8          [-1, 128, 16, 16]         147,456\n",
            "    GhostBatchNorm-9          [-1, 128, 16, 16]             256\n",
            "             ReLU-10          [-1, 128, 16, 16]               0\n",
            "           Conv2d-11          [-1, 128, 16, 16]         147,456\n",
            "   GhostBatchNorm-12          [-1, 128, 16, 16]             256\n",
            "             ReLU-13          [-1, 128, 16, 16]               0\n",
            "       BasicBlock-14          [-1, 128, 16, 16]               0\n",
            "           Conv2d-15          [-1, 256, 16, 16]         294,912\n",
            "        MaxPool2d-16            [-1, 256, 8, 8]               0\n",
            "   GhostBatchNorm-17            [-1, 256, 8, 8]             512\n",
            "             ReLU-18            [-1, 256, 8, 8]               0\n",
            "           Conv2d-19            [-1, 512, 8, 8]       1,179,648\n",
            "        MaxPool2d-20            [-1, 512, 4, 4]               0\n",
            "   GhostBatchNorm-21            [-1, 512, 4, 4]           1,024\n",
            "             ReLU-22            [-1, 512, 4, 4]               0\n",
            "           Conv2d-23            [-1, 512, 4, 4]       2,359,296\n",
            "   GhostBatchNorm-24            [-1, 512, 4, 4]           1,024\n",
            "             ReLU-25            [-1, 512, 4, 4]               0\n",
            "           Conv2d-26            [-1, 512, 4, 4]       2,359,296\n",
            "   GhostBatchNorm-27            [-1, 512, 4, 4]           1,024\n",
            "             ReLU-28            [-1, 512, 4, 4]               0\n",
            "       BasicBlock-29            [-1, 512, 4, 4]               0\n",
            "        MaxPool2d-30            [-1, 512, 1, 1]               0\n",
            "           Linear-31                   [-1, 10]           5,130\n",
            "================================================================\n",
            "Total params: 6,573,130\n",
            "Trainable params: 6,573,130\n",
            "Non-trainable params: 0\n",
            "----------------------------------------------------------------\n",
            "Input size (MB): 0.01\n",
            "Forward/backward pass size (MB): 6.75\n",
            "Params size (MB): 25.07\n",
            "Estimated Total Size (MB): 31.84\n",
            "----------------------------------------------------------------\n",
            "****************************\n"
          ],
          "name": "stdout"
        }
      ]
    },
    {
      "cell_type": "code",
      "metadata": {
        "id": "ElU0F1aQBz1p",
        "colab_type": "code",
        "outputId": "92b8ada1-6d70-4bd3-cfb4-5950ca933d80",
        "colab": {
          "base_uri": "https://localhost:8080/",
          "height": 1000
        }
      },
      "source": [
        "import time\n",
        "start = time.time()\n",
        "# run for few epochs and check the graph\n",
        "agent.run()\n",
        "print(f\"\\nTime Taken {(time.time()-start)} seconds\")\n",
        "agent.finalize()"
      ],
      "execution_count": 12,
      "outputs": [
        {
          "output_type": "stream",
          "text": [
            "[INFO]: Current lr value = 0.0006000000000000001\n",
            "loss = 5.171276092529297 batch_id = 97: 100%|██████████| 98/98 [00:23<00:00,  4.20it/s]\n",
            "[INFO]: TRAIN EPOCH : 0\tLOSS : 0.0134\tACC : 43.3380\n",
            "[INFO]: Saved Best Model\n",
            "[INFO]: VALID EPOCH : 0\tLOSS : 0.0025\tACC : 55.4000\n",
            "[INFO]: Current lr value = 0.0017273966766084363\n",
            "loss = 3.9410955905914307 batch_id = 97: 100%|██████████| 98/98 [00:24<00:00,  3.98it/s]\n",
            "[INFO]: TRAIN EPOCH : 1\tLOSS : 0.0094\tACC : 62.6820\n",
            "[INFO]: Saved Best Model\n",
            "[INFO]: VALID EPOCH : 1\tLOSS : 0.0022\tACC : 65.4400\n",
            "[INFO]: Current lr value = 0.002854793353216873\n",
            "loss = 3.1715848445892334 batch_id = 97: 100%|██████████| 98/98 [00:24<00:00,  4.06it/s]\n",
            "[INFO]: TRAIN EPOCH : 2\tLOSS : 0.0080\tACC : 69.1940\n",
            "[INFO]: Saved Best Model\n",
            "[INFO]: VALID EPOCH : 2\tLOSS : 0.0018\tACC : 71.2900\n",
            "[INFO]: Current lr value = 0.003982190029825309\n",
            "loss = 3.3815197944641113 batch_id = 97: 100%|██████████| 98/98 [00:24<00:00,  3.99it/s]\n",
            "[INFO]: TRAIN EPOCH : 3\tLOSS : 0.0071\tACC : 73.9340\n",
            "[INFO]: VALID EPOCH : 3\tLOSS : 0.0018\tACC : 70.3700\n",
            "[INFO]: Current lr value = 0.005109586706433745\n",
            "loss = 3.130856513977051 batch_id = 97: 100%|██████████| 98/98 [00:23<00:00,  4.17it/s]\n",
            "[INFO]: TRAIN EPOCH : 4\tLOSS : 0.0063\tACC : 77.1140\n",
            "[INFO]: Saved Best Model\n",
            "[INFO]: VALID EPOCH : 4\tLOSS : 0.0014\tACC : 77.5200\n",
            "[INFO]: Current lr value = 0.005934376913265306\n",
            "loss = 2.628723621368408 batch_id = 97: 100%|██████████| 98/98 [00:27<00:00,  3.63it/s]\n",
            "[INFO]: TRAIN EPOCH : 5\tLOSS : 0.0053\tACC : 81.0080\n",
            "[INFO]: Saved Best Model\n",
            "[INFO]: VALID EPOCH : 5\tLOSS : 0.0012\tACC : 81.7300\n",
            "[INFO]: Current lr value = 0.005622189413265306\n",
            "loss = 2.390957832336426 batch_id = 97: 100%|██████████| 98/98 [00:24<00:00,  3.94it/s]\n",
            "[INFO]: TRAIN EPOCH : 6\tLOSS : 0.0047\tACC : 83.2220\n",
            "[INFO]: Saved Best Model\n",
            "[INFO]: VALID EPOCH : 6\tLOSS : 0.0011\tACC : 82.0500\n",
            "[INFO]: Current lr value = 0.005310001913265306\n",
            "loss = 1.8781523704528809 batch_id = 97: 100%|██████████| 98/98 [00:26<00:00,  3.77it/s]\n",
            "[INFO]: TRAIN EPOCH : 7\tLOSS : 0.0041\tACC : 85.8580\n",
            "[INFO]: Saved Best Model\n",
            "[INFO]: VALID EPOCH : 7\tLOSS : 0.0010\tACC : 84.1400\n",
            "[INFO]: Current lr value = 0.004997814413265306\n",
            "loss = 2.0623903274536133 batch_id = 97: 100%|██████████| 98/98 [00:27<00:00,  3.63it/s]\n",
            "[INFO]: TRAIN EPOCH : 8\tLOSS : 0.0038\tACC : 87.3500\n",
            "[INFO]: VALID EPOCH : 8\tLOSS : 0.0010\tACC : 83.9900\n",
            "[INFO]: Current lr value = 0.004685626913265306\n",
            "loss = 2.015362024307251 batch_id = 97: 100%|██████████| 98/98 [00:25<00:00,  3.92it/s]\n",
            "[INFO]: TRAIN EPOCH : 9\tLOSS : 0.0035\tACC : 88.6840\n",
            "[INFO]: Saved Best Model\n",
            "[INFO]: VALID EPOCH : 9\tLOSS : 0.0009\tACC : 85.5700\n",
            "[INFO]: Current lr value = 0.004373439413265306\n",
            "loss = 1.4807195663452148 batch_id = 97: 100%|██████████| 98/98 [00:24<00:00,  4.02it/s]\n",
            "[INFO]: TRAIN EPOCH : 10\tLOSS : 0.0032\tACC : 89.8960\n",
            "[INFO]: Saved Best Model\n",
            "[INFO]: VALID EPOCH : 10\tLOSS : 0.0008\tACC : 86.5900\n",
            "[INFO]: Current lr value = 0.004061251913265306\n",
            "loss = 1.5907429456710815 batch_id = 97: 100%|██████████| 98/98 [00:24<00:00,  4.05it/s]\n",
            "[INFO]: TRAIN EPOCH : 11\tLOSS : 0.0030\tACC : 90.7180\n",
            "[INFO]: VALID EPOCH : 11\tLOSS : 0.0009\tACC : 86.1800\n",
            "[INFO]: Current lr value = 0.0037490644132653064\n",
            "loss = 1.68672513961792 batch_id = 97: 100%|██████████| 98/98 [00:24<00:00,  3.99it/s]\n",
            "[INFO]: TRAIN EPOCH : 12\tLOSS : 0.0029\tACC : 91.2360\n",
            "[INFO]: Saved Best Model\n",
            "[INFO]: VALID EPOCH : 12\tLOSS : 0.0007\tACC : 88.1900\n",
            "[INFO]: Current lr value = 0.0034368769132653064\n",
            "loss = 1.1815065145492554 batch_id = 97: 100%|██████████| 98/98 [00:24<00:00,  4.01it/s]\n",
            "[INFO]: TRAIN EPOCH : 13\tLOSS : 0.0025\tACC : 92.8160\n",
            "[INFO]: VALID EPOCH : 13\tLOSS : 0.0008\tACC : 87.8100\n",
            "[INFO]: Current lr value = 0.0031246894132653065\n",
            "loss = 1.0802433490753174 batch_id = 97: 100%|██████████| 98/98 [00:24<00:00,  3.97it/s]\n",
            "[INFO]: TRAIN EPOCH : 14\tLOSS : 0.0024\tACC : 93.4960\n",
            "[INFO]: Saved Best Model\n",
            "[INFO]: VALID EPOCH : 14\tLOSS : 0.0008\tACC : 88.6200\n",
            "[INFO]: Current lr value = 0.002812501913265306\n",
            "loss = 0.9732697010040283 batch_id = 97: 100%|██████████| 98/98 [00:28<00:00,  3.45it/s]\n",
            "[INFO]: TRAIN EPOCH : 15\tLOSS : 0.0023\tACC : 94.0120\n",
            "[INFO]: Saved Best Model\n",
            "[INFO]: VALID EPOCH : 15\tLOSS : 0.0007\tACC : 88.9700\n",
            "[INFO]: Current lr value = 0.002500314413265306\n",
            "loss = 1.1604256629943848 batch_id = 97: 100%|██████████| 98/98 [00:24<00:00,  3.99it/s]\n",
            "[INFO]: TRAIN EPOCH : 16\tLOSS : 0.0021\tACC : 94.9520\n",
            "[INFO]: Saved Best Model\n",
            "[INFO]: VALID EPOCH : 16\tLOSS : 0.0007\tACC : 89.2500\n",
            "[INFO]: Current lr value = 0.0021881269132653066\n",
            "loss = 1.1806361675262451 batch_id = 97: 100%|██████████| 98/98 [00:28<00:00,  3.45it/s]\n",
            "[INFO]: TRAIN EPOCH : 17\tLOSS : 0.0019\tACC : 95.6760\n",
            "[INFO]: VALID EPOCH : 17\tLOSS : 0.0008\tACC : 89.1400\n",
            "[INFO]: Current lr value = 0.0018759394132653066\n",
            "loss = 0.9959564208984375 batch_id = 97: 100%|██████████| 98/98 [00:35<00:00,  2.78it/s]\n",
            "[INFO]: TRAIN EPOCH : 18\tLOSS : 0.0018\tACC : 96.1300\n",
            "[INFO]: VALID EPOCH : 18\tLOSS : 0.0007\tACC : 89.1900\n",
            "[INFO]: Current lr value = 0.0015637519132653058\n",
            "loss = 1.0396367311477661 batch_id = 97: 100%|██████████| 98/98 [00:23<00:00,  4.13it/s]\n",
            "[INFO]: TRAIN EPOCH : 19\tLOSS : 0.0017\tACC : 96.6560\n",
            "[INFO]: Saved Best Model\n",
            "[INFO]: VALID EPOCH : 19\tLOSS : 0.0007\tACC : 89.7400\n",
            "[INFO]: Current lr value = 0.0012515644132653067\n",
            "loss = 0.8903884887695312 batch_id = 97: 100%|██████████| 98/98 [00:28<00:00,  3.46it/s]\n",
            "[INFO]: TRAIN EPOCH : 20\tLOSS : 0.0016\tACC : 97.2440\n",
            "[INFO]: Saved Best Model\n",
            "[INFO]: VALID EPOCH : 20\tLOSS : 0.0007\tACC : 90.1200\n",
            "[INFO]: Current lr value = 0.0009393769132653058\n",
            "loss = 0.6483094692230225 batch_id = 97: 100%|██████████| 98/98 [00:26<00:00,  3.73it/s]\n",
            "[INFO]: TRAIN EPOCH : 21\tLOSS : 0.0015\tACC : 97.6700\n",
            "[INFO]: VALID EPOCH : 21\tLOSS : 0.0006\tACC : 90.1000\n",
            "[INFO]: Current lr value = 0.0006271894132653059\n",
            "loss = 0.6284737586975098 batch_id = 97: 100%|██████████| 98/98 [00:31<00:00,  3.08it/s]\n",
            "[INFO]: TRAIN EPOCH : 22\tLOSS : 0.0014\tACC : 98.0000\n",
            "[INFO]: Saved Best Model\n",
            "[INFO]: VALID EPOCH : 22\tLOSS : 0.0006\tACC : 90.4400\n",
            "[INFO]: Current lr value = 0.0003150019132653059\n",
            "loss = 0.6468449234962463 batch_id = 97: 100%|██████████| 98/98 [00:26<00:00,  3.68it/s]\n",
            "[INFO]: TRAIN EPOCH : 23\tLOSS : 0.0013\tACC : 98.4380\n",
            "[INFO]: VALID EPOCH : 23\tLOSS : 0.0006\tACC : 90.4000\n",
            "[INFO]: Please wait while finalizing the operations.. Thank you\n"
          ],
          "name": "stderr"
        },
        {
          "output_type": "stream",
          "text": [
            "\n",
            "Time Taken 965.0798389911652 seconds\n"
          ],
          "name": "stdout"
        }
      ]
    },
    {
      "cell_type": "code",
      "metadata": {
        "id": "MLoavqbXCC9f",
        "colab_type": "code",
        "outputId": "8a55cfab-5a92-4264-ebc9-d78f576ba9d0",
        "colab": {
          "base_uri": "https://localhost:8080/",
          "height": 1000
        }
      },
      "source": [
        "iagent_class = globals()[config[\"inference_agent\"]]\n",
        "iagent = iagent_class(config)\n",
        "iagent.plot_lr_graph()\n",
        "iagent.plot_accuracy_graph()\n",
        "iagent.plot_loss_graph()"
      ],
      "execution_count": 13,
      "outputs": [
        {
          "output_type": "stream",
          "text": [
            "[INFO]: INFERENCE MODE ACTIVATED!!!\n"
          ],
          "name": "stderr"
        },
        {
          "output_type": "stream",
          "text": [
            "Files already downloaded and verified\n",
            "Files already downloaded and verified\n"
          ],
          "name": "stdout"
        },
        {
          "output_type": "stream",
          "text": [
            "[INFO]: Program will RUN on ****GPU-CUDA****\n"
          ],
          "name": "stderr"
        },
        {
          "output_type": "display_data",
          "data": {
            "image/png": "[encoded data removed]",
            "text/plain": [
              "<Figure size 360x360 with 1 Axes>"
            ]
          },
          "metadata": {
            "tags": [],
            "needs_background": "light"
          }
        },
        {
          "output_type": "stream",
          "text": [
            "[INFO]: Learning Rate Graph saved.\n"
          ],
          "name": "stderr"
        },
        {
          "output_type": "display_data",
          "data": {
            "image/png": "[encoded data removed]",
            "text/plain": [
              "<Figure size 360x360 with 1 Axes>"
            ]
          },
          "metadata": {
            "tags": [],
            "needs_background": "light"
          }
        },
        {
          "output_type": "stream",
          "text": [
            "[INFO]: Accuracy Graph saved.\n"
          ],
          "name": "stderr"
        },
        {
          "output_type": "display_data",
          "data": {
            "image/png": "[encoded data removed]",
            "text/plain": [
              "<Figure size 360x360 with 1 Axes>"
            ]
          },
          "metadata": {
            "tags": [],
            "needs_background": "light"
          }
        },
        {
          "output_type": "stream",
          "text": [
            "[INFO]: Loss Graph saved.\n"
          ],
          "name": "stderr"
        }
      ]
    }
  ]
}