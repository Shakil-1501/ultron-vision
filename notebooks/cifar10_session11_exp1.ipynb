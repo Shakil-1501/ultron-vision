{
  "nbformat": 4,
  "nbformat_minor": 0,
  "metadata": {
    "colab": {
      "name": "cifar10-session11-exp1.ipynb",
      "provenance": [],
      "collapsed_sections": [
        "bNsI6v853zkp",
        "COrYdPSf7vGe",
        "TBmQhVdGBTH0",
        "IuipyMeDEybz",
        "OE2wQ52oIG0r"
      ]
    },
    "kernelspec": {
      "name": "python3",
      "display_name": "Python 3"
    },
    "accelerator": "GPU",
    "widgets": {
      "application/vnd.jupyter.widget-state+json": {
        "957ff121af3b449ebb48c454fe241ec0": {
          "model_module": "@jupyter-widgets/controls",
          "model_name": "HBoxModel",
          "state": {
            "_view_name": "HBoxView",
            "_dom_classes": [],
            "_model_name": "HBoxModel",
            "_view_module": "@jupyter-widgets/controls",
            "_model_module_version": "1.5.0",
            "_view_count": null,
            "_view_module_version": "1.5.0",
            "box_style": "",
            "layout": "IPY_MODEL_7085a3b97e7b4c03850ad4fa48004f83",
            "_model_module": "@jupyter-widgets/controls",
            "children": [
              "IPY_MODEL_0ff64f1ca4c5465db4b0f4bdc1249946",
              "IPY_MODEL_78ba0e3b57bd4926b9eba0e79d7690a9"
            ]
          }
        },
        "7085a3b97e7b4c03850ad4fa48004f83": {
          "model_module": "@jupyter-widgets/base",
          "model_name": "LayoutModel",
          "state": {
            "_view_name": "LayoutView",
            "grid_template_rows": null,
            "right": null,
            "justify_content": null,
            "_view_module": "@jupyter-widgets/base",
            "overflow": null,
            "_model_module_version": "1.2.0",
            "_view_count": null,
            "flex_flow": null,
            "width": null,
            "min_width": null,
            "border": null,
            "align_items": null,
            "bottom": null,
            "_model_module": "@jupyter-widgets/base",
            "top": null,
            "grid_column": null,
            "overflow_y": null,
            "overflow_x": null,
            "grid_auto_flow": null,
            "grid_area": null,
            "grid_template_columns": null,
            "flex": null,
            "_model_name": "LayoutModel",
            "justify_items": null,
            "grid_row": null,
            "max_height": null,
            "align_content": null,
            "visibility": null,
            "align_self": null,
            "height": null,
            "min_height": null,
            "padding": null,
            "grid_auto_rows": null,
            "grid_gap": null,
            "max_width": null,
            "order": null,
            "_view_module_version": "1.2.0",
            "grid_template_areas": null,
            "object_position": null,
            "object_fit": null,
            "grid_auto_columns": null,
            "margin": null,
            "display": null,
            "left": null
          }
        },
        "0ff64f1ca4c5465db4b0f4bdc1249946": {
          "model_module": "@jupyter-widgets/controls",
          "model_name": "FloatProgressModel",
          "state": {
            "_view_name": "ProgressView",
            "style": "IPY_MODEL_d55a780a763444b5adbb71154d984adb",
            "_dom_classes": [],
            "description": " 92%",
            "_model_name": "FloatProgressModel",
            "bar_style": "danger",
            "max": 100,
            "_view_module": "@jupyter-widgets/controls",
            "_model_module_version": "1.5.0",
            "value": 92,
            "_view_count": null,
            "_view_module_version": "1.5.0",
            "orientation": "horizontal",
            "min": 0,
            "description_tooltip": null,
            "_model_module": "@jupyter-widgets/controls",
            "layout": "IPY_MODEL_c7a435c9c5fd4b6aaace1ac8fa902d08"
          }
        },
        "78ba0e3b57bd4926b9eba0e79d7690a9": {
          "model_module": "@jupyter-widgets/controls",
          "model_name": "HTMLModel",
          "state": {
            "_view_name": "HTMLView",
            "style": "IPY_MODEL_b0099df37ee54cad9557ff4f3fa2b5b0",
            "_dom_classes": [],
            "description": "",
            "_model_name": "HTMLModel",
            "placeholder": "​",
            "_view_module": "@jupyter-widgets/controls",
            "_model_module_version": "1.5.0",
            "value": " 92/100 [00:24&lt;00:02,  3.83it/s]",
            "_view_count": null,
            "_view_module_version": "1.5.0",
            "description_tooltip": null,
            "_model_module": "@jupyter-widgets/controls",
            "layout": "IPY_MODEL_cb28d005d7b7423f86862a06511f4f4d"
          }
        },
        "d55a780a763444b5adbb71154d984adb": {
          "model_module": "@jupyter-widgets/controls",
          "model_name": "ProgressStyleModel",
          "state": {
            "_view_name": "StyleView",
            "_model_name": "ProgressStyleModel",
            "description_width": "initial",
            "_view_module": "@jupyter-widgets/base",
            "_model_module_version": "1.5.0",
            "_view_count": null,
            "_view_module_version": "1.2.0",
            "bar_color": null,
            "_model_module": "@jupyter-widgets/controls"
          }
        },
        "c7a435c9c5fd4b6aaace1ac8fa902d08": {
          "model_module": "@jupyter-widgets/base",
          "model_name": "LayoutModel",
          "state": {
            "_view_name": "LayoutView",
            "grid_template_rows": null,
            "right": null,
            "justify_content": null,
            "_view_module": "@jupyter-widgets/base",
            "overflow": null,
            "_model_module_version": "1.2.0",
            "_view_count": null,
            "flex_flow": null,
            "width": null,
            "min_width": null,
            "border": null,
            "align_items": null,
            "bottom": null,
            "_model_module": "@jupyter-widgets/base",
            "top": null,
            "grid_column": null,
            "overflow_y": null,
            "overflow_x": null,
            "grid_auto_flow": null,
            "grid_area": null,
            "grid_template_columns": null,
            "flex": null,
            "_model_name": "LayoutModel",
            "justify_items": null,
            "grid_row": null,
            "max_height": null,
            "align_content": null,
            "visibility": null,
            "align_self": null,
            "height": null,
            "min_height": null,
            "padding": null,
            "grid_auto_rows": null,
            "grid_gap": null,
            "max_width": null,
            "order": null,
            "_view_module_version": "1.2.0",
            "grid_template_areas": null,
            "object_position": null,
            "object_fit": null,
            "grid_auto_columns": null,
            "margin": null,
            "display": null,
            "left": null
          }
        },
        "b0099df37ee54cad9557ff4f3fa2b5b0": {
          "model_module": "@jupyter-widgets/controls",
          "model_name": "DescriptionStyleModel",
          "state": {
            "_view_name": "StyleView",
            "_model_name": "DescriptionStyleModel",
            "description_width": "",
            "_view_module": "@jupyter-widgets/base",
            "_model_module_version": "1.5.0",
            "_view_count": null,
            "_view_module_version": "1.2.0",
            "_model_module": "@jupyter-widgets/controls"
          }
        },
        "cb28d005d7b7423f86862a06511f4f4d": {
          "model_module": "@jupyter-widgets/base",
          "model_name": "LayoutModel",
          "state": {
            "_view_name": "LayoutView",
            "grid_template_rows": null,
            "right": null,
            "justify_content": null,
            "_view_module": "@jupyter-widgets/base",
            "overflow": null,
            "_model_module_version": "1.2.0",
            "_view_count": null,
            "flex_flow": null,
            "width": null,
            "min_width": null,
            "border": null,
            "align_items": null,
            "bottom": null,
            "_model_module": "@jupyter-widgets/base",
            "top": null,
            "grid_column": null,
            "overflow_y": null,
            "overflow_x": null,
            "grid_auto_flow": null,
            "grid_area": null,
            "grid_template_columns": null,
            "flex": null,
            "_model_name": "LayoutModel",
            "justify_items": null,
            "grid_row": null,
            "max_height": null,
            "align_content": null,
            "visibility": null,
            "align_self": null,
            "height": null,
            "min_height": null,
            "padding": null,
            "grid_auto_rows": null,
            "grid_gap": null,
            "max_width": null,
            "order": null,
            "_view_module_version": "1.2.0",
            "grid_template_areas": null,
            "object_position": null,
            "object_fit": null,
            "grid_auto_columns": null,
            "margin": null,
            "display": null,
            "left": null
          }
        },
        "11fc47a695154aaf9299d1763b46286b": {
          "model_module": "@jupyter-widgets/controls",
          "model_name": "HBoxModel",
          "state": {
            "_view_name": "HBoxView",
            "_dom_classes": [],
            "_model_name": "HBoxModel",
            "_view_module": "@jupyter-widgets/controls",
            "_model_module_version": "1.5.0",
            "_view_count": null,
            "_view_module_version": "1.5.0",
            "box_style": "",
            "layout": "IPY_MODEL_8bfc230c420643d7a4bbdf68c53b3952",
            "_model_module": "@jupyter-widgets/controls",
            "children": [
              "IPY_MODEL_9b14feede40b4c55877fa0945af48dba",
              "IPY_MODEL_1fdc572370674d52813b5a3d8cc9b14e"
            ]
          }
        },
        "8bfc230c420643d7a4bbdf68c53b3952": {
          "model_module": "@jupyter-widgets/base",
          "model_name": "LayoutModel",
          "state": {
            "_view_name": "LayoutView",
            "grid_template_rows": null,
            "right": null,
            "justify_content": null,
            "_view_module": "@jupyter-widgets/base",
            "overflow": null,
            "_model_module_version": "1.2.0",
            "_view_count": null,
            "flex_flow": null,
            "width": null,
            "min_width": null,
            "border": null,
            "align_items": null,
            "bottom": null,
            "_model_module": "@jupyter-widgets/base",
            "top": null,
            "grid_column": null,
            "overflow_y": null,
            "overflow_x": null,
            "grid_auto_flow": null,
            "grid_area": null,
            "grid_template_columns": null,
            "flex": null,
            "_model_name": "LayoutModel",
            "justify_items": null,
            "grid_row": null,
            "max_height": null,
            "align_content": null,
            "visibility": null,
            "align_self": null,
            "height": null,
            "min_height": null,
            "padding": null,
            "grid_auto_rows": null,
            "grid_gap": null,
            "max_width": null,
            "order": null,
            "_view_module_version": "1.2.0",
            "grid_template_areas": null,
            "object_position": null,
            "object_fit": null,
            "grid_auto_columns": null,
            "margin": null,
            "display": null,
            "left": null
          }
        },
        "9b14feede40b4c55877fa0945af48dba": {
          "model_module": "@jupyter-widgets/controls",
          "model_name": "FloatProgressModel",
          "state": {
            "_view_name": "ProgressView",
            "style": "IPY_MODEL_b4d3fa3a8bea4c4bb7f643a3369fb22f",
            "_dom_classes": [],
            "description": " 93%",
            "_model_name": "FloatProgressModel",
            "bar_style": "danger",
            "max": 100,
            "_view_module": "@jupyter-widgets/controls",
            "_model_module_version": "1.5.0",
            "value": 93,
            "_view_count": null,
            "_view_module_version": "1.5.0",
            "orientation": "horizontal",
            "min": 0,
            "description_tooltip": null,
            "_model_module": "@jupyter-widgets/controls",
            "layout": "IPY_MODEL_569dc7c7a47d40208dbf1dcbf26f5aff"
          }
        },
        "1fdc572370674d52813b5a3d8cc9b14e": {
          "model_module": "@jupyter-widgets/controls",
          "model_name": "HTMLModel",
          "state": {
            "_view_name": "HTMLView",
            "style": "IPY_MODEL_b2361cc4b611445eb87a3025967c40c2",
            "_dom_classes": [],
            "description": "",
            "_model_name": "HTMLModel",
            "placeholder": "​",
            "_view_module": "@jupyter-widgets/controls",
            "_model_module_version": "1.5.0",
            "value": " 93/100 [00:24&lt;00:01,  3.85it/s]",
            "_view_count": null,
            "_view_module_version": "1.5.0",
            "description_tooltip": null,
            "_model_module": "@jupyter-widgets/controls",
            "layout": "IPY_MODEL_a57ccb98a535415e9af83d63f8c3e5fb"
          }
        },
        "b4d3fa3a8bea4c4bb7f643a3369fb22f": {
          "model_module": "@jupyter-widgets/controls",
          "model_name": "ProgressStyleModel",
          "state": {
            "_view_name": "StyleView",
            "_model_name": "ProgressStyleModel",
            "description_width": "initial",
            "_view_module": "@jupyter-widgets/base",
            "_model_module_version": "1.5.0",
            "_view_count": null,
            "_view_module_version": "1.2.0",
            "bar_color": null,
            "_model_module": "@jupyter-widgets/controls"
          }
        },
        "569dc7c7a47d40208dbf1dcbf26f5aff": {
          "model_module": "@jupyter-widgets/base",
          "model_name": "LayoutModel",
          "state": {
            "_view_name": "LayoutView",
            "grid_template_rows": null,
            "right": null,
            "justify_content": null,
            "_view_module": "@jupyter-widgets/base",
            "overflow": null,
            "_model_module_version": "1.2.0",
            "_view_count": null,
            "flex_flow": null,
            "width": null,
            "min_width": null,
            "border": null,
            "align_items": null,
            "bottom": null,
            "_model_module": "@jupyter-widgets/base",
            "top": null,
            "grid_column": null,
            "overflow_y": null,
            "overflow_x": null,
            "grid_auto_flow": null,
            "grid_area": null,
            "grid_template_columns": null,
            "flex": null,
            "_model_name": "LayoutModel",
            "justify_items": null,
            "grid_row": null,
            "max_height": null,
            "align_content": null,
            "visibility": null,
            "align_self": null,
            "height": null,
            "min_height": null,
            "padding": null,
            "grid_auto_rows": null,
            "grid_gap": null,
            "max_width": null,
            "order": null,
            "_view_module_version": "1.2.0",
            "grid_template_areas": null,
            "object_position": null,
            "object_fit": null,
            "grid_auto_columns": null,
            "margin": null,
            "display": null,
            "left": null
          }
        },
        "b2361cc4b611445eb87a3025967c40c2": {
          "model_module": "@jupyter-widgets/controls",
          "model_name": "DescriptionStyleModel",
          "state": {
            "_view_name": "StyleView",
            "_model_name": "DescriptionStyleModel",
            "description_width": "",
            "_view_module": "@jupyter-widgets/base",
            "_model_module_version": "1.5.0",
            "_view_count": null,
            "_view_module_version": "1.2.0",
            "_model_module": "@jupyter-widgets/controls"
          }
        },
        "a57ccb98a535415e9af83d63f8c3e5fb": {
          "model_module": "@jupyter-widgets/base",
          "model_name": "LayoutModel",
          "state": {
            "_view_name": "LayoutView",
            "grid_template_rows": null,
            "right": null,
            "justify_content": null,
            "_view_module": "@jupyter-widgets/base",
            "overflow": null,
            "_model_module_version": "1.2.0",
            "_view_count": null,
            "flex_flow": null,
            "width": null,
            "min_width": null,
            "border": null,
            "align_items": null,
            "bottom": null,
            "_model_module": "@jupyter-widgets/base",
            "top": null,
            "grid_column": null,
            "overflow_y": null,
            "overflow_x": null,
            "grid_auto_flow": null,
            "grid_area": null,
            "grid_template_columns": null,
            "flex": null,
            "_model_name": "LayoutModel",
            "justify_items": null,
            "grid_row": null,
            "max_height": null,
            "align_content": null,
            "visibility": null,
            "align_self": null,
            "height": null,
            "min_height": null,
            "padding": null,
            "grid_auto_rows": null,
            "grid_gap": null,
            "max_width": null,
            "order": null,
            "_view_module_version": "1.2.0",
            "grid_template_areas": null,
            "object_position": null,
            "object_fit": null,
            "grid_auto_columns": null,
            "margin": null,
            "display": null,
            "left": null
          }
        },
        "072ee977daf940908d182265deeb3060": {
          "model_module": "@jupyter-widgets/controls",
          "model_name": "HBoxModel",
          "state": {
            "_view_name": "HBoxView",
            "_dom_classes": [],
            "_model_name": "HBoxModel",
            "_view_module": "@jupyter-widgets/controls",
            "_model_module_version": "1.5.0",
            "_view_count": null,
            "_view_module_version": "1.5.0",
            "box_style": "",
            "layout": "IPY_MODEL_627d9d896ad247ffbce3a2bc3d302278",
            "_model_module": "@jupyter-widgets/controls",
            "children": [
              "IPY_MODEL_5fc2f61f2fcc4e5aaec81638667ff7ef",
              "IPY_MODEL_a39d168a67764f6f8e4f9f8ea5c6de1d"
            ]
          }
        },
        "627d9d896ad247ffbce3a2bc3d302278": {
          "model_module": "@jupyter-widgets/base",
          "model_name": "LayoutModel",
          "state": {
            "_view_name": "LayoutView",
            "grid_template_rows": null,
            "right": null,
            "justify_content": null,
            "_view_module": "@jupyter-widgets/base",
            "overflow": null,
            "_model_module_version": "1.2.0",
            "_view_count": null,
            "flex_flow": null,
            "width": null,
            "min_width": null,
            "border": null,
            "align_items": null,
            "bottom": null,
            "_model_module": "@jupyter-widgets/base",
            "top": null,
            "grid_column": null,
            "overflow_y": null,
            "overflow_x": null,
            "grid_auto_flow": null,
            "grid_area": null,
            "grid_template_columns": null,
            "flex": null,
            "_model_name": "LayoutModel",
            "justify_items": null,
            "grid_row": null,
            "max_height": null,
            "align_content": null,
            "visibility": null,
            "align_self": null,
            "height": null,
            "min_height": null,
            "padding": null,
            "grid_auto_rows": null,
            "grid_gap": null,
            "max_width": null,
            "order": null,
            "_view_module_version": "1.2.0",
            "grid_template_areas": null,
            "object_position": null,
            "object_fit": null,
            "grid_auto_columns": null,
            "margin": null,
            "display": null,
            "left": null
          }
        },
        "5fc2f61f2fcc4e5aaec81638667ff7ef": {
          "model_module": "@jupyter-widgets/controls",
          "model_name": "FloatProgressModel",
          "state": {
            "_view_name": "ProgressView",
            "style": "IPY_MODEL_23bc8004a3cc4806b5a69c573324c456",
            "_dom_classes": [],
            "description": " 94%",
            "_model_name": "FloatProgressModel",
            "bar_style": "danger",
            "max": 100,
            "_view_module": "@jupyter-widgets/controls",
            "_model_module_version": "1.5.0",
            "value": 94,
            "_view_count": null,
            "_view_module_version": "1.5.0",
            "orientation": "horizontal",
            "min": 0,
            "description_tooltip": null,
            "_model_module": "@jupyter-widgets/controls",
            "layout": "IPY_MODEL_e4a6a9dcf6ec4e67a5678e5de60fac88"
          }
        },
        "a39d168a67764f6f8e4f9f8ea5c6de1d": {
          "model_module": "@jupyter-widgets/controls",
          "model_name": "HTMLModel",
          "state": {
            "_view_name": "HTMLView",
            "style": "IPY_MODEL_750edfcb62e340c79f2d55082ba33d6b",
            "_dom_classes": [],
            "description": "",
            "_model_name": "HTMLModel",
            "placeholder": "​",
            "_view_module": "@jupyter-widgets/controls",
            "_model_module_version": "1.5.0",
            "value": " 94/100 [00:24&lt;00:01,  3.82it/s]",
            "_view_count": null,
            "_view_module_version": "1.5.0",
            "description_tooltip": null,
            "_model_module": "@jupyter-widgets/controls",
            "layout": "IPY_MODEL_cfde473fc9d045d5a438c68d0a8f4d6d"
          }
        },
        "23bc8004a3cc4806b5a69c573324c456": {
          "model_module": "@jupyter-widgets/controls",
          "model_name": "ProgressStyleModel",
          "state": {
            "_view_name": "StyleView",
            "_model_name": "ProgressStyleModel",
            "description_width": "initial",
            "_view_module": "@jupyter-widgets/base",
            "_model_module_version": "1.5.0",
            "_view_count": null,
            "_view_module_version": "1.2.0",
            "bar_color": null,
            "_model_module": "@jupyter-widgets/controls"
          }
        },
        "e4a6a9dcf6ec4e67a5678e5de60fac88": {
          "model_module": "@jupyter-widgets/base",
          "model_name": "LayoutModel",
          "state": {
            "_view_name": "LayoutView",
            "grid_template_rows": null,
            "right": null,
            "justify_content": null,
            "_view_module": "@jupyter-widgets/base",
            "overflow": null,
            "_model_module_version": "1.2.0",
            "_view_count": null,
            "flex_flow": null,
            "width": null,
            "min_width": null,
            "border": null,
            "align_items": null,
            "bottom": null,
            "_model_module": "@jupyter-widgets/base",
            "top": null,
            "grid_column": null,
            "overflow_y": null,
            "overflow_x": null,
            "grid_auto_flow": null,
            "grid_area": null,
            "grid_template_columns": null,
            "flex": null,
            "_model_name": "LayoutModel",
            "justify_items": null,
            "grid_row": null,
            "max_height": null,
            "align_content": null,
            "visibility": null,
            "align_self": null,
            "height": null,
            "min_height": null,
            "padding": null,
            "grid_auto_rows": null,
            "grid_gap": null,
            "max_width": null,
            "order": null,
            "_view_module_version": "1.2.0",
            "grid_template_areas": null,
            "object_position": null,
            "object_fit": null,
            "grid_auto_columns": null,
            "margin": null,
            "display": null,
            "left": null
          }
        },
        "750edfcb62e340c79f2d55082ba33d6b": {
          "model_module": "@jupyter-widgets/controls",
          "model_name": "DescriptionStyleModel",
          "state": {
            "_view_name": "StyleView",
            "_model_name": "DescriptionStyleModel",
            "description_width": "",
            "_view_module": "@jupyter-widgets/base",
            "_model_module_version": "1.5.0",
            "_view_count": null,
            "_view_module_version": "1.2.0",
            "_model_module": "@jupyter-widgets/controls"
          }
        },
        "cfde473fc9d045d5a438c68d0a8f4d6d": {
          "model_module": "@jupyter-widgets/base",
          "model_name": "LayoutModel",
          "state": {
            "_view_name": "LayoutView",
            "grid_template_rows": null,
            "right": null,
            "justify_content": null,
            "_view_module": "@jupyter-widgets/base",
            "overflow": null,
            "_model_module_version": "1.2.0",
            "_view_count": null,
            "flex_flow": null,
            "width": null,
            "min_width": null,
            "border": null,
            "align_items": null,
            "bottom": null,
            "_model_module": "@jupyter-widgets/base",
            "top": null,
            "grid_column": null,
            "overflow_y": null,
            "overflow_x": null,
            "grid_auto_flow": null,
            "grid_area": null,
            "grid_template_columns": null,
            "flex": null,
            "_model_name": "LayoutModel",
            "justify_items": null,
            "grid_row": null,
            "max_height": null,
            "align_content": null,
            "visibility": null,
            "align_self": null,
            "height": null,
            "min_height": null,
            "padding": null,
            "grid_auto_rows": null,
            "grid_gap": null,
            "max_width": null,
            "order": null,
            "_view_module_version": "1.2.0",
            "grid_template_areas": null,
            "object_position": null,
            "object_fit": null,
            "grid_auto_columns": null,
            "margin": null,
            "display": null,
            "left": null
          }
        },
        "9815f5fa81b74991826762fa4cb245f4": {
          "model_module": "@jupyter-widgets/controls",
          "model_name": "HBoxModel",
          "state": {
            "_view_name": "HBoxView",
            "_dom_classes": [],
            "_model_name": "HBoxModel",
            "_view_module": "@jupyter-widgets/controls",
            "_model_module_version": "1.5.0",
            "_view_count": null,
            "_view_module_version": "1.5.0",
            "box_style": "",
            "layout": "IPY_MODEL_2721edaf8c02424b8e449617e297d7f4",
            "_model_module": "@jupyter-widgets/controls",
            "children": [
              "IPY_MODEL_4a71ac0cc89b46e29b078dab590911e8",
              "IPY_MODEL_101178afc54c41e7812be657a717e18e"
            ]
          }
        },
        "2721edaf8c02424b8e449617e297d7f4": {
          "model_module": "@jupyter-widgets/base",
          "model_name": "LayoutModel",
          "state": {
            "_view_name": "LayoutView",
            "grid_template_rows": null,
            "right": null,
            "justify_content": null,
            "_view_module": "@jupyter-widgets/base",
            "overflow": null,
            "_model_module_version": "1.2.0",
            "_view_count": null,
            "flex_flow": null,
            "width": null,
            "min_width": null,
            "border": null,
            "align_items": null,
            "bottom": null,
            "_model_module": "@jupyter-widgets/base",
            "top": null,
            "grid_column": null,
            "overflow_y": null,
            "overflow_x": null,
            "grid_auto_flow": null,
            "grid_area": null,
            "grid_template_columns": null,
            "flex": null,
            "_model_name": "LayoutModel",
            "justify_items": null,
            "grid_row": null,
            "max_height": null,
            "align_content": null,
            "visibility": null,
            "align_self": null,
            "height": null,
            "min_height": null,
            "padding": null,
            "grid_auto_rows": null,
            "grid_gap": null,
            "max_width": null,
            "order": null,
            "_view_module_version": "1.2.0",
            "grid_template_areas": null,
            "object_position": null,
            "object_fit": null,
            "grid_auto_columns": null,
            "margin": null,
            "display": null,
            "left": null
          }
        },
        "4a71ac0cc89b46e29b078dab590911e8": {
          "model_module": "@jupyter-widgets/controls",
          "model_name": "FloatProgressModel",
          "state": {
            "_view_name": "ProgressView",
            "style": "IPY_MODEL_ee8987c92adc49518bea626c117164f1",
            "_dom_classes": [],
            "description": " 98%",
            "_model_name": "FloatProgressModel",
            "bar_style": "danger",
            "max": 100,
            "_view_module": "@jupyter-widgets/controls",
            "_model_module_version": "1.5.0",
            "value": 98,
            "_view_count": null,
            "_view_module_version": "1.5.0",
            "orientation": "horizontal",
            "min": 0,
            "description_tooltip": null,
            "_model_module": "@jupyter-widgets/controls",
            "layout": "IPY_MODEL_7ddc27079bf44f87abcb75d0492ccdb1"
          }
        },
        "101178afc54c41e7812be657a717e18e": {
          "model_module": "@jupyter-widgets/controls",
          "model_name": "HTMLModel",
          "state": {
            "_view_name": "HTMLView",
            "style": "IPY_MODEL_63b27a3876534af4a2ffdd6c57d37967",
            "_dom_classes": [],
            "description": "",
            "_model_name": "HTMLModel",
            "placeholder": "​",
            "_view_module": "@jupyter-widgets/controls",
            "_model_module_version": "1.5.0",
            "value": " 98/100 [00:26&lt;00:00,  3.68it/s]",
            "_view_count": null,
            "_view_module_version": "1.5.0",
            "description_tooltip": null,
            "_model_module": "@jupyter-widgets/controls",
            "layout": "IPY_MODEL_21973f5b9e7a4076a87a731abf38e190"
          }
        },
        "ee8987c92adc49518bea626c117164f1": {
          "model_module": "@jupyter-widgets/controls",
          "model_name": "ProgressStyleModel",
          "state": {
            "_view_name": "StyleView",
            "_model_name": "ProgressStyleModel",
            "description_width": "initial",
            "_view_module": "@jupyter-widgets/base",
            "_model_module_version": "1.5.0",
            "_view_count": null,
            "_view_module_version": "1.2.0",
            "bar_color": null,
            "_model_module": "@jupyter-widgets/controls"
          }
        },
        "7ddc27079bf44f87abcb75d0492ccdb1": {
          "model_module": "@jupyter-widgets/base",
          "model_name": "LayoutModel",
          "state": {
            "_view_name": "LayoutView",
            "grid_template_rows": null,
            "right": null,
            "justify_content": null,
            "_view_module": "@jupyter-widgets/base",
            "overflow": null,
            "_model_module_version": "1.2.0",
            "_view_count": null,
            "flex_flow": null,
            "width": null,
            "min_width": null,
            "border": null,
            "align_items": null,
            "bottom": null,
            "_model_module": "@jupyter-widgets/base",
            "top": null,
            "grid_column": null,
            "overflow_y": null,
            "overflow_x": null,
            "grid_auto_flow": null,
            "grid_area": null,
            "grid_template_columns": null,
            "flex": null,
            "_model_name": "LayoutModel",
            "justify_items": null,
            "grid_row": null,
            "max_height": null,
            "align_content": null,
            "visibility": null,
            "align_self": null,
            "height": null,
            "min_height": null,
            "padding": null,
            "grid_auto_rows": null,
            "grid_gap": null,
            "max_width": null,
            "order": null,
            "_view_module_version": "1.2.0",
            "grid_template_areas": null,
            "object_position": null,
            "object_fit": null,
            "grid_auto_columns": null,
            "margin": null,
            "display": null,
            "left": null
          }
        },
        "63b27a3876534af4a2ffdd6c57d37967": {
          "model_module": "@jupyter-widgets/controls",
          "model_name": "DescriptionStyleModel",
          "state": {
            "_view_name": "StyleView",
            "_model_name": "DescriptionStyleModel",
            "description_width": "",
            "_view_module": "@jupyter-widgets/base",
            "_model_module_version": "1.5.0",
            "_view_count": null,
            "_view_module_version": "1.2.0",
            "_model_module": "@jupyter-widgets/controls"
          }
        },
        "21973f5b9e7a4076a87a731abf38e190": {
          "model_module": "@jupyter-widgets/base",
          "model_name": "LayoutModel",
          "state": {
            "_view_name": "LayoutView",
            "grid_template_rows": null,
            "right": null,
            "justify_content": null,
            "_view_module": "@jupyter-widgets/base",
            "overflow": null,
            "_model_module_version": "1.2.0",
            "_view_count": null,
            "flex_flow": null,
            "width": null,
            "min_width": null,
            "border": null,
            "align_items": null,
            "bottom": null,
            "_model_module": "@jupyter-widgets/base",
            "top": null,
            "grid_column": null,
            "overflow_y": null,
            "overflow_x": null,
            "grid_auto_flow": null,
            "grid_area": null,
            "grid_template_columns": null,
            "flex": null,
            "_model_name": "LayoutModel",
            "justify_items": null,
            "grid_row": null,
            "max_height": null,
            "align_content": null,
            "visibility": null,
            "align_self": null,
            "height": null,
            "min_height": null,
            "padding": null,
            "grid_auto_rows": null,
            "grid_gap": null,
            "max_width": null,
            "order": null,
            "_view_module_version": "1.2.0",
            "grid_template_areas": null,
            "object_position": null,
            "object_fit": null,
            "grid_auto_columns": null,
            "margin": null,
            "display": null,
            "left": null
          }
        },
        "01cf3768651a4921a78bb80f2280db2c": {
          "model_module": "@jupyter-widgets/controls",
          "model_name": "HBoxModel",
          "state": {
            "_view_name": "HBoxView",
            "_dom_classes": [],
            "_model_name": "HBoxModel",
            "_view_module": "@jupyter-widgets/controls",
            "_model_module_version": "1.5.0",
            "_view_count": null,
            "_view_module_version": "1.5.0",
            "box_style": "",
            "layout": "IPY_MODEL_81032179e7b343ef97aa416efa48d7ed",
            "_model_module": "@jupyter-widgets/controls",
            "children": [
              "IPY_MODEL_f5724fd04a4f49b2a70ab49bbeb6cc17",
              "IPY_MODEL_416fdc7e2f224dbaaf93ca92470963de"
            ]
          }
        },
        "81032179e7b343ef97aa416efa48d7ed": {
          "model_module": "@jupyter-widgets/base",
          "model_name": "LayoutModel",
          "state": {
            "_view_name": "LayoutView",
            "grid_template_rows": null,
            "right": null,
            "justify_content": null,
            "_view_module": "@jupyter-widgets/base",
            "overflow": null,
            "_model_module_version": "1.2.0",
            "_view_count": null,
            "flex_flow": null,
            "width": null,
            "min_width": null,
            "border": null,
            "align_items": null,
            "bottom": null,
            "_model_module": "@jupyter-widgets/base",
            "top": null,
            "grid_column": null,
            "overflow_y": null,
            "overflow_x": null,
            "grid_auto_flow": null,
            "grid_area": null,
            "grid_template_columns": null,
            "flex": null,
            "_model_name": "LayoutModel",
            "justify_items": null,
            "grid_row": null,
            "max_height": null,
            "align_content": null,
            "visibility": null,
            "align_self": null,
            "height": null,
            "min_height": null,
            "padding": null,
            "grid_auto_rows": null,
            "grid_gap": null,
            "max_width": null,
            "order": null,
            "_view_module_version": "1.2.0",
            "grid_template_areas": null,
            "object_position": null,
            "object_fit": null,
            "grid_auto_columns": null,
            "margin": null,
            "display": null,
            "left": null
          }
        },
        "f5724fd04a4f49b2a70ab49bbeb6cc17": {
          "model_module": "@jupyter-widgets/controls",
          "model_name": "FloatProgressModel",
          "state": {
            "_view_name": "ProgressView",
            "style": "IPY_MODEL_5b9e021bfc424109a35b2e53601f30bf",
            "_dom_classes": [],
            "description": " 94%",
            "_model_name": "FloatProgressModel",
            "bar_style": "danger",
            "max": 100,
            "_view_module": "@jupyter-widgets/controls",
            "_model_module_version": "1.5.0",
            "value": 94,
            "_view_count": null,
            "_view_module_version": "1.5.0",
            "orientation": "horizontal",
            "min": 0,
            "description_tooltip": null,
            "_model_module": "@jupyter-widgets/controls",
            "layout": "IPY_MODEL_6898c85bbde34e2c9ba700adda691261"
          }
        },
        "416fdc7e2f224dbaaf93ca92470963de": {
          "model_module": "@jupyter-widgets/controls",
          "model_name": "HTMLModel",
          "state": {
            "_view_name": "HTMLView",
            "style": "IPY_MODEL_3fc05f4fba1b4de48e859c4caf63f478",
            "_dom_classes": [],
            "description": "",
            "_model_name": "HTMLModel",
            "placeholder": "​",
            "_view_module": "@jupyter-widgets/controls",
            "_model_module_version": "1.5.0",
            "value": " 94/100 [00:24&lt;00:01,  3.84it/s]",
            "_view_count": null,
            "_view_module_version": "1.5.0",
            "description_tooltip": null,
            "_model_module": "@jupyter-widgets/controls",
            "layout": "IPY_MODEL_22cdde1304374d5992c12c601321fc2e"
          }
        },
        "5b9e021bfc424109a35b2e53601f30bf": {
          "model_module": "@jupyter-widgets/controls",
          "model_name": "ProgressStyleModel",
          "state": {
            "_view_name": "StyleView",
            "_model_name": "ProgressStyleModel",
            "description_width": "initial",
            "_view_module": "@jupyter-widgets/base",
            "_model_module_version": "1.5.0",
            "_view_count": null,
            "_view_module_version": "1.2.0",
            "bar_color": null,
            "_model_module": "@jupyter-widgets/controls"
          }
        },
        "6898c85bbde34e2c9ba700adda691261": {
          "model_module": "@jupyter-widgets/base",
          "model_name": "LayoutModel",
          "state": {
            "_view_name": "LayoutView",
            "grid_template_rows": null,
            "right": null,
            "justify_content": null,
            "_view_module": "@jupyter-widgets/base",
            "overflow": null,
            "_model_module_version": "1.2.0",
            "_view_count": null,
            "flex_flow": null,
            "width": null,
            "min_width": null,
            "border": null,
            "align_items": null,
            "bottom": null,
            "_model_module": "@jupyter-widgets/base",
            "top": null,
            "grid_column": null,
            "overflow_y": null,
            "overflow_x": null,
            "grid_auto_flow": null,
            "grid_area": null,
            "grid_template_columns": null,
            "flex": null,
            "_model_name": "LayoutModel",
            "justify_items": null,
            "grid_row": null,
            "max_height": null,
            "align_content": null,
            "visibility": null,
            "align_self": null,
            "height": null,
            "min_height": null,
            "padding": null,
            "grid_auto_rows": null,
            "grid_gap": null,
            "max_width": null,
            "order": null,
            "_view_module_version": "1.2.0",
            "grid_template_areas": null,
            "object_position": null,
            "object_fit": null,
            "grid_auto_columns": null,
            "margin": null,
            "display": null,
            "left": null
          }
        },
        "3fc05f4fba1b4de48e859c4caf63f478": {
          "model_module": "@jupyter-widgets/controls",
          "model_name": "DescriptionStyleModel",
          "state": {
            "_view_name": "StyleView",
            "_model_name": "DescriptionStyleModel",
            "description_width": "",
            "_view_module": "@jupyter-widgets/base",
            "_model_module_version": "1.5.0",
            "_view_count": null,
            "_view_module_version": "1.2.0",
            "_model_module": "@jupyter-widgets/controls"
          }
        },
        "22cdde1304374d5992c12c601321fc2e": {
          "model_module": "@jupyter-widgets/base",
          "model_name": "LayoutModel",
          "state": {
            "_view_name": "LayoutView",
            "grid_template_rows": null,
            "right": null,
            "justify_content": null,
            "_view_module": "@jupyter-widgets/base",
            "overflow": null,
            "_model_module_version": "1.2.0",
            "_view_count": null,
            "flex_flow": null,
            "width": null,
            "min_width": null,
            "border": null,
            "align_items": null,
            "bottom": null,
            "_model_module": "@jupyter-widgets/base",
            "top": null,
            "grid_column": null,
            "overflow_y": null,
            "overflow_x": null,
            "grid_auto_flow": null,
            "grid_area": null,
            "grid_template_columns": null,
            "flex": null,
            "_model_name": "LayoutModel",
            "justify_items": null,
            "grid_row": null,
            "max_height": null,
            "align_content": null,
            "visibility": null,
            "align_self": null,
            "height": null,
            "min_height": null,
            "padding": null,
            "grid_auto_rows": null,
            "grid_gap": null,
            "max_width": null,
            "order": null,
            "_view_module_version": "1.2.0",
            "grid_template_areas": null,
            "object_position": null,
            "object_fit": null,
            "grid_auto_columns": null,
            "margin": null,
            "display": null,
            "left": null
          }
        },
        "0b048a6dd4c9423f8d707b7b319e765e": {
          "model_module": "@jupyter-widgets/controls",
          "model_name": "HBoxModel",
          "state": {
            "_view_name": "HBoxView",
            "_dom_classes": [],
            "_model_name": "HBoxModel",
            "_view_module": "@jupyter-widgets/controls",
            "_model_module_version": "1.5.0",
            "_view_count": null,
            "_view_module_version": "1.5.0",
            "box_style": "",
            "layout": "IPY_MODEL_9a4300f7cac945eab84a6eb59cf9a142",
            "_model_module": "@jupyter-widgets/controls",
            "children": [
              "IPY_MODEL_96ef447c18374c0fbd71d8910df29dc8",
              "IPY_MODEL_545de3104b174ad6b9865b0b0fd63863"
            ]
          }
        },
        "9a4300f7cac945eab84a6eb59cf9a142": {
          "model_module": "@jupyter-widgets/base",
          "model_name": "LayoutModel",
          "state": {
            "_view_name": "LayoutView",
            "grid_template_rows": null,
            "right": null,
            "justify_content": null,
            "_view_module": "@jupyter-widgets/base",
            "overflow": null,
            "_model_module_version": "1.2.0",
            "_view_count": null,
            "flex_flow": null,
            "width": null,
            "min_width": null,
            "border": null,
            "align_items": null,
            "bottom": null,
            "_model_module": "@jupyter-widgets/base",
            "top": null,
            "grid_column": null,
            "overflow_y": null,
            "overflow_x": null,
            "grid_auto_flow": null,
            "grid_area": null,
            "grid_template_columns": null,
            "flex": null,
            "_model_name": "LayoutModel",
            "justify_items": null,
            "grid_row": null,
            "max_height": null,
            "align_content": null,
            "visibility": null,
            "align_self": null,
            "height": null,
            "min_height": null,
            "padding": null,
            "grid_auto_rows": null,
            "grid_gap": null,
            "max_width": null,
            "order": null,
            "_view_module_version": "1.2.0",
            "grid_template_areas": null,
            "object_position": null,
            "object_fit": null,
            "grid_auto_columns": null,
            "margin": null,
            "display": null,
            "left": null
          }
        },
        "96ef447c18374c0fbd71d8910df29dc8": {
          "model_module": "@jupyter-widgets/controls",
          "model_name": "FloatProgressModel",
          "state": {
            "_view_name": "ProgressView",
            "style": "IPY_MODEL_d1b47a68d8e14576b391183fa57e20fa",
            "_dom_classes": [],
            "description": " 95%",
            "_model_name": "FloatProgressModel",
            "bar_style": "danger",
            "max": 100,
            "_view_module": "@jupyter-widgets/controls",
            "_model_module_version": "1.5.0",
            "value": 95,
            "_view_count": null,
            "_view_module_version": "1.5.0",
            "orientation": "horizontal",
            "min": 0,
            "description_tooltip": null,
            "_model_module": "@jupyter-widgets/controls",
            "layout": "IPY_MODEL_f7549cd25669441e9f3bd52baedaccb4"
          }
        },
        "545de3104b174ad6b9865b0b0fd63863": {
          "model_module": "@jupyter-widgets/controls",
          "model_name": "HTMLModel",
          "state": {
            "_view_name": "HTMLView",
            "style": "IPY_MODEL_f446ae95a829442ba8f4f74ff84ab042",
            "_dom_classes": [],
            "description": "",
            "_model_name": "HTMLModel",
            "placeholder": "​",
            "_view_module": "@jupyter-widgets/controls",
            "_model_module_version": "1.5.0",
            "value": " 95/100 [00:24&lt;00:01,  3.84it/s]",
            "_view_count": null,
            "_view_module_version": "1.5.0",
            "description_tooltip": null,
            "_model_module": "@jupyter-widgets/controls",
            "layout": "IPY_MODEL_8aa533a30d274a8f9dcea6bf2caca6bb"
          }
        },
        "d1b47a68d8e14576b391183fa57e20fa": {
          "model_module": "@jupyter-widgets/controls",
          "model_name": "ProgressStyleModel",
          "state": {
            "_view_name": "StyleView",
            "_model_name": "ProgressStyleModel",
            "description_width": "initial",
            "_view_module": "@jupyter-widgets/base",
            "_model_module_version": "1.5.0",
            "_view_count": null,
            "_view_module_version": "1.2.0",
            "bar_color": null,
            "_model_module": "@jupyter-widgets/controls"
          }
        },
        "f7549cd25669441e9f3bd52baedaccb4": {
          "model_module": "@jupyter-widgets/base",
          "model_name": "LayoutModel",
          "state": {
            "_view_name": "LayoutView",
            "grid_template_rows": null,
            "right": null,
            "justify_content": null,
            "_view_module": "@jupyter-widgets/base",
            "overflow": null,
            "_model_module_version": "1.2.0",
            "_view_count": null,
            "flex_flow": null,
            "width": null,
            "min_width": null,
            "border": null,
            "align_items": null,
            "bottom": null,
            "_model_module": "@jupyter-widgets/base",
            "top": null,
            "grid_column": null,
            "overflow_y": null,
            "overflow_x": null,
            "grid_auto_flow": null,
            "grid_area": null,
            "grid_template_columns": null,
            "flex": null,
            "_model_name": "LayoutModel",
            "justify_items": null,
            "grid_row": null,
            "max_height": null,
            "align_content": null,
            "visibility": null,
            "align_self": null,
            "height": null,
            "min_height": null,
            "padding": null,
            "grid_auto_rows": null,
            "grid_gap": null,
            "max_width": null,
            "order": null,
            "_view_module_version": "1.2.0",
            "grid_template_areas": null,
            "object_position": null,
            "object_fit": null,
            "grid_auto_columns": null,
            "margin": null,
            "display": null,
            "left": null
          }
        },
        "f446ae95a829442ba8f4f74ff84ab042": {
          "model_module": "@jupyter-widgets/controls",
          "model_name": "DescriptionStyleModel",
          "state": {
            "_view_name": "StyleView",
            "_model_name": "DescriptionStyleModel",
            "description_width": "",
            "_view_module": "@jupyter-widgets/base",
            "_model_module_version": "1.5.0",
            "_view_count": null,
            "_view_module_version": "1.2.0",
            "_model_module": "@jupyter-widgets/controls"
          }
        },
        "8aa533a30d274a8f9dcea6bf2caca6bb": {
          "model_module": "@jupyter-widgets/base",
          "model_name": "LayoutModel",
          "state": {
            "_view_name": "LayoutView",
            "grid_template_rows": null,
            "right": null,
            "justify_content": null,
            "_view_module": "@jupyter-widgets/base",
            "overflow": null,
            "_model_module_version": "1.2.0",
            "_view_count": null,
            "flex_flow": null,
            "width": null,
            "min_width": null,
            "border": null,
            "align_items": null,
            "bottom": null,
            "_model_module": "@jupyter-widgets/base",
            "top": null,
            "grid_column": null,
            "overflow_y": null,
            "overflow_x": null,
            "grid_auto_flow": null,
            "grid_area": null,
            "grid_template_columns": null,
            "flex": null,
            "_model_name": "LayoutModel",
            "justify_items": null,
            "grid_row": null,
            "max_height": null,
            "align_content": null,
            "visibility": null,
            "align_self": null,
            "height": null,
            "min_height": null,
            "padding": null,
            "grid_auto_rows": null,
            "grid_gap": null,
            "max_width": null,
            "order": null,
            "_view_module_version": "1.2.0",
            "grid_template_areas": null,
            "object_position": null,
            "object_fit": null,
            "grid_auto_columns": null,
            "margin": null,
            "display": null,
            "left": null
          }
        }
      }
    }
  },
  "cells": [
    {
      "cell_type": "code",
      "metadata": {
        "id": "1NOEhobX4nJz",
        "colab_type": "code",
        "colab": {}
      },
      "source": [
        "import os\n",
        "os.chdir(\"./drive/My Drive/EVA/ULTRON-VISION/ultron-vision\")"
      ],
      "execution_count": 0,
      "outputs": []
    },
    {
      "cell_type": "code",
      "metadata": {
        "id": "UGRyRmhO47DJ",
        "colab_type": "code",
        "colab": {
          "base_uri": "https://localhost:8080/",
          "height": 372
        },
        "outputId": "5875390f-89ba-4396-d898-74de930692e3"
      },
      "source": [
        "!nvidia-smi"
      ],
      "execution_count": 2,
      "outputs": [
        {
          "output_type": "stream",
          "text": [
            "Fri Jun 12 14:41:26 2020       \n",
            "+-----------------------------------------------------------------------------+\n",
            "| NVIDIA-SMI 450.36.06    Driver Version: 418.67       CUDA Version: 10.1     |\n",
            "|-------------------------------+----------------------+----------------------+\n",
            "| GPU  Name        Persistence-M| Bus-Id        Disp.A | Volatile Uncorr. ECC |\n",
            "| Fan  Temp  Perf  Pwr:Usage/Cap|         Memory-Usage | GPU-Util  Compute M. |\n",
            "|                               |                      |               MIG M. |\n",
            "|===============================+======================+======================|\n",
            "|   0  Tesla P100-PCIE...  Off  | 00000000:00:04.0 Off |                    0 |\n",
            "| N/A   48C    P0    42W / 250W |      0MiB / 16280MiB |      0%      Default |\n",
            "|                               |                      |                 ERR! |\n",
            "+-------------------------------+----------------------+----------------------+\n",
            "                                                                               \n",
            "+-----------------------------------------------------------------------------+\n",
            "| Processes:                                                                  |\n",
            "|  GPU   GI   CI        PID   Type   Process name                  GPU Memory |\n",
            "|        ID   ID                                                   Usage      |\n",
            "|=============================================================================|\n",
            "|  No running processes found                                                 |\n",
            "+-----------------------------------------------------------------------------+\n"
          ],
          "name": "stdout"
        }
      ]
    },
    {
      "cell_type": "code",
      "metadata": {
        "id": "XTrUOv3E4805",
        "colab_type": "code",
        "colab": {
          "base_uri": "https://localhost:8080/",
          "height": 34
        },
        "outputId": "631801ce-f875-4078-f9b5-3327dc746ff7"
      },
      "source": [
        "curr_dir = os.path.abspath(\".\")\n",
        "curr_dir"
      ],
      "execution_count": 3,
      "outputs": [
        {
          "output_type": "execute_result",
          "data": {
            "text/plain": [
              "'/content/drive/My Drive/EVA/ULTRON-VISION/ultron-vision'"
            ]
          },
          "metadata": {
            "tags": []
          },
          "execution_count": 3
        }
      ]
    },
    {
      "cell_type": "code",
      "metadata": {
        "id": "ev-Y9p-p5D50",
        "colab_type": "code",
        "colab": {}
      },
      "source": [
        "import sys\n",
        "sys.path.append(os.path.join(curr_dir))"
      ],
      "execution_count": 0,
      "outputs": []
    },
    {
      "cell_type": "code",
      "metadata": {
        "id": "eETuli7z5Xq0",
        "colab_type": "code",
        "colab": {}
      },
      "source": [
        "# !pip install -r requirements.txt"
      ],
      "execution_count": 0,
      "outputs": []
    },
    {
      "cell_type": "code",
      "metadata": {
        "id": "RgJo7kMR5Rfa",
        "colab_type": "code",
        "colab": {}
      },
      "source": [
        "# import agent libraries\n",
        "from agents import *\n",
        "from inference import *\n",
        "from utils.config import process_config"
      ],
      "execution_count": 0,
      "outputs": []
    },
    {
      "cell_type": "code",
      "metadata": {
        "id": "pCjLq8il6Pm8",
        "colab_type": "code",
        "colab": {}
      },
      "source": [
        "# get config of agent\n",
        "config_path = \"configs/cifar10_config.json\""
      ],
      "execution_count": 0,
      "outputs": []
    },
    {
      "cell_type": "code",
      "metadata": {
        "id": "8bSojnuP6YaU",
        "colab_type": "code",
        "colab": {
          "base_uri": "https://localhost:8080/",
          "height": 781
        },
        "outputId": "1d03d69e-699d-4a43-9331-ff08c6957430"
      },
      "source": [
        "config = process_config(config_path)"
      ],
      "execution_count": 8,
      "outputs": [
        {
          "output_type": "stream",
          "text": [
            "[INFO]: Hi, This is Ultron. Nice to meet you!!!\n",
            "[INFO]: Saving Configuration\n",
            "[INFO]: Configurations are successfully processed and dirs are created.\n",
            "[INFO]: The pipeline of the project will begin now.\n"
          ],
          "name": "stderr"
        },
        {
          "output_type": "stream",
          "text": [
            "****************************\n",
            "CONFIGURATION OF THIS EXPERIMENT\n",
            "****************************\n",
            "{'agent': 'Cifar10Agent',\n",
            " 'batch_size': 64,\n",
            " 'checkpoint_file': 'checkpoint.pth.tar',\n",
            " 'epochs': 50,\n",
            " 'exp_name': 'cifar10_exp-009',\n",
            " 'gpu_device': 0,\n",
            " 'inference_agent': 'Cifar10IAgent',\n",
            " 'input_size': [3, 32, 32],\n",
            " 'interpret_image': True,\n",
            " 'l1_decay': 1e-06,\n",
            " 'l2_decay': 0.005,\n",
            " 'learning_rate': 0.1,\n",
            " 'load_checkpoint': True,\n",
            " 'mean': [0.4914, 0.4822, 0.4465],\n",
            " 'model_stats_file': 'stats.json',\n",
            " 'momentum': 0.9,\n",
            " 'num_workers': 4,\n",
            " 'pin_memory': True,\n",
            " 'save_checkpoint': True,\n",
            " 'scheduler': {'kwargs': {'anneal_strategy': 'cos',\n",
            "                          'base_momentum': 0.85,\n",
            "                          'cycle_momentum': True,\n",
            "                          'div_factor': 10,\n",
            "                          'final_div_factor': 10000.0,\n",
            "                          'last_epoch': -1,\n",
            "                          'max_momentum': 0.95,\n",
            "                          'pct_start': 0.3},\n",
            "               'name': 'OneCycleLR'},\n",
            " 'seed': 1,\n",
            " 'std': [0.2023, 0.1994, 0.201],\n",
            " 'use_cuda': True,\n",
            " 'use_scheduler': True,\n",
            " 'visualize_inline': True}\n",
            "****************************\n",
            "Experiment : cifar10_exp-009\n",
            "****************************\n"
          ],
          "name": "stdout"
        }
      ]
    },
    {
      "cell_type": "markdown",
      "metadata": {
        "id": "bNsI6v853zkp",
        "colab_type": "text"
      },
      "source": [
        "# EXPERIMENT 1"
      ]
    },
    {
      "cell_type": "markdown",
      "metadata": {
        "id": "9FPs7l3pG6sB",
        "colab_type": "text"
      },
      "source": [
        "high batch size, increasing for 20% of iterations, high l2 decay = 0.005"
      ]
    },
    {
      "cell_type": "code",
      "metadata": {
        "id": "2lo7fK_N6r6X",
        "colab_type": "code",
        "colab": {}
      },
      "source": [
        "# as we are using one cycle policy we are defining arguments for the scheduler for testing\n",
        "config[\"batch_size\"] = 512\n",
        "config[\"scheduler\"][\"kwargs\"][\"pct_start\"] = 0.2\n",
        "config[\"epochs\"] = 25\n",
        "config[\"scheduler\"][\"kwargs\"][\"div_factor\"] = 10\n",
        "config[\"scheduler\"][\"kwargs\"][\"final_div_factor\"] = 1000"
      ],
      "execution_count": 0,
      "outputs": []
    },
    {
      "cell_type": "code",
      "metadata": {
        "id": "lDmupL4v5Sq5",
        "colab_type": "code",
        "colab": {
          "base_uri": "https://localhost:8080/",
          "height": 1000,
          "referenced_widgets": [
            "957ff121af3b449ebb48c454fe241ec0",
            "7085a3b97e7b4c03850ad4fa48004f83",
            "0ff64f1ca4c5465db4b0f4bdc1249946",
            "78ba0e3b57bd4926b9eba0e79d7690a9",
            "d55a780a763444b5adbb71154d984adb",
            "c7a435c9c5fd4b6aaace1ac8fa902d08",
            "b0099df37ee54cad9557ff4f3fa2b5b0",
            "cb28d005d7b7423f86862a06511f4f4d"
          ]
        },
        "outputId": "8d3ca8e1-da45-49e1-be8f-ae79ab85835e"
      },
      "source": [
        "# initialize agent and find max_lr using lr_finder\n",
        "agent_class = globals()[config[\"agent\"]]\n",
        "agent = agent_class(config)"
      ],
      "execution_count": 10,
      "outputs": [
        {
          "output_type": "stream",
          "text": [
            "[INFO]: TRAINING MODE ACTIVATED!!!\n"
          ],
          "name": "stderr"
        },
        {
          "output_type": "stream",
          "text": [
            "Files already downloaded and verified\n",
            "Files already downloaded and verified\n"
          ],
          "name": "stdout"
        },
        {
          "output_type": "stream",
          "text": [
            "[INFO]: FINDING OPTIM LEARNING RATE...\n"
          ],
          "name": "stderr"
        },
        {
          "output_type": "display_data",
          "data": {
            "application/vnd.jupyter.widget-view+json": {
              "model_id": "957ff121af3b449ebb48c454fe241ec0",
              "version_minor": 0,
              "version_major": 2
            },
            "text/plain": [
              "HBox(children=(FloatProgress(value=0.0), HTML(value='')))"
            ]
          },
          "metadata": {
            "tags": []
          }
        },
        {
          "output_type": "stream",
          "text": [
            "Stopping early, the loss has diverged\n",
            "\n",
            "Learning rate search finished. See the graph with {finder_name}.plot()\n"
          ],
          "name": "stdout"
        },
        {
          "output_type": "display_data",
          "data": {
            "image/png": "[encoded data removed]",
            "text/plain": [
              "<Figure size 432x288 with 1 Axes>"
            ]
          },
          "metadata": {
            "tags": [],
            "needs_background": "light"
          }
        },
        {
          "output_type": "stream",
          "text": [
            "[INFO]: Learning rate with minimum loss : 0.06579332246575675\n",
            "[INFO]: Setting optimizer to optim learning rate : 0.07\n",
            "[INFO]: Program will RUN on ****GPU-CUDA****\n",
            "[INFO]: __Python VERSION : 3.6.9 (default, Apr 18 2020, 01:56:04) \n",
            "[GCC 8.4.0]\n",
            "[INFO]: __pytorch VERSION : 1.5.0+cu101\n",
            "[INFO]: __CUDNN VERSION : 7603\n",
            "[INFO]: __Number CUDA Devices : 1\n",
            "[INFO]: __Devices\n",
            "[INFO]: Active CUDA Device : GPU 0\n",
            "[INFO]: Available devices 1\n",
            "[INFO]: Current CUDA device 0\n"
          ],
          "name": "stderr"
        },
        {
          "output_type": "stream",
          "text": [
            "****************************\n",
            "**********NETWORK SUMMARY**********\n",
            "----------------------------------------------------------------\n",
            "        Layer (type)               Output Shape         Param #\n",
            "================================================================\n",
            "            Conv2d-1           [-1, 64, 32, 32]           1,728\n",
            "       BatchNorm2d-2           [-1, 64, 32, 32]             128\n",
            "            Conv2d-3           [-1, 64, 32, 32]          36,864\n",
            "       BatchNorm2d-4           [-1, 64, 32, 32]             128\n",
            "            Conv2d-5           [-1, 64, 32, 32]          36,864\n",
            "       BatchNorm2d-6           [-1, 64, 32, 32]             128\n",
            "        BasicBlock-7           [-1, 64, 32, 32]               0\n",
            "            Conv2d-8           [-1, 64, 32, 32]          36,864\n",
            "       BatchNorm2d-9           [-1, 64, 32, 32]             128\n",
            "           Conv2d-10           [-1, 64, 32, 32]          36,864\n",
            "      BatchNorm2d-11           [-1, 64, 32, 32]             128\n",
            "       BasicBlock-12           [-1, 64, 32, 32]               0\n",
            "           Conv2d-13          [-1, 128, 16, 16]          73,728\n",
            "      BatchNorm2d-14          [-1, 128, 16, 16]             256\n",
            "           Conv2d-15          [-1, 128, 16, 16]         147,456\n",
            "      BatchNorm2d-16          [-1, 128, 16, 16]             256\n",
            "           Conv2d-17          [-1, 128, 16, 16]           8,192\n",
            "      BatchNorm2d-18          [-1, 128, 16, 16]             256\n",
            "       BasicBlock-19          [-1, 128, 16, 16]               0\n",
            "           Conv2d-20          [-1, 128, 16, 16]         147,456\n",
            "      BatchNorm2d-21          [-1, 128, 16, 16]             256\n",
            "           Conv2d-22          [-1, 128, 16, 16]         147,456\n",
            "      BatchNorm2d-23          [-1, 128, 16, 16]             256\n",
            "       BasicBlock-24          [-1, 128, 16, 16]               0\n",
            "           Conv2d-25            [-1, 256, 8, 8]         294,912\n",
            "      BatchNorm2d-26            [-1, 256, 8, 8]             512\n",
            "           Conv2d-27            [-1, 256, 8, 8]         589,824\n",
            "      BatchNorm2d-28            [-1, 256, 8, 8]             512\n",
            "           Conv2d-29            [-1, 256, 8, 8]          32,768\n",
            "      BatchNorm2d-30            [-1, 256, 8, 8]             512\n",
            "       BasicBlock-31            [-1, 256, 8, 8]               0\n",
            "           Conv2d-32            [-1, 256, 8, 8]         589,824\n",
            "      BatchNorm2d-33            [-1, 256, 8, 8]             512\n",
            "           Conv2d-34            [-1, 256, 8, 8]         589,824\n",
            "      BatchNorm2d-35            [-1, 256, 8, 8]             512\n",
            "       BasicBlock-36            [-1, 256, 8, 8]               0\n",
            "           Conv2d-37            [-1, 512, 4, 4]       1,179,648\n",
            "      BatchNorm2d-38            [-1, 512, 4, 4]           1,024\n",
            "           Conv2d-39            [-1, 512, 4, 4]       2,359,296\n",
            "      BatchNorm2d-40            [-1, 512, 4, 4]           1,024\n",
            "           Conv2d-41            [-1, 512, 4, 4]         131,072\n",
            "      BatchNorm2d-42            [-1, 512, 4, 4]           1,024\n",
            "       BasicBlock-43            [-1, 512, 4, 4]               0\n",
            "           Conv2d-44            [-1, 512, 4, 4]       2,359,296\n",
            "      BatchNorm2d-45            [-1, 512, 4, 4]           1,024\n",
            "           Conv2d-46            [-1, 512, 4, 4]       2,359,296\n",
            "      BatchNorm2d-47            [-1, 512, 4, 4]           1,024\n",
            "       BasicBlock-48            [-1, 512, 4, 4]               0\n",
            "           Linear-49                   [-1, 10]           5,130\n",
            "================================================================\n",
            "Total params: 11,173,962\n",
            "Trainable params: 11,173,962\n",
            "Non-trainable params: 0\n",
            "----------------------------------------------------------------\n",
            "Input size (MB): 0.01\n",
            "Forward/backward pass size (MB): 11.25\n",
            "Params size (MB): 42.63\n",
            "Estimated Total Size (MB): 53.89\n",
            "----------------------------------------------------------------\n",
            "****************************\n"
          ],
          "name": "stdout"
        }
      ]
    },
    {
      "cell_type": "code",
      "metadata": {
        "id": "cj9BJRvg7sNl",
        "colab_type": "code",
        "colab": {
          "base_uri": "https://localhost:8080/",
          "height": 1000
        },
        "outputId": "72ffb207-47c9-4086-bbe0-a98b56b7a2b8"
      },
      "source": [
        "# run for few epochs and check the graph\n",
        "agent.run()"
      ],
      "execution_count": 11,
      "outputs": [
        {
          "output_type": "stream",
          "text": [
            "[INFO]: Current lr value = 0.007000000000000006\n",
            "loss = 11.021600723266602 batch_id = 97: 100%|██████████| 98/98 [00:25<00:00,  3.88it/s]\n",
            "[INFO]: TRAIN EPOCH : 0\tLOSS : 0.0246\tACC : 31.3280\n",
            "[INFO]: Saved Best Model\n",
            "[INFO]: VALID EPOCH : 0\tLOSS : 0.0034\tACC : 39.3100\n",
            "[INFO]: Current lr value = 0.013039776025527881\n",
            "loss = 11.270708084106445 batch_id = 97: 100%|██████████| 98/98 [00:25<00:00,  3.90it/s]\n",
            "[INFO]: TRAIN EPOCH : 1\tLOSS : 0.0225\tACC : 41.2720\n",
            "[INFO]: Saved Best Model\n",
            "[INFO]: VALID EPOCH : 1\tLOSS : 0.0031\tACC : 45.2500\n",
            "[INFO]: Current lr value = 0.028842983820299366\n",
            "loss = 10.133003234863281 batch_id = 97: 100%|██████████| 98/98 [00:25<00:00,  3.88it/s]\n",
            "[INFO]: TRAIN EPOCH : 2\tLOSS : 0.0211\tACC : 47.6820\n",
            "[INFO]: Saved Best Model\n",
            "[INFO]: VALID EPOCH : 2\tLOSS : 0.0027\tACC : 52.7200\n",
            "[INFO]: Current lr value = 0.04834944334842264\n",
            "loss = 9.891036987304688 batch_id = 97: 100%|██████████| 98/98 [00:25<00:00,  3.88it/s]\n",
            "[INFO]: TRAIN EPOCH : 3\tLOSS : 0.0197\tACC : 53.1960\n",
            "[INFO]: Saved Best Model\n",
            "[INFO]: VALID EPOCH : 3\tLOSS : 0.0026\tACC : 55.8600\n",
            "[INFO]: Current lr value = 0.06407885958761905\n",
            "loss = 9.151201248168945 batch_id = 97: 100%|██████████| 98/98 [00:25<00:00,  3.86it/s]\n",
            "[INFO]: TRAIN EPOCH : 4\tLOSS : 0.0186\tACC : 57.8540\n",
            "[INFO]: Saved Best Model\n",
            "[INFO]: VALID EPOCH : 4\tLOSS : 0.0020\tACC : 65.8900\n",
            "[INFO]: Current lr value = 0.06999995504457304\n",
            "loss = 8.866571426391602 batch_id = 97: 100%|██████████| 98/98 [00:25<00:00,  3.86it/s]\n",
            "[INFO]: TRAIN EPOCH : 5\tLOSS : 0.0175\tACC : 61.8460\n",
            "[INFO]: VALID EPOCH : 5\tLOSS : 0.0021\tACC : 64.6500\n",
            "[INFO]: Current lr value = 0.06956031553807261\n",
            "loss = 8.567535400390625 batch_id = 97: 100%|██████████| 98/98 [00:25<00:00,  3.91it/s]\n",
            "[INFO]: TRAIN EPOCH : 6\tLOSS : 0.0169\tACC : 63.9140\n",
            "[INFO]: Saved Best Model\n",
            "[INFO]: VALID EPOCH : 6\tLOSS : 0.0019\tACC : 68.6200\n",
            "[INFO]: Current lr value = 0.06826977254552939\n",
            "loss = 8.375709533691406 batch_id = 97: 100%|██████████| 98/98 [00:25<00:00,  3.84it/s]\n",
            "[INFO]: TRAIN EPOCH : 7\tLOSS : 0.0163\tACC : 65.5960\n",
            "[INFO]: VALID EPOCH : 7\tLOSS : 0.0019\tACC : 67.9700\n",
            "[INFO]: Current lr value = 0.0661601035184864\n",
            "loss = 7.632724761962891 batch_id = 97: 100%|██████████| 98/98 [00:25<00:00,  3.88it/s]\n",
            "[INFO]: TRAIN EPOCH : 8\tLOSS : 0.0157\tACC : 67.3640\n",
            "[INFO]: VALID EPOCH : 8\tLOSS : 0.0022\tACC : 64.4300\n",
            "[INFO]: Current lr value = 0.06328325550997954\n",
            "loss = 7.630535125732422 batch_id = 97: 100%|██████████| 98/98 [00:25<00:00,  3.89it/s]\n",
            "[INFO]: TRAIN EPOCH : 9\tLOSS : 0.0153\tACC : 68.6960\n",
            "[INFO]: Saved Best Model\n",
            "[INFO]: VALID EPOCH : 9\tLOSS : 0.0018\tACC : 70.7800\n",
            "[INFO]: Current lr value = 0.059710066065689384\n",
            "loss = 7.367889404296875 batch_id = 97: 100%|██████████| 98/98 [00:25<00:00,  3.84it/s]\n",
            "[INFO]: TRAIN EPOCH : 10\tLOSS : 0.0149\tACC : 69.7340\n",
            "[INFO]: Saved Best Model\n",
            "[INFO]: VALID EPOCH : 10\tLOSS : 0.0017\tACC : 72.4100\n",
            "[INFO]: Current lr value = 0.05552851896847025\n",
            "loss = 7.549660682678223 batch_id = 97: 100%|██████████| 98/98 [00:25<00:00,  3.84it/s]\n",
            "[INFO]: TRAIN EPOCH : 11\tLOSS : 0.0145\tACC : 70.3360\n",
            "[INFO]: Saved Best Model\n",
            "[INFO]: VALID EPOCH : 11\tLOSS : 0.0015\tACC : 74.7600\n",
            "[INFO]: Current lr value = 0.050841577785614815\n",
            "loss = 7.553972244262695 batch_id = 97: 100%|██████████| 98/98 [00:25<00:00,  3.84it/s]\n",
            "[INFO]: TRAIN EPOCH : 12\tLOSS : 0.0140\tACC : 71.6160\n",
            "[INFO]: VALID EPOCH : 12\tLOSS : 0.0016\tACC : 74.1900\n",
            "[INFO]: Current lr value = 0.04576465056411097\n",
            "loss = 7.156913757324219 batch_id = 97: 100%|██████████| 98/98 [00:25<00:00,  3.88it/s]\n",
            "[INFO]: TRAIN EPOCH : 13\tLOSS : 0.0137\tACC : 72.5420\n",
            "[INFO]: VALID EPOCH : 13\tLOSS : 0.0017\tACC : 73.2400\n",
            "[INFO]: Current lr value = 0.040422748101507575\n",
            "loss = 6.99549674987793 batch_id = 97: 100%|██████████| 98/98 [00:25<00:00,  3.88it/s]\n",
            "[INFO]: TRAIN EPOCH : 14\tLOSS : 0.0133\tACC : 73.5960\n",
            "[INFO]: Saved Best Model\n",
            "[INFO]: VALID EPOCH : 14\tLOSS : 0.0014\tACC : 75.7300\n",
            "[INFO]: Current lr value = 0.03494740576519178\n",
            "loss = 6.7233076095581055 batch_id = 97: 100%|██████████| 98/98 [00:25<00:00,  3.84it/s]\n",
            "[INFO]: TRAIN EPOCH : 15\tLOSS : 0.0130\tACC : 73.8960\n",
            "[INFO]: Saved Best Model\n",
            "[INFO]: VALID EPOCH : 15\tLOSS : 0.0012\tACC : 80.8900\n",
            "[INFO]: Current lr value = 0.029473444655103043\n",
            "loss = 6.618110656738281 batch_id = 97: 100%|██████████| 98/98 [00:25<00:00,  3.85it/s]\n",
            "[INFO]: TRAIN EPOCH : 16\tLOSS : 0.0126\tACC : 75.0660\n",
            "[INFO]: Saved Best Model\n",
            "[INFO]: VALID EPOCH : 16\tLOSS : 0.0011\tACC : 81.7700\n",
            "[INFO]: Current lr value = 0.024135651860807118\n",
            "loss = 6.152060508728027 batch_id = 97: 100%|██████████| 98/98 [00:25<00:00,  3.86it/s]\n",
            "[INFO]: TRAIN EPOCH : 17\tLOSS : 0.0123\tACC : 75.9880\n",
            "[INFO]: VALID EPOCH : 17\tLOSS : 0.0011\tACC : 79.9500\n",
            "[INFO]: Current lr value = 0.019065461556018216\n",
            "loss = 6.0883684158325195 batch_id = 97: 100%|██████████| 98/98 [00:25<00:00,  3.82it/s]\n",
            "[INFO]: TRAIN EPOCH : 18\tLOSS : 0.0119\tACC : 77.0780\n",
            "[INFO]: VALID EPOCH : 18\tLOSS : 0.0012\tACC : 80.8100\n",
            "[INFO]: Current lr value = 0.014387718653037129\n",
            "loss = 5.997812747955322 batch_id = 97: 100%|██████████| 98/98 [00:25<00:00,  3.88it/s]\n",
            "[INFO]: TRAIN EPOCH : 19\tLOSS : 0.0116\tACC : 77.7920\n",
            "[INFO]: VALID EPOCH : 19\tLOSS : 0.0013\tACC : 79.4200\n",
            "[INFO]: Current lr value = 0.010217604706673888\n",
            "loss = 5.60673713684082 batch_id = 97: 100%|██████████| 98/98 [00:25<00:00,  3.89it/s]\n",
            "[INFO]: TRAIN EPOCH : 20\tLOSS : 0.0112\tACC : 79.2260\n",
            "[INFO]: Saved Best Model\n",
            "[INFO]: VALID EPOCH : 20\tLOSS : 0.0008\tACC : 86.2000\n",
            "[INFO]: Current lr value = 0.006657801762102646\n",
            "loss = 5.418698787689209 batch_id = 97: 100%|██████████| 98/98 [00:25<00:00,  3.85it/s]\n",
            "[INFO]: TRAIN EPOCH : 21\tLOSS : 0.0107\tACC : 80.8760\n",
            "[INFO]: Saved Best Model\n",
            "[INFO]: VALID EPOCH : 21\tLOSS : 0.0008\tACC : 86.9800\n",
            "[INFO]: Current lr value = 0.0037959639821274114\n",
            "loss = 5.407002925872803 batch_id = 97: 100%|██████████| 98/98 [00:25<00:00,  3.86it/s]\n",
            "[INFO]: TRAIN EPOCH : 22\tLOSS : 0.0104\tACC : 82.0320\n",
            "[INFO]: Saved Best Model\n",
            "[INFO]: VALID EPOCH : 22\tLOSS : 0.0007\tACC : 87.9900\n",
            "[INFO]: Current lr value = 0.0017025593107862166\n",
            "loss = 5.494288444519043 batch_id = 97: 100%|██████████| 98/98 [00:25<00:00,  3.88it/s]\n",
            "[INFO]: TRAIN EPOCH : 23\tLOSS : 0.0102\tACC : 82.9660\n",
            "[INFO]: Saved Best Model\n",
            "[INFO]: VALID EPOCH : 23\tLOSS : 0.0007\tACC : 88.6000\n",
            "[INFO]: Current lr value = 0.00042913431869925765\n",
            "loss = 5.309201240539551 batch_id = 97: 100%|██████████| 98/98 [00:25<00:00,  3.85it/s]\n",
            "[INFO]: TRAIN EPOCH : 24\tLOSS : 0.0101\tACC : 83.5040\n",
            "[INFO]: Saved Best Model\n",
            "[INFO]: VALID EPOCH : 24\tLOSS : 0.0007\tACC : 88.9900\n"
          ],
          "name": "stderr"
        }
      ]
    },
    {
      "cell_type": "code",
      "metadata": {
        "id": "6L9deWBD7wvt",
        "colab_type": "code",
        "colab": {
          "base_uri": "https://localhost:8080/",
          "height": 34
        },
        "outputId": "ec787e60-2ffc-4728-86f1-2911294bda61"
      },
      "source": [
        "agent.finalize()"
      ],
      "execution_count": 12,
      "outputs": [
        {
          "output_type": "stream",
          "text": [
            "[INFO]: Please wait while finalizing the operations.. Thank you\n"
          ],
          "name": "stderr"
        }
      ]
    },
    {
      "cell_type": "code",
      "metadata": {
        "id": "CS8Quyeu7uJQ",
        "colab_type": "code",
        "colab": {
          "base_uri": "https://localhost:8080/",
          "height": 87
        },
        "outputId": "89fc9907-2031-454a-c5bb-03ccf4261019"
      },
      "source": [
        "iagent_class = globals()[config[\"inference_agent\"]]\n",
        "iagent = iagent_class(config)"
      ],
      "execution_count": 13,
      "outputs": [
        {
          "output_type": "stream",
          "text": [
            "[INFO]: INFERENCE MODE ACTIVATED!!!\n"
          ],
          "name": "stderr"
        },
        {
          "output_type": "stream",
          "text": [
            "Files already downloaded and verified\n",
            "Files already downloaded and verified\n"
          ],
          "name": "stdout"
        },
        {
          "output_type": "stream",
          "text": [
            "[INFO]: Program will RUN on ****GPU-CUDA****\n"
          ],
          "name": "stderr"
        }
      ]
    },
    {
      "cell_type": "code",
      "metadata": {
        "id": "XIs77Utb7uBW",
        "colab_type": "code",
        "colab": {
          "base_uri": "https://localhost:8080/",
          "height": 352
        },
        "outputId": "9a94d7ed-f01e-4562-e92f-5aeba654f376"
      },
      "source": [
        "iagent.plot_lr_graph()"
      ],
      "execution_count": 14,
      "outputs": [
        {
          "output_type": "display_data",
          "data": {
            "image/png": "[encoded data removed]",
            "text/plain": [
              "<Figure size 360x360 with 1 Axes>"
            ]
          },
          "metadata": {
            "tags": [],
            "needs_background": "light"
          }
        },
        {
          "output_type": "stream",
          "text": [
            "[INFO]: Learning Rate Graph saved.\n"
          ],
          "name": "stderr"
        }
      ]
    },
    {
      "cell_type": "code",
      "metadata": {
        "id": "_eVx9Uw281mt",
        "colab_type": "code",
        "colab": {
          "base_uri": "https://localhost:8080/",
          "height": 352
        },
        "outputId": "57cb44f5-fe41-4a03-fc21-a44724e0dfd8"
      },
      "source": [
        "iagent.plot_accuracy_graph()"
      ],
      "execution_count": 16,
      "outputs": [
        {
          "output_type": "display_data",
          "data": {
            "image/png": "[encoded data removed]",
            "text/plain": [
              "<Figure size 360x360 with 1 Axes>"
            ]
          },
          "metadata": {
            "tags": [],
            "needs_background": "light"
          }
        },
        {
          "output_type": "stream",
          "text": [
            "[INFO]: Accuracy Graph saved.\n"
          ],
          "name": "stderr"
        }
      ]
    },
    {
      "cell_type": "code",
      "metadata": {
        "id": "7zJhaPUC9JFH",
        "colab_type": "code",
        "colab": {
          "base_uri": "https://localhost:8080/",
          "height": 352
        },
        "outputId": "0acdbb9f-86ca-406a-8a69-2fdc83954e9c"
      },
      "source": [
        "iagent.plot_loss_graph()"
      ],
      "execution_count": 18,
      "outputs": [
        {
          "output_type": "display_data",
          "data": {
            "image/png": "[encoded data removed]",
            "text/plain": [
              "<Figure size 360x360 with 1 Axes>"
            ]
          },
          "metadata": {
            "tags": [],
            "needs_background": "light"
          }
        },
        {
          "output_type": "stream",
          "text": [
            "[INFO]: Loss Graph saved.\n"
          ],
          "name": "stderr"
        }
      ]
    },
    {
      "cell_type": "markdown",
      "metadata": {
        "id": "-PaBcjYG9fd9",
        "colab_type": "text"
      },
      "source": [
        "This is the case of underfittin model, as the graph is decreasing and not showing horizontal path at end."
      ]
    },
    {
      "cell_type": "code",
      "metadata": {
        "id": "EsrQ1t5Z9eq4",
        "colab_type": "code",
        "colab": {}
      },
      "source": [
        ""
      ],
      "execution_count": 0,
      "outputs": []
    },
    {
      "cell_type": "markdown",
      "metadata": {
        "id": "COrYdPSf7vGe",
        "colab_type": "text"
      },
      "source": [
        "# EXPERIMENT 2"
      ]
    },
    {
      "cell_type": "markdown",
      "metadata": {
        "id": "1cTriGmKHJwq",
        "colab_type": "text"
      },
      "source": [
        "high batch size, increasing for 20% of iterations, \n",
        "low l2 decay = 0.0001"
      ]
    },
    {
      "cell_type": "code",
      "metadata": {
        "id": "buvlBak87t54",
        "colab_type": "code",
        "colab": {}
      },
      "source": [
        "config[\"batch_size\"] = 512\n",
        "config[\"scheduler\"][\"kwargs\"][\"pct_start\"] = 0.2\n",
        "config[\"epochs\"] = 25\n",
        "config[\"l2_decay\"] = 1e-4\n",
        "config[\"scheduler\"][\"kwargs\"][\"div_factor\"] = 10\n",
        "config[\"scheduler\"][\"kwargs\"][\"final_div_factor\"] = 1000\n",
        "config[\"scheduler\"][\"kwargs\"][\"epochs\"] = 10\n",
        "config[\"scheduler\"][\"kwargs\"][\"anneal_strategy\"] = \"linear\""
      ],
      "execution_count": 0,
      "outputs": []
    },
    {
      "cell_type": "code",
      "metadata": {
        "id": "aCFJzF5p7tus",
        "colab_type": "code",
        "colab": {
          "base_uri": "https://localhost:8080/",
          "height": 1000,
          "referenced_widgets": [
            "11fc47a695154aaf9299d1763b46286b",
            "8bfc230c420643d7a4bbdf68c53b3952",
            "9b14feede40b4c55877fa0945af48dba",
            "1fdc572370674d52813b5a3d8cc9b14e",
            "b4d3fa3a8bea4c4bb7f643a3369fb22f",
            "569dc7c7a47d40208dbf1dcbf26f5aff",
            "b2361cc4b611445eb87a3025967c40c2",
            "a57ccb98a535415e9af83d63f8c3e5fb"
          ]
        },
        "outputId": "ff27e61a-0ccc-4e2b-f7e6-9c877c15605a"
      },
      "source": [
        "# initialize agent and find max_lr using lr_finder\n",
        "agent_class = globals()[config[\"agent\"]]\n",
        "agent = agent_class(config)"
      ],
      "execution_count": 10,
      "outputs": [
        {
          "output_type": "stream",
          "text": [
            "[INFO]: TRAINING MODE ACTIVATED!!!\n"
          ],
          "name": "stderr"
        },
        {
          "output_type": "stream",
          "text": [
            "Files already downloaded and verified\n",
            "Files already downloaded and verified\n"
          ],
          "name": "stdout"
        },
        {
          "output_type": "stream",
          "text": [
            "[INFO]: FINDING OPTIM LEARNING RATE...\n"
          ],
          "name": "stderr"
        },
        {
          "output_type": "display_data",
          "data": {
            "application/vnd.jupyter.widget-view+json": {
              "model_id": "11fc47a695154aaf9299d1763b46286b",
              "version_minor": 0,
              "version_major": 2
            },
            "text/plain": [
              "HBox(children=(FloatProgress(value=0.0), HTML(value='')))"
            ]
          },
          "metadata": {
            "tags": []
          }
        },
        {
          "output_type": "stream",
          "text": [
            "Stopping early, the loss has diverged\n",
            "\n",
            "Learning rate search finished. See the graph with {finder_name}.plot()\n"
          ],
          "name": "stdout"
        },
        {
          "output_type": "display_data",
          "data": {
            "image/png": "[encoded data removed]",
            "text/plain": [
              "<Figure size 432x288 with 1 Axes>"
            ]
          },
          "metadata": {
            "tags": [],
            "needs_background": "light"
          }
        },
        {
          "output_type": "stream",
          "text": [
            "[INFO]: Learning rate with minimum loss : 0.04037017258596554\n",
            "[INFO]: Setting optimizer to optim learning rate : 0.04\n",
            "[INFO]: Program will RUN on ****GPU-CUDA****\n",
            "[INFO]: __Python VERSION : 3.6.9 (default, Apr 18 2020, 01:56:04) \n",
            "[GCC 8.4.0]\n",
            "[INFO]: __pytorch VERSION : 1.5.0+cu101\n",
            "[INFO]: __CUDNN VERSION : 7603\n",
            "[INFO]: __Number CUDA Devices : 1\n",
            "[INFO]: __Devices\n",
            "[INFO]: Active CUDA Device : GPU 0\n",
            "[INFO]: Available devices 1\n",
            "[INFO]: Current CUDA device 0\n"
          ],
          "name": "stderr"
        },
        {
          "output_type": "stream",
          "text": [
            "****************************\n",
            "**********NETWORK SUMMARY**********\n",
            "----------------------------------------------------------------\n",
            "        Layer (type)               Output Shape         Param #\n",
            "================================================================\n",
            "            Conv2d-1           [-1, 64, 32, 32]           1,728\n",
            "       BatchNorm2d-2           [-1, 64, 32, 32]             128\n",
            "            Conv2d-3           [-1, 64, 32, 32]          36,864\n",
            "       BatchNorm2d-4           [-1, 64, 32, 32]             128\n",
            "            Conv2d-5           [-1, 64, 32, 32]          36,864\n",
            "       BatchNorm2d-6           [-1, 64, 32, 32]             128\n",
            "        BasicBlock-7           [-1, 64, 32, 32]               0\n",
            "            Conv2d-8           [-1, 64, 32, 32]          36,864\n",
            "       BatchNorm2d-9           [-1, 64, 32, 32]             128\n",
            "           Conv2d-10           [-1, 64, 32, 32]          36,864\n",
            "      BatchNorm2d-11           [-1, 64, 32, 32]             128\n",
            "       BasicBlock-12           [-1, 64, 32, 32]               0\n",
            "           Conv2d-13          [-1, 128, 16, 16]          73,728\n",
            "      BatchNorm2d-14          [-1, 128, 16, 16]             256\n",
            "           Conv2d-15          [-1, 128, 16, 16]         147,456\n",
            "      BatchNorm2d-16          [-1, 128, 16, 16]             256\n",
            "           Conv2d-17          [-1, 128, 16, 16]           8,192\n",
            "      BatchNorm2d-18          [-1, 128, 16, 16]             256\n",
            "       BasicBlock-19          [-1, 128, 16, 16]               0\n",
            "           Conv2d-20          [-1, 128, 16, 16]         147,456\n",
            "      BatchNorm2d-21          [-1, 128, 16, 16]             256\n",
            "           Conv2d-22          [-1, 128, 16, 16]         147,456\n",
            "      BatchNorm2d-23          [-1, 128, 16, 16]             256\n",
            "       BasicBlock-24          [-1, 128, 16, 16]               0\n",
            "           Conv2d-25            [-1, 256, 8, 8]         294,912\n",
            "      BatchNorm2d-26            [-1, 256, 8, 8]             512\n",
            "           Conv2d-27            [-1, 256, 8, 8]         589,824\n",
            "      BatchNorm2d-28            [-1, 256, 8, 8]             512\n",
            "           Conv2d-29            [-1, 256, 8, 8]          32,768\n",
            "      BatchNorm2d-30            [-1, 256, 8, 8]             512\n",
            "       BasicBlock-31            [-1, 256, 8, 8]               0\n",
            "           Conv2d-32            [-1, 256, 8, 8]         589,824\n",
            "      BatchNorm2d-33            [-1, 256, 8, 8]             512\n",
            "           Conv2d-34            [-1, 256, 8, 8]         589,824\n",
            "      BatchNorm2d-35            [-1, 256, 8, 8]             512\n",
            "       BasicBlock-36            [-1, 256, 8, 8]               0\n",
            "           Conv2d-37            [-1, 512, 4, 4]       1,179,648\n",
            "      BatchNorm2d-38            [-1, 512, 4, 4]           1,024\n",
            "           Conv2d-39            [-1, 512, 4, 4]       2,359,296\n",
            "      BatchNorm2d-40            [-1, 512, 4, 4]           1,024\n",
            "           Conv2d-41            [-1, 512, 4, 4]         131,072\n",
            "      BatchNorm2d-42            [-1, 512, 4, 4]           1,024\n",
            "       BasicBlock-43            [-1, 512, 4, 4]               0\n",
            "           Conv2d-44            [-1, 512, 4, 4]       2,359,296\n",
            "      BatchNorm2d-45            [-1, 512, 4, 4]           1,024\n",
            "           Conv2d-46            [-1, 512, 4, 4]       2,359,296\n",
            "      BatchNorm2d-47            [-1, 512, 4, 4]           1,024\n",
            "       BasicBlock-48            [-1, 512, 4, 4]               0\n",
            "           Linear-49                   [-1, 10]           5,130\n",
            "================================================================\n",
            "Total params: 11,173,962\n",
            "Trainable params: 11,173,962\n",
            "Non-trainable params: 0\n",
            "----------------------------------------------------------------\n",
            "Input size (MB): 0.01\n",
            "Forward/backward pass size (MB): 11.25\n",
            "Params size (MB): 42.63\n",
            "Estimated Total Size (MB): 53.89\n",
            "----------------------------------------------------------------\n",
            "****************************\n"
          ],
          "name": "stdout"
        }
      ]
    },
    {
      "cell_type": "code",
      "metadata": {
        "id": "BWqFb4qJ9wls",
        "colab_type": "code",
        "colab": {
          "base_uri": "https://localhost:8080/",
          "height": 958
        },
        "outputId": "57203d08-d97f-46b2-dc72-cfad54701e39"
      },
      "source": [
        "import time\n",
        "start = time.time()\n",
        "# run for few epochs and check the graph\n",
        "agent.run()\n",
        "print(time.time()-start)"
      ],
      "execution_count": 11,
      "outputs": [
        {
          "output_type": "stream",
          "text": [
            "[INFO]: Current lr value = 0.004\n",
            "loss = 7.35660982131958 batch_id = 97: 100%|██████████| 98/98 [00:25<00:00,  3.87it/s]\n",
            "[INFO]: TRAIN EPOCH : 0\tLOSS : 0.0157\tACC : 31.0840\n",
            "[INFO]: Saved Best Model\n",
            "[INFO]: VALID EPOCH : 0\tLOSS : 0.0033\tACC : 39.4500\n",
            "[INFO]: Current lr value = 0.022092307692307696\n",
            "loss = 6.915872573852539 batch_id = 97: 100%|██████████| 98/98 [00:25<00:00,  3.88it/s]\n",
            "[INFO]: TRAIN EPOCH : 1\tLOSS : 0.0135\tACC : 42.2760\n",
            "[INFO]: Saved Best Model\n",
            "[INFO]: VALID EPOCH : 1\tLOSS : 0.0030\tACC : 47.7100\n",
            "[INFO]: Current lr value = 0.03994898469387755\n",
            "loss = 5.752560615539551 batch_id = 97: 100%|██████████| 98/98 [00:25<00:00,  3.86it/s]\n",
            "[INFO]: TRAIN EPOCH : 2\tLOSS : 0.0118\tACC : 50.9620\n",
            "[INFO]: VALID EPOCH : 2\tLOSS : 0.0038\tACC : 43.4300\n",
            "[INFO]: Current lr value = 0.034949484693877556\n",
            "loss = 5.177650451660156 batch_id = 97: 100%|██████████| 98/98 [00:25<00:00,  3.87it/s]\n",
            "[INFO]: TRAIN EPOCH : 3\tLOSS : 0.0107\tACC : 56.0460\n",
            "[INFO]: Saved Best Model\n",
            "[INFO]: VALID EPOCH : 3\tLOSS : 0.0024\tACC : 58.1700\n",
            "[INFO]: Current lr value = 0.02994998469387755\n",
            "loss = 4.907553195953369 batch_id = 97: 100%|██████████| 98/98 [00:25<00:00,  3.83it/s]\n",
            "[INFO]: TRAIN EPOCH : 4\tLOSS : 0.0097\tACC : 61.1780\n",
            "[INFO]: Saved Best Model\n",
            "[INFO]: VALID EPOCH : 4\tLOSS : 0.0018\tACC : 69.3900\n",
            "[INFO]: Current lr value = 0.02495048469387755\n",
            "loss = 4.490152359008789 batch_id = 97: 100%|██████████| 98/98 [00:25<00:00,  3.81it/s]\n",
            "[INFO]: TRAIN EPOCH : 5\tLOSS : 0.0090\tACC : 64.2780\n",
            "[INFO]: Saved Best Model\n",
            "[INFO]: VALID EPOCH : 5\tLOSS : 0.0018\tACC : 70.7700\n",
            "[INFO]: Current lr value = 0.019950984693877547\n",
            "loss = 4.302552223205566 batch_id = 97: 100%|██████████| 98/98 [00:25<00:00,  3.81it/s]\n",
            "[INFO]: TRAIN EPOCH : 6\tLOSS : 0.0085\tACC : 66.8960\n",
            "[INFO]: Saved Best Model\n",
            "[INFO]: VALID EPOCH : 6\tLOSS : 0.0017\tACC : 71.0400\n",
            "[INFO]: Current lr value = 0.014951484693877547\n",
            "loss = 3.6602251529693604 batch_id = 97: 100%|██████████| 98/98 [00:25<00:00,  3.82it/s]\n",
            "[INFO]: TRAIN EPOCH : 7\tLOSS : 0.0079\tACC : 69.2340\n",
            "[INFO]: Saved Best Model\n",
            "[INFO]: VALID EPOCH : 7\tLOSS : 0.0015\tACC : 74.0000\n",
            "[INFO]: Current lr value = 0.009951984693877546\n",
            "loss = 3.7539215087890625 batch_id = 97: 100%|██████████| 98/98 [00:25<00:00,  3.81it/s]\n",
            "[INFO]: TRAIN EPOCH : 8\tLOSS : 0.0075\tACC : 71.1200\n",
            "[INFO]: Saved Best Model\n",
            "[INFO]: VALID EPOCH : 8\tLOSS : 0.0012\tACC : 78.9200\n",
            "[INFO]: Current lr value = 0.004952484693877546\n",
            "loss = 3.2207541465759277 batch_id = 97: 100%|██████████| 98/98 [00:25<00:00,  3.79it/s]\n",
            "[INFO]: TRAIN EPOCH : 9\tLOSS : 0.0070\tACC : 73.2380\n",
            "[INFO]: Saved Best Model\n",
            "[INFO]: VALID EPOCH : 9\tLOSS : 0.0011\tACC : 81.8000\n",
            "[INFO]: Current lr value = -4.701530612245125e-05\n",
            "  0%|          | 0/98 [00:01<?, ?it/s]\n",
            "[INFO]: Tried to step 982 times. The specified number of total steps is 980\n"
          ],
          "name": "stderr"
        },
        {
          "output_type": "stream",
          "text": [
            "329.0543351173401\n"
          ],
          "name": "stdout"
        }
      ]
    },
    {
      "cell_type": "code",
      "metadata": {
        "id": "E2TnROar_Ap0",
        "colab_type": "code",
        "colab": {
          "base_uri": "https://localhost:8080/",
          "height": 34
        },
        "outputId": "6f361711-6941-4421-fc54-c248fc56a1f6"
      },
      "source": [
        "agent.finalize()"
      ],
      "execution_count": 12,
      "outputs": [
        {
          "output_type": "stream",
          "text": [
            "[INFO]: Please wait while finalizing the operations.. Thank you\n"
          ],
          "name": "stderr"
        }
      ]
    },
    {
      "cell_type": "code",
      "metadata": {
        "id": "I6MUTXyFAqsS",
        "colab_type": "code",
        "colab": {
          "base_uri": "https://localhost:8080/",
          "height": 87
        },
        "outputId": "28db6e99-be94-4383-a91f-3e1b77f0ecc2"
      },
      "source": [
        "iagent_class = globals()[config[\"inference_agent\"]]\n",
        "iagent = iagent_class(config)"
      ],
      "execution_count": 13,
      "outputs": [
        {
          "output_type": "stream",
          "text": [
            "[INFO]: INFERENCE MODE ACTIVATED!!!\n"
          ],
          "name": "stderr"
        },
        {
          "output_type": "stream",
          "text": [
            "Files already downloaded and verified\n",
            "Files already downloaded and verified\n"
          ],
          "name": "stdout"
        },
        {
          "output_type": "stream",
          "text": [
            "[INFO]: Program will RUN on ****GPU-CUDA****\n"
          ],
          "name": "stderr"
        }
      ]
    },
    {
      "cell_type": "code",
      "metadata": {
        "id": "h9PG7p1cAvM-",
        "colab_type": "code",
        "colab": {
          "base_uri": "https://localhost:8080/",
          "height": 352
        },
        "outputId": "50d71830-3255-4122-bf3b-a85168e4d184"
      },
      "source": [
        "iagent.plot_lr_graph()"
      ],
      "execution_count": 14,
      "outputs": [
        {
          "output_type": "display_data",
          "data": {
            "image/png": "[encoded data removed]",
            "text/plain": [
              "<Figure size 360x360 with 1 Axes>"
            ]
          },
          "metadata": {
            "tags": [],
            "needs_background": "light"
          }
        },
        {
          "output_type": "stream",
          "text": [
            "[INFO]: Learning Rate Graph saved.\n"
          ],
          "name": "stderr"
        }
      ]
    },
    {
      "cell_type": "code",
      "metadata": {
        "id": "ooPrTp0hA0Cg",
        "colab_type": "code",
        "colab": {
          "base_uri": "https://localhost:8080/",
          "height": 352
        },
        "outputId": "39189076-bce2-4ad4-e251-4b61c6d4ef24"
      },
      "source": [
        "iagent.plot_accuracy_graph()"
      ],
      "execution_count": 16,
      "outputs": [
        {
          "output_type": "display_data",
          "data": {
            "image/png": "[encoded data removed]",
            "text/plain": [
              "<Figure size 360x360 with 1 Axes>"
            ]
          },
          "metadata": {
            "tags": [],
            "needs_background": "light"
          }
        },
        {
          "output_type": "stream",
          "text": [
            "[INFO]: Accuracy Graph saved.\n"
          ],
          "name": "stderr"
        }
      ]
    },
    {
      "cell_type": "code",
      "metadata": {
        "id": "vZxHfB_mA4LN",
        "colab_type": "code",
        "colab": {
          "base_uri": "https://localhost:8080/",
          "height": 352
        },
        "outputId": "4478009a-9832-4316-8171-5a7432036872"
      },
      "source": [
        "iagent.plot_loss_graph()"
      ],
      "execution_count": 17,
      "outputs": [
        {
          "output_type": "display_data",
          "data": {
            "image/png": "[encoded data removed]",
            "text/plain": [
              "<Figure size 360x360 with 1 Axes>"
            ]
          },
          "metadata": {
            "tags": [],
            "needs_background": "light"
          }
        },
        {
          "output_type": "stream",
          "text": [
            "[INFO]: Loss Graph saved.\n"
          ],
          "name": "stderr"
        }
      ]
    },
    {
      "cell_type": "markdown",
      "metadata": {
        "id": "MlItOWB6BIsD",
        "colab_type": "text"
      },
      "source": [
        "For higher learning rate we can see overfitting in graph."
      ]
    },
    {
      "cell_type": "markdown",
      "metadata": {
        "id": "TBmQhVdGBTH0",
        "colab_type": "text"
      },
      "source": [
        "# EXPERIMENT 3"
      ]
    },
    {
      "cell_type": "markdown",
      "metadata": {
        "id": "y8OuYvXVHO-3",
        "colab_type": "text"
      },
      "source": [
        "high batch size, increasing for 30% of iterations, \n",
        "low l2 decay = 0.0001"
      ]
    },
    {
      "cell_type": "code",
      "metadata": {
        "id": "D3xLqSCjA9-u",
        "colab_type": "code",
        "colab": {}
      },
      "source": [
        "config[\"batch_size\"] = 512\n",
        "config[\"scheduler\"][\"kwargs\"][\"pct_start\"] = 0.3\n",
        "config[\"epochs\"] = 25\n",
        "config[\"l2_decay\"] = 1e-4\n",
        "config[\"scheduler\"][\"kwargs\"][\"div_factor\"] = 10\n",
        "config[\"scheduler\"][\"kwargs\"][\"final_div_factor\"] = 100\n",
        "config[\"scheduler\"][\"kwargs\"][\"epochs\"] = 15\n",
        "config[\"scheduler\"][\"kwargs\"][\"anneal_strategy\"] = \"linear\""
      ],
      "execution_count": 0,
      "outputs": []
    },
    {
      "cell_type": "code",
      "metadata": {
        "id": "ytUC9LIgBl6k",
        "colab_type": "code",
        "colab": {
          "base_uri": "https://localhost:8080/",
          "height": 1000,
          "referenced_widgets": [
            "072ee977daf940908d182265deeb3060",
            "627d9d896ad247ffbce3a2bc3d302278",
            "5fc2f61f2fcc4e5aaec81638667ff7ef",
            "a39d168a67764f6f8e4f9f8ea5c6de1d",
            "23bc8004a3cc4806b5a69c573324c456",
            "e4a6a9dcf6ec4e67a5678e5de60fac88",
            "750edfcb62e340c79f2d55082ba33d6b",
            "cfde473fc9d045d5a438c68d0a8f4d6d"
          ]
        },
        "outputId": "d66e0e39-8697-47df-e348-048ac1354155"
      },
      "source": [
        "# initialize agent and find max_lr using lr_finder\n",
        "agent_class = globals()[config[\"agent\"]]\n",
        "agent = agent_class(config)"
      ],
      "execution_count": 20,
      "outputs": [
        {
          "output_type": "stream",
          "text": [
            "[INFO]: TRAINING MODE ACTIVATED!!!\n"
          ],
          "name": "stderr"
        },
        {
          "output_type": "stream",
          "text": [
            "Files already downloaded and verified\n",
            "Files already downloaded and verified\n"
          ],
          "name": "stdout"
        },
        {
          "output_type": "stream",
          "text": [
            "[INFO]: FINDING OPTIM LEARNING RATE...\n"
          ],
          "name": "stderr"
        },
        {
          "output_type": "display_data",
          "data": {
            "application/vnd.jupyter.widget-view+json": {
              "model_id": "072ee977daf940908d182265deeb3060",
              "version_minor": 0,
              "version_major": 2
            },
            "text/plain": [
              "HBox(children=(FloatProgress(value=0.0), HTML(value='')))"
            ]
          },
          "metadata": {
            "tags": []
          }
        },
        {
          "output_type": "stream",
          "text": [
            "Stopping early, the loss has diverged\n",
            "\n",
            "Learning rate search finished. See the graph with {finder_name}.plot()\n"
          ],
          "name": "stdout"
        },
        {
          "output_type": "display_data",
          "data": {
            "image/png": "[encoded data removed]",
            "text/plain": [
              "<Figure size 432x288 with 1 Axes>"
            ]
          },
          "metadata": {
            "tags": [],
            "needs_background": "light"
          }
        },
        {
          "output_type": "stream",
          "text": [
            "[INFO]: Learning rate with minimum loss : 0.0911162756115489\n",
            "[INFO]: Setting optimizer to optim learning rate : 0.09\n",
            "[INFO]: Program will RUN on ****GPU-CUDA****\n",
            "[INFO]: __Python VERSION : 3.6.9 (default, Apr 18 2020, 01:56:04) \n",
            "[GCC 8.4.0]\n",
            "[INFO]: __pytorch VERSION : 1.5.0+cu101\n",
            "[INFO]: __CUDNN VERSION : 7603\n",
            "[INFO]: __Number CUDA Devices : 1\n",
            "[INFO]: __Devices\n",
            "[INFO]: Active CUDA Device : GPU 0\n",
            "[INFO]: Available devices 1\n",
            "[INFO]: Current CUDA device 0\n"
          ],
          "name": "stderr"
        },
        {
          "output_type": "stream",
          "text": [
            "****************************\n",
            "**********NETWORK SUMMARY**********\n",
            "----------------------------------------------------------------\n",
            "        Layer (type)               Output Shape         Param #\n",
            "================================================================\n",
            "            Conv2d-1           [-1, 64, 32, 32]           1,728\n",
            "       BatchNorm2d-2           [-1, 64, 32, 32]             128\n",
            "            Conv2d-3           [-1, 64, 32, 32]          36,864\n",
            "       BatchNorm2d-4           [-1, 64, 32, 32]             128\n",
            "            Conv2d-5           [-1, 64, 32, 32]          36,864\n",
            "       BatchNorm2d-6           [-1, 64, 32, 32]             128\n",
            "        BasicBlock-7           [-1, 64, 32, 32]               0\n",
            "            Conv2d-8           [-1, 64, 32, 32]          36,864\n",
            "       BatchNorm2d-9           [-1, 64, 32, 32]             128\n",
            "           Conv2d-10           [-1, 64, 32, 32]          36,864\n",
            "      BatchNorm2d-11           [-1, 64, 32, 32]             128\n",
            "       BasicBlock-12           [-1, 64, 32, 32]               0\n",
            "           Conv2d-13          [-1, 128, 16, 16]          73,728\n",
            "      BatchNorm2d-14          [-1, 128, 16, 16]             256\n",
            "           Conv2d-15          [-1, 128, 16, 16]         147,456\n",
            "      BatchNorm2d-16          [-1, 128, 16, 16]             256\n",
            "           Conv2d-17          [-1, 128, 16, 16]           8,192\n",
            "      BatchNorm2d-18          [-1, 128, 16, 16]             256\n",
            "       BasicBlock-19          [-1, 128, 16, 16]               0\n",
            "           Conv2d-20          [-1, 128, 16, 16]         147,456\n",
            "      BatchNorm2d-21          [-1, 128, 16, 16]             256\n",
            "           Conv2d-22          [-1, 128, 16, 16]         147,456\n",
            "      BatchNorm2d-23          [-1, 128, 16, 16]             256\n",
            "       BasicBlock-24          [-1, 128, 16, 16]               0\n",
            "           Conv2d-25            [-1, 256, 8, 8]         294,912\n",
            "      BatchNorm2d-26            [-1, 256, 8, 8]             512\n",
            "           Conv2d-27            [-1, 256, 8, 8]         589,824\n",
            "      BatchNorm2d-28            [-1, 256, 8, 8]             512\n",
            "           Conv2d-29            [-1, 256, 8, 8]          32,768\n",
            "      BatchNorm2d-30            [-1, 256, 8, 8]             512\n",
            "       BasicBlock-31            [-1, 256, 8, 8]               0\n",
            "           Conv2d-32            [-1, 256, 8, 8]         589,824\n",
            "      BatchNorm2d-33            [-1, 256, 8, 8]             512\n",
            "           Conv2d-34            [-1, 256, 8, 8]         589,824\n",
            "      BatchNorm2d-35            [-1, 256, 8, 8]             512\n",
            "       BasicBlock-36            [-1, 256, 8, 8]               0\n",
            "           Conv2d-37            [-1, 512, 4, 4]       1,179,648\n",
            "      BatchNorm2d-38            [-1, 512, 4, 4]           1,024\n",
            "           Conv2d-39            [-1, 512, 4, 4]       2,359,296\n",
            "      BatchNorm2d-40            [-1, 512, 4, 4]           1,024\n",
            "           Conv2d-41            [-1, 512, 4, 4]         131,072\n",
            "      BatchNorm2d-42            [-1, 512, 4, 4]           1,024\n",
            "       BasicBlock-43            [-1, 512, 4, 4]               0\n",
            "           Conv2d-44            [-1, 512, 4, 4]       2,359,296\n",
            "      BatchNorm2d-45            [-1, 512, 4, 4]           1,024\n",
            "           Conv2d-46            [-1, 512, 4, 4]       2,359,296\n",
            "      BatchNorm2d-47            [-1, 512, 4, 4]           1,024\n",
            "       BasicBlock-48            [-1, 512, 4, 4]               0\n",
            "           Linear-49                   [-1, 10]           5,130\n",
            "================================================================\n",
            "Total params: 11,173,962\n",
            "Trainable params: 11,173,962\n",
            "Non-trainable params: 0\n",
            "----------------------------------------------------------------\n",
            "Input size (MB): 0.01\n",
            "Forward/backward pass size (MB): 11.25\n",
            "Params size (MB): 42.63\n",
            "Estimated Total Size (MB): 53.89\n",
            "----------------------------------------------------------------\n",
            "****************************\n"
          ],
          "name": "stdout"
        }
      ]
    },
    {
      "cell_type": "code",
      "metadata": {
        "id": "ElU0F1aQBz1p",
        "colab_type": "code",
        "colab": {
          "base_uri": "https://localhost:8080/",
          "height": 1000
        },
        "outputId": "cad24d28-777f-4fef-e16e-dd900675ed1b"
      },
      "source": [
        "import time\n",
        "start = time.time()\n",
        "# run for few epochs and check the graph\n",
        "agent.run()\n",
        "print(time.time()-start)"
      ],
      "execution_count": 21,
      "outputs": [
        {
          "output_type": "stream",
          "text": [
            "[INFO]: Current lr value = 0.009\n",
            "loss = 7.3469014167785645 batch_id = 97: 100%|██████████| 98/98 [00:25<00:00,  3.88it/s]\n",
            "[INFO]: TRAIN EPOCH : 0\tLOSS : 0.0158\tACC : 30.8980\n",
            "[INFO]: Saved Best Model\n",
            "[INFO]: VALID EPOCH : 0\tLOSS : 0.0035\tACC : 37.6200\n",
            "[INFO]: Current lr value = 0.027040909090909088\n",
            "loss = 6.338674545288086 batch_id = 97: 100%|██████████| 98/98 [00:25<00:00,  3.85it/s]\n",
            "[INFO]: TRAIN EPOCH : 1\tLOSS : 0.0135\tACC : 41.9340\n",
            "[INFO]: Saved Best Model\n",
            "[INFO]: VALID EPOCH : 1\tLOSS : 0.0032\tACC : 44.1800\n",
            "[INFO]: Current lr value = 0.04508181818181818\n",
            "loss = 5.736429691314697 batch_id = 97: 100%|██████████| 98/98 [00:25<00:00,  3.83it/s]\n",
            "[INFO]: TRAIN EPOCH : 2\tLOSS : 0.0122\tACC : 48.8760\n",
            "[INFO]: Saved Best Model\n",
            "[INFO]: VALID EPOCH : 2\tLOSS : 0.0028\tACC : 51.7400\n",
            "[INFO]: Current lr value = 0.06312272727272727\n",
            "loss = 6.0186285972595215 batch_id = 97: 100%|██████████| 98/98 [00:25<00:00,  3.81it/s]\n",
            "[INFO]: TRAIN EPOCH : 3\tLOSS : 0.0112\tACC : 54.0460\n",
            "[INFO]: Saved Best Model\n",
            "[INFO]: VALID EPOCH : 3\tLOSS : 0.0029\tACC : 52.4300\n",
            "[INFO]: Current lr value = 0.08116363636363635\n",
            "loss = 4.863246440887451 batch_id = 97: 100%|██████████| 98/98 [00:25<00:00,  3.81it/s]\n",
            "[INFO]: TRAIN EPOCH : 4\tLOSS : 0.0103\tACC : 58.4000\n",
            "[INFO]: Saved Best Model\n",
            "[INFO]: VALID EPOCH : 4\tLOSS : 0.0021\tACC : 64.4400\n",
            "[INFO]: Current lr value = 0.08563119533527697\n",
            "loss = 4.516321182250977 batch_id = 97: 100%|██████████| 98/98 [00:25<00:00,  3.81it/s]\n",
            "[INFO]: TRAIN EPOCH : 5\tLOSS : 0.0094\tACC : 62.6020\n",
            "[INFO]: Saved Best Model\n",
            "[INFO]: VALID EPOCH : 5\tLOSS : 0.0019\tACC : 66.9600\n",
            "[INFO]: Current lr value = 0.07706833819241982\n",
            "loss = 4.083502292633057 batch_id = 97: 100%|██████████| 98/98 [00:25<00:00,  3.79it/s]\n",
            "[INFO]: TRAIN EPOCH : 6\tLOSS : 0.0088\tACC : 65.1800\n",
            "[INFO]: Saved Best Model\n",
            "[INFO]: VALID EPOCH : 6\tLOSS : 0.0018\tACC : 70.8400\n",
            "[INFO]: Current lr value = 0.06850548104956268\n",
            "loss = 4.226783752441406 batch_id = 97: 100%|██████████| 98/98 [00:25<00:00,  3.79it/s]\n",
            "[INFO]: TRAIN EPOCH : 7\tLOSS : 0.0084\tACC : 67.2960\n",
            "[INFO]: Saved Best Model\n",
            "[INFO]: VALID EPOCH : 7\tLOSS : 0.0014\tACC : 75.3000\n",
            "[INFO]: Current lr value = 0.05994262390670554\n",
            "loss = 3.751418113708496 batch_id = 97: 100%|██████████| 98/98 [00:25<00:00,  3.79it/s]\n",
            "[INFO]: TRAIN EPOCH : 8\tLOSS : 0.0080\tACC : 69.1440\n",
            "[INFO]: VALID EPOCH : 8\tLOSS : 0.0017\tACC : 72.6000\n",
            "[INFO]: Current lr value = 0.051379766763848395\n",
            "loss = 3.82206654548645 batch_id = 97: 100%|██████████| 98/98 [00:25<00:00,  3.86it/s]\n",
            "[INFO]: TRAIN EPOCH : 9\tLOSS : 0.0076\tACC : 70.9920\n",
            "[INFO]: Saved Best Model\n",
            "[INFO]: VALID EPOCH : 9\tLOSS : 0.0014\tACC : 76.3600\n",
            "[INFO]: Current lr value = 0.04281690962099126\n",
            "loss = 3.5002963542938232 batch_id = 97: 100%|██████████| 98/98 [00:25<00:00,  3.78it/s]\n",
            "[INFO]: TRAIN EPOCH : 10\tLOSS : 0.0073\tACC : 72.4700\n",
            "[INFO]: Saved Best Model\n",
            "[INFO]: VALID EPOCH : 10\tLOSS : 0.0011\tACC : 80.8900\n",
            "[INFO]: Current lr value = 0.03425405247813411\n",
            "loss = 3.1369333267211914 batch_id = 97: 100%|██████████| 98/98 [00:25<00:00,  3.83it/s]\n",
            "[INFO]: TRAIN EPOCH : 11\tLOSS : 0.0070\tACC : 73.9320\n",
            "[INFO]: VALID EPOCH : 11\tLOSS : 0.0012\tACC : 80.2300\n",
            "[INFO]: Current lr value = 0.025691195335276973\n",
            "loss = 3.417203903198242 batch_id = 97: 100%|██████████| 98/98 [00:25<00:00,  3.81it/s]\n",
            "[INFO]: TRAIN EPOCH : 12\tLOSS : 0.0067\tACC : 75.4260\n",
            "[INFO]: VALID EPOCH : 12\tLOSS : 0.0012\tACC : 79.8500\n",
            "[INFO]: Current lr value = 0.017128338192419823\n",
            "loss = 3.0120115280151367 batch_id = 97: 100%|██████████| 98/98 [00:25<00:00,  3.84it/s]\n",
            "[INFO]: TRAIN EPOCH : 13\tLOSS : 0.0064\tACC : 76.7740\n",
            "[INFO]: Saved Best Model\n",
            "[INFO]: VALID EPOCH : 13\tLOSS : 0.0009\tACC : 84.0800\n",
            "[INFO]: Current lr value = 0.008565481049562687\n",
            "loss = 2.937589168548584 batch_id = 97: 100%|██████████| 98/98 [00:25<00:00,  3.83it/s]\n",
            "[INFO]: TRAIN EPOCH : 14\tLOSS : 0.0061\tACC : 78.0560\n",
            "[INFO]: Saved Best Model\n",
            "[INFO]: VALID EPOCH : 14\tLOSS : 0.0009\tACC : 85.5400\n",
            "[INFO]: Current lr value = 2.623906705537249e-06\n",
            "  0%|          | 0/98 [00:01<?, ?it/s]\n",
            "[INFO]: Tried to step 1472 times. The specified number of total steps is 1470\n"
          ],
          "name": "stderr"
        },
        {
          "output_type": "stream",
          "text": [
            "517.9666950702667\n"
          ],
          "name": "stdout"
        }
      ]
    },
    {
      "cell_type": "code",
      "metadata": {
        "id": "MLoavqbXCC9f",
        "colab_type": "code",
        "colab": {
          "base_uri": "https://localhost:8080/",
          "height": 34
        },
        "outputId": "5fc66d1d-1714-4cdb-8671-6fd5ca91a062"
      },
      "source": [
        "agent.finalize()"
      ],
      "execution_count": 22,
      "outputs": [
        {
          "output_type": "stream",
          "text": [
            "[INFO]: Please wait while finalizing the operations.. Thank you\n"
          ],
          "name": "stderr"
        }
      ]
    },
    {
      "cell_type": "code",
      "metadata": {
        "id": "U2uYINfBCJVU",
        "colab_type": "code",
        "colab": {
          "base_uri": "https://localhost:8080/",
          "height": 87
        },
        "outputId": "199ca0a7-c642-44af-8e5a-f9a8d33cdbd1"
      },
      "source": [
        "iagent_class = globals()[config[\"inference_agent\"]]\n",
        "iagent = iagent_class(config)"
      ],
      "execution_count": 23,
      "outputs": [
        {
          "output_type": "stream",
          "text": [
            "[INFO]: INFERENCE MODE ACTIVATED!!!\n"
          ],
          "name": "stderr"
        },
        {
          "output_type": "stream",
          "text": [
            "Files already downloaded and verified\n",
            "Files already downloaded and verified\n"
          ],
          "name": "stdout"
        },
        {
          "output_type": "stream",
          "text": [
            "[INFO]: Program will RUN on ****GPU-CUDA****\n"
          ],
          "name": "stderr"
        }
      ]
    },
    {
      "cell_type": "code",
      "metadata": {
        "id": "VtNDDBBfCPvA",
        "colab_type": "code",
        "colab": {
          "base_uri": "https://localhost:8080/",
          "height": 352
        },
        "outputId": "bdf8c9bc-4106-47bf-9a70-42f7e4bf5c3f"
      },
      "source": [
        "iagent.plot_lr_graph()"
      ],
      "execution_count": 24,
      "outputs": [
        {
          "output_type": "display_data",
          "data": {
            "image/png": "[encoded data removed]",
            "text/plain": [
              "<Figure size 360x360 with 1 Axes>"
            ]
          },
          "metadata": {
            "tags": [],
            "needs_background": "light"
          }
        },
        {
          "output_type": "stream",
          "text": [
            "[INFO]: Learning Rate Graph saved.\n"
          ],
          "name": "stderr"
        }
      ]
    },
    {
      "cell_type": "code",
      "metadata": {
        "id": "UeDbL16rCQZL",
        "colab_type": "code",
        "colab": {
          "base_uri": "https://localhost:8080/",
          "height": 352
        },
        "outputId": "b899b0c6-486c-48bb-dabc-5843bbb11138"
      },
      "source": [
        "iagent.plot_accuracy_graph()"
      ],
      "execution_count": 25,
      "outputs": [
        {
          "output_type": "display_data",
          "data": {
            "image/png": "[encoded data removed]",
            "text/plain": [
              "<Figure size 360x360 with 1 Axes>"
            ]
          },
          "metadata": {
            "tags": [],
            "needs_background": "light"
          }
        },
        {
          "output_type": "stream",
          "text": [
            "[INFO]: Accuracy Graph saved.\n"
          ],
          "name": "stderr"
        }
      ]
    },
    {
      "cell_type": "code",
      "metadata": {
        "id": "qJe9HeSuCS1j",
        "colab_type": "code",
        "colab": {
          "base_uri": "https://localhost:8080/",
          "height": 352
        },
        "outputId": "045b5adb-b9e3-4c13-e088-967b3b6a5bea"
      },
      "source": [
        "iagent.plot_loss_graph()"
      ],
      "execution_count": 26,
      "outputs": [
        {
          "output_type": "display_data",
          "data": {
            "image/png": "[encoded data removed]",
            "text/plain": [
              "<Figure size 360x360 with 1 Axes>"
            ]
          },
          "metadata": {
            "tags": [],
            "needs_background": "light"
          }
        },
        {
          "output_type": "stream",
          "text": [
            "[INFO]: Loss Graph saved.\n"
          ],
          "name": "stderr"
        }
      ]
    },
    {
      "cell_type": "markdown",
      "metadata": {
        "id": "IuipyMeDEybz",
        "colab_type": "text"
      },
      "source": [
        "# EXPERIMENT 4"
      ]
    },
    {
      "cell_type": "markdown",
      "metadata": {
        "id": "xT33isonHUj5",
        "colab_type": "text"
      },
      "source": [
        "high batch size, increasing for 20% of iterations, high l2 decay = 0.005, increase number epochs "
      ]
    },
    {
      "cell_type": "code",
      "metadata": {
        "id": "vPdk8hGsEVul",
        "colab_type": "code",
        "colab": {}
      },
      "source": [
        "config[\"batch_size\"] = 512\n",
        "config[\"scheduler\"][\"kwargs\"][\"pct_start\"] = 0.2\n",
        "config[\"epochs\"] = 25\n",
        "config[\"l2_decay\"] = 0.005\n",
        "config[\"scheduler\"][\"kwargs\"][\"div_factor\"] = 10\n",
        "config[\"scheduler\"][\"kwargs\"][\"final_div_factor\"] = 100\n",
        "config[\"scheduler\"][\"kwargs\"][\"epochs\"] = 15\n",
        "config[\"scheduler\"][\"kwargs\"][\"anneal_strategy\"] = \"linear\""
      ],
      "execution_count": 0,
      "outputs": []
    },
    {
      "cell_type": "code",
      "metadata": {
        "id": "J2fuW3hwE-Bg",
        "colab_type": "code",
        "colab": {
          "base_uri": "https://localhost:8080/",
          "height": 1000,
          "referenced_widgets": [
            "9815f5fa81b74991826762fa4cb245f4",
            "2721edaf8c02424b8e449617e297d7f4",
            "4a71ac0cc89b46e29b078dab590911e8",
            "101178afc54c41e7812be657a717e18e",
            "ee8987c92adc49518bea626c117164f1",
            "7ddc27079bf44f87abcb75d0492ccdb1",
            "63b27a3876534af4a2ffdd6c57d37967",
            "21973f5b9e7a4076a87a731abf38e190"
          ]
        },
        "outputId": "2091b715-10f7-4ab3-ef73-29278eea33fd"
      },
      "source": [
        "# initialize agent and find max_lr using lr_finder\n",
        "agent_class = globals()[config[\"agent\"]]\n",
        "agent = agent_class(config)"
      ],
      "execution_count": 28,
      "outputs": [
        {
          "output_type": "stream",
          "text": [
            "[INFO]: TRAINING MODE ACTIVATED!!!\n"
          ],
          "name": "stderr"
        },
        {
          "output_type": "stream",
          "text": [
            "Files already downloaded and verified\n",
            "Files already downloaded and verified\n"
          ],
          "name": "stdout"
        },
        {
          "output_type": "stream",
          "text": [
            "[INFO]: FINDING OPTIM LEARNING RATE...\n"
          ],
          "name": "stderr"
        },
        {
          "output_type": "display_data",
          "data": {
            "application/vnd.jupyter.widget-view+json": {
              "model_id": "9815f5fa81b74991826762fa4cb245f4",
              "version_minor": 0,
              "version_major": 2
            },
            "text/plain": [
              "HBox(children=(FloatProgress(value=0.0), HTML(value='')))"
            ]
          },
          "metadata": {
            "tags": []
          }
        },
        {
          "output_type": "stream",
          "text": [
            "Stopping early, the loss has diverged\n",
            "\n",
            "Learning rate search finished. See the graph with {finder_name}.plot()\n"
          ],
          "name": "stdout"
        },
        {
          "output_type": "display_data",
          "data": {
            "image/png": "[encoded data removed]",
            "text/plain": [
              "<Figure size 432x288 with 1 Axes>"
            ]
          },
          "metadata": {
            "tags": [],
            "needs_background": "light"
          }
        },
        {
          "output_type": "stream",
          "text": [
            "[INFO]: Learning rate with minimum loss : 0.07742636826811275\n",
            "[INFO]: Setting optimizer to optim learning rate : 0.08\n",
            "[INFO]: Program will RUN on ****GPU-CUDA****\n",
            "[INFO]: __Python VERSION : 3.6.9 (default, Apr 18 2020, 01:56:04) \n",
            "[GCC 8.4.0]\n",
            "[INFO]: __pytorch VERSION : 1.5.0+cu101\n",
            "[INFO]: __CUDNN VERSION : 7603\n",
            "[INFO]: __Number CUDA Devices : 1\n",
            "[INFO]: __Devices\n",
            "[INFO]: Active CUDA Device : GPU 0\n",
            "[INFO]: Available devices 1\n",
            "[INFO]: Current CUDA device 0\n"
          ],
          "name": "stderr"
        },
        {
          "output_type": "stream",
          "text": [
            "****************************\n",
            "**********NETWORK SUMMARY**********\n",
            "----------------------------------------------------------------\n",
            "        Layer (type)               Output Shape         Param #\n",
            "================================================================\n",
            "            Conv2d-1           [-1, 64, 32, 32]           1,728\n",
            "       BatchNorm2d-2           [-1, 64, 32, 32]             128\n",
            "            Conv2d-3           [-1, 64, 32, 32]          36,864\n",
            "       BatchNorm2d-4           [-1, 64, 32, 32]             128\n",
            "            Conv2d-5           [-1, 64, 32, 32]          36,864\n",
            "       BatchNorm2d-6           [-1, 64, 32, 32]             128\n",
            "        BasicBlock-7           [-1, 64, 32, 32]               0\n",
            "            Conv2d-8           [-1, 64, 32, 32]          36,864\n",
            "       BatchNorm2d-9           [-1, 64, 32, 32]             128\n",
            "           Conv2d-10           [-1, 64, 32, 32]          36,864\n",
            "      BatchNorm2d-11           [-1, 64, 32, 32]             128\n",
            "       BasicBlock-12           [-1, 64, 32, 32]               0\n",
            "           Conv2d-13          [-1, 128, 16, 16]          73,728\n",
            "      BatchNorm2d-14          [-1, 128, 16, 16]             256\n",
            "           Conv2d-15          [-1, 128, 16, 16]         147,456\n",
            "      BatchNorm2d-16          [-1, 128, 16, 16]             256\n",
            "           Conv2d-17          [-1, 128, 16, 16]           8,192\n",
            "      BatchNorm2d-18          [-1, 128, 16, 16]             256\n",
            "       BasicBlock-19          [-1, 128, 16, 16]               0\n",
            "           Conv2d-20          [-1, 128, 16, 16]         147,456\n",
            "      BatchNorm2d-21          [-1, 128, 16, 16]             256\n",
            "           Conv2d-22          [-1, 128, 16, 16]         147,456\n",
            "      BatchNorm2d-23          [-1, 128, 16, 16]             256\n",
            "       BasicBlock-24          [-1, 128, 16, 16]               0\n",
            "           Conv2d-25            [-1, 256, 8, 8]         294,912\n",
            "      BatchNorm2d-26            [-1, 256, 8, 8]             512\n",
            "           Conv2d-27            [-1, 256, 8, 8]         589,824\n",
            "      BatchNorm2d-28            [-1, 256, 8, 8]             512\n",
            "           Conv2d-29            [-1, 256, 8, 8]          32,768\n",
            "      BatchNorm2d-30            [-1, 256, 8, 8]             512\n",
            "       BasicBlock-31            [-1, 256, 8, 8]               0\n",
            "           Conv2d-32            [-1, 256, 8, 8]         589,824\n",
            "      BatchNorm2d-33            [-1, 256, 8, 8]             512\n",
            "           Conv2d-34            [-1, 256, 8, 8]         589,824\n",
            "      BatchNorm2d-35            [-1, 256, 8, 8]             512\n",
            "       BasicBlock-36            [-1, 256, 8, 8]               0\n",
            "           Conv2d-37            [-1, 512, 4, 4]       1,179,648\n",
            "      BatchNorm2d-38            [-1, 512, 4, 4]           1,024\n",
            "           Conv2d-39            [-1, 512, 4, 4]       2,359,296\n",
            "      BatchNorm2d-40            [-1, 512, 4, 4]           1,024\n",
            "           Conv2d-41            [-1, 512, 4, 4]         131,072\n",
            "      BatchNorm2d-42            [-1, 512, 4, 4]           1,024\n",
            "       BasicBlock-43            [-1, 512, 4, 4]               0\n",
            "           Conv2d-44            [-1, 512, 4, 4]       2,359,296\n",
            "      BatchNorm2d-45            [-1, 512, 4, 4]           1,024\n",
            "           Conv2d-46            [-1, 512, 4, 4]       2,359,296\n",
            "      BatchNorm2d-47            [-1, 512, 4, 4]           1,024\n",
            "       BasicBlock-48            [-1, 512, 4, 4]               0\n",
            "           Linear-49                   [-1, 10]           5,130\n",
            "================================================================\n",
            "Total params: 11,173,962\n",
            "Trainable params: 11,173,962\n",
            "Non-trainable params: 0\n",
            "----------------------------------------------------------------\n",
            "Input size (MB): 0.01\n",
            "Forward/backward pass size (MB): 11.25\n",
            "Params size (MB): 42.63\n",
            "Estimated Total Size (MB): 53.89\n",
            "----------------------------------------------------------------\n",
            "****************************\n"
          ],
          "name": "stdout"
        }
      ]
    },
    {
      "cell_type": "code",
      "metadata": {
        "id": "230NN_V7FCGX",
        "colab_type": "code",
        "colab": {
          "base_uri": "https://localhost:8080/",
          "height": 1000
        },
        "outputId": "0c54ecfe-f49a-4914-c0f7-7f0985794331"
      },
      "source": [
        "import time\n",
        "start = time.time()\n",
        "# run for few epochs and check the graph\n",
        "agent.run()\n",
        "print(time.time()-start)"
      ],
      "execution_count": 29,
      "outputs": [
        {
          "output_type": "stream",
          "text": [
            "[INFO]: Current lr value = 0.008\n",
            "loss = 12.52254867553711 batch_id = 97: 100%|██████████| 98/98 [00:25<00:00,  3.85it/s]\n",
            "[INFO]: TRAIN EPOCH : 0\tLOSS : 0.0250\tACC : 29.5660\n",
            "[INFO]: Saved Best Model\n",
            "[INFO]: VALID EPOCH : 0\tLOSS : 0.0032\tACC : 41.4700\n",
            "[INFO]: Current lr value = 0.032081911262798635\n",
            "loss = 11.344340324401855 batch_id = 97: 100%|██████████| 98/98 [00:25<00:00,  3.81it/s]\n",
            "[INFO]: TRAIN EPOCH : 1\tLOSS : 0.0226\tACC : 40.3860\n",
            "[INFO]: VALID EPOCH : 1\tLOSS : 0.0049\tACC : 25.2000\n",
            "[INFO]: Current lr value = 0.05616382252559727\n",
            "loss = 10.225568771362305 batch_id = 97: 100%|██████████| 98/98 [00:25<00:00,  3.82it/s]\n",
            "[INFO]: TRAIN EPOCH : 2\tLOSS : 0.0211\tACC : 46.6780\n",
            "[INFO]: Saved Best Model\n",
            "[INFO]: VALID EPOCH : 2\tLOSS : 0.0025\tACC : 55.1200\n",
            "[INFO]: Current lr value = 0.07993204081632653\n",
            "loss = 9.840555191040039 batch_id = 97: 100%|██████████| 98/98 [00:25<00:00,  3.80it/s]\n",
            "[INFO]: TRAIN EPOCH : 3\tLOSS : 0.0196\tACC : 53.1900\n",
            "[INFO]: VALID EPOCH : 3\tLOSS : 0.0027\tACC : 52.2800\n",
            "[INFO]: Current lr value = 0.07327204081632653\n",
            "loss = 8.785585403442383 batch_id = 97: 100%|██████████| 98/98 [00:25<00:00,  3.82it/s]\n",
            "[INFO]: TRAIN EPOCH : 4\tLOSS : 0.0184\tACC : 57.7540\n",
            "[INFO]: Saved Best Model\n",
            "[INFO]: VALID EPOCH : 4\tLOSS : 0.0018\tACC : 67.2900\n",
            "[INFO]: Current lr value = 0.06661204081632653\n",
            "loss = 8.566829681396484 batch_id = 97: 100%|██████████| 98/98 [00:25<00:00,  3.78it/s]\n",
            "[INFO]: TRAIN EPOCH : 5\tLOSS : 0.0174\tACC : 61.4300\n",
            "[INFO]: VALID EPOCH : 5\tLOSS : 0.0020\tACC : 66.0700\n",
            "[INFO]: Current lr value = 0.05995204081632653\n",
            "loss = 8.191108703613281 batch_id = 97: 100%|██████████| 98/98 [00:25<00:00,  3.83it/s]\n",
            "[INFO]: TRAIN EPOCH : 6\tLOSS : 0.0166\tACC : 63.8380\n",
            "[INFO]: Saved Best Model\n",
            "[INFO]: VALID EPOCH : 6\tLOSS : 0.0020\tACC : 68.1300\n",
            "[INFO]: Current lr value = 0.05329204081632653\n",
            "loss = 7.414799690246582 batch_id = 97: 100%|██████████| 98/98 [00:25<00:00,  3.78it/s]\n",
            "[INFO]: TRAIN EPOCH : 7\tLOSS : 0.0159\tACC : 66.2420\n",
            "[INFO]: VALID EPOCH : 7\tLOSS : 0.0021\tACC : 65.6500\n",
            "[INFO]: Current lr value = 0.046632040816326534\n",
            "loss = 8.156432151794434 batch_id = 97: 100%|██████████| 98/98 [00:25<00:00,  3.83it/s]\n",
            "[INFO]: TRAIN EPOCH : 8\tLOSS : 0.0154\tACC : 67.5060\n",
            "[INFO]: Saved Best Model\n",
            "[INFO]: VALID EPOCH : 8\tLOSS : 0.0017\tACC : 71.5200\n",
            "[INFO]: Current lr value = 0.03997204081632653\n",
            "loss = 7.508421897888184 batch_id = 97: 100%|██████████| 98/98 [00:25<00:00,  3.80it/s]\n",
            "[INFO]: TRAIN EPOCH : 9\tLOSS : 0.0149\tACC : 68.5840\n",
            "[INFO]: VALID EPOCH : 9\tLOSS : 0.0018\tACC : 69.4000\n",
            "[INFO]: Current lr value = 0.033312040816326535\n",
            "loss = 7.321396827697754 batch_id = 97: 100%|██████████| 98/98 [00:25<00:00,  3.84it/s]\n",
            "[INFO]: TRAIN EPOCH : 10\tLOSS : 0.0144\tACC : 70.3500\n",
            "[INFO]: Saved Best Model\n",
            "[INFO]: VALID EPOCH : 10\tLOSS : 0.0014\tACC : 77.5300\n",
            "[INFO]: Current lr value = 0.02665204081632653\n",
            "loss = 6.77375602722168 batch_id = 97: 100%|██████████| 98/98 [00:25<00:00,  3.80it/s]\n",
            "[INFO]: TRAIN EPOCH : 11\tLOSS : 0.0139\tACC : 71.3240\n",
            "[INFO]: VALID EPOCH : 11\tLOSS : 0.0014\tACC : 75.8300\n",
            "[INFO]: Current lr value = 0.019992040816326523\n",
            "loss = 6.172035217285156 batch_id = 97: 100%|██████████| 98/98 [00:25<00:00,  3.85it/s]\n",
            "[INFO]: TRAIN EPOCH : 12\tLOSS : 0.0135\tACC : 73.1460\n",
            "[INFO]: Saved Best Model\n",
            "[INFO]: VALID EPOCH : 12\tLOSS : 0.0012\tACC : 79.7400\n",
            "[INFO]: Current lr value = 0.013332040816326537\n",
            "loss = 6.210721015930176 batch_id = 97: 100%|██████████| 98/98 [00:25<00:00,  3.83it/s]\n",
            "[INFO]: TRAIN EPOCH : 13\tLOSS : 0.0129\tACC : 75.0720\n",
            "[INFO]: Saved Best Model\n",
            "[INFO]: VALID EPOCH : 13\tLOSS : 0.0010\tACC : 83.2100\n",
            "[INFO]: Current lr value = 0.006672040816326524\n",
            "loss = 5.762659549713135 batch_id = 97: 100%|██████████| 98/98 [00:25<00:00,  3.82it/s]\n",
            "[INFO]: TRAIN EPOCH : 14\tLOSS : 0.0124\tACC : 77.1220\n",
            "[INFO]: Saved Best Model\n",
            "[INFO]: VALID EPOCH : 14\tLOSS : 0.0009\tACC : 84.8300\n",
            "[INFO]: Current lr value = 1.2040816326525094e-05\n",
            "  0%|          | 0/98 [00:01<?, ?it/s]\n",
            "[INFO]: Tried to step 1472 times. The specified number of total steps is 1470\n"
          ],
          "name": "stderr"
        },
        {
          "output_type": "stream",
          "text": [
            "522.677493095398\n"
          ],
          "name": "stdout"
        }
      ]
    },
    {
      "cell_type": "code",
      "metadata": {
        "id": "r7ENi5WOFHj8",
        "colab_type": "code",
        "colab": {
          "base_uri": "https://localhost:8080/",
          "height": 34
        },
        "outputId": "3aba4eaa-5097-4468-dc2b-2835a8cd01b4"
      },
      "source": [
        "agent.finalize()"
      ],
      "execution_count": 30,
      "outputs": [
        {
          "output_type": "stream",
          "text": [
            "[INFO]: Please wait while finalizing the operations.. Thank you\n"
          ],
          "name": "stderr"
        }
      ]
    },
    {
      "cell_type": "code",
      "metadata": {
        "id": "FX_tT5IIFKgl",
        "colab_type": "code",
        "colab": {
          "base_uri": "https://localhost:8080/",
          "height": 87
        },
        "outputId": "8a8c57a8-afc7-4a42-e5c6-2427648ded2d"
      },
      "source": [
        "iagent_class = globals()[config[\"inference_agent\"]]\n",
        "iagent = iagent_class(config)"
      ],
      "execution_count": 31,
      "outputs": [
        {
          "output_type": "stream",
          "text": [
            "[INFO]: INFERENCE MODE ACTIVATED!!!\n"
          ],
          "name": "stderr"
        },
        {
          "output_type": "stream",
          "text": [
            "Files already downloaded and verified\n",
            "Files already downloaded and verified\n"
          ],
          "name": "stdout"
        },
        {
          "output_type": "stream",
          "text": [
            "[INFO]: Program will RUN on ****GPU-CUDA****\n"
          ],
          "name": "stderr"
        }
      ]
    },
    {
      "cell_type": "code",
      "metadata": {
        "id": "LapzH1jdFNKP",
        "colab_type": "code",
        "colab": {
          "base_uri": "https://localhost:8080/",
          "height": 352
        },
        "outputId": "27234a5f-c004-42d2-a1ab-d043ed093150"
      },
      "source": [
        "iagent.plot_lr_graph()"
      ],
      "execution_count": 32,
      "outputs": [
        {
          "output_type": "display_data",
          "data": {
            "image/png": "[encoded data removed]",
            "text/plain": [
              "<Figure size 360x360 with 1 Axes>"
            ]
          },
          "metadata": {
            "tags": [],
            "needs_background": "light"
          }
        },
        {
          "output_type": "stream",
          "text": [
            "[INFO]: Learning Rate Graph saved.\n"
          ],
          "name": "stderr"
        }
      ]
    },
    {
      "cell_type": "code",
      "metadata": {
        "id": "iNldZPuNFQEI",
        "colab_type": "code",
        "colab": {
          "base_uri": "https://localhost:8080/",
          "height": 352
        },
        "outputId": "523e4dbb-88bb-4664-f805-52405bacff44"
      },
      "source": [
        "iagent.plot_accuracy_graph()"
      ],
      "execution_count": 33,
      "outputs": [
        {
          "output_type": "display_data",
          "data": {
            "image/png": "[encoded data removed]",
            "text/plain": [
              "<Figure size 360x360 with 1 Axes>"
            ]
          },
          "metadata": {
            "tags": [],
            "needs_background": "light"
          }
        },
        {
          "output_type": "stream",
          "text": [
            "[INFO]: Accuracy Graph saved.\n"
          ],
          "name": "stderr"
        }
      ]
    },
    {
      "cell_type": "code",
      "metadata": {
        "id": "xkl_ioy2FSrL",
        "colab_type": "code",
        "colab": {
          "base_uri": "https://localhost:8080/",
          "height": 352
        },
        "outputId": "a22bf456-bddf-4f1b-be2c-a0af37c69b4e"
      },
      "source": [
        "iagent.plot_loss_graph()"
      ],
      "execution_count": 34,
      "outputs": [
        {
          "output_type": "display_data",
          "data": {
            "image/png": "[encoded data removed]",
            "text/plain": [
              "<Figure size 360x360 with 1 Axes>"
            ]
          },
          "metadata": {
            "tags": [],
            "needs_background": "light"
          }
        },
        {
          "output_type": "stream",
          "text": [
            "[INFO]: Loss Graph saved.\n"
          ],
          "name": "stderr"
        }
      ]
    },
    {
      "cell_type": "markdown",
      "metadata": {
        "id": "Sr8-d7bXH4Dq",
        "colab_type": "text"
      },
      "source": [
        "for first 2 epochs, model sees overfitting."
      ]
    },
    {
      "cell_type": "markdown",
      "metadata": {
        "id": "OE2wQ52oIG0r",
        "colab_type": "text"
      },
      "source": [
        "# EXPERIMENT 5"
      ]
    },
    {
      "cell_type": "markdown",
      "metadata": {
        "id": "zXv-fgdRJu7a",
        "colab_type": "text"
      },
      "source": [
        "high batch size, increasing for 20% of iterations, \n",
        "low l2 decay = 0.0001, epochs = 15\n",
        "div_factor decreased = 5 "
      ]
    },
    {
      "cell_type": "code",
      "metadata": {
        "id": "5_kgfDEIHuo5",
        "colab_type": "code",
        "colab": {}
      },
      "source": [
        "config[\"batch_size\"] = 512\n",
        "config[\"scheduler\"][\"kwargs\"][\"pct_start\"] = 0.2\n",
        "config[\"epochs\"] = 25\n",
        "config[\"l2_decay\"] = 0.0001\n",
        "config[\"scheduler\"][\"kwargs\"][\"div_factor\"] = 5\n",
        "config[\"scheduler\"][\"kwargs\"][\"final_div_factor\"] = 100\n",
        "config[\"scheduler\"][\"kwargs\"][\"epochs\"] = 15\n",
        "config[\"scheduler\"][\"kwargs\"][\"anneal_strategy\"] = \"linear\""
      ],
      "execution_count": 0,
      "outputs": []
    },
    {
      "cell_type": "code",
      "metadata": {
        "id": "7LcefC4SIWyb",
        "colab_type": "code",
        "colab": {
          "base_uri": "https://localhost:8080/",
          "height": 1000,
          "referenced_widgets": [
            "01cf3768651a4921a78bb80f2280db2c",
            "81032179e7b343ef97aa416efa48d7ed",
            "f5724fd04a4f49b2a70ab49bbeb6cc17",
            "416fdc7e2f224dbaaf93ca92470963de",
            "5b9e021bfc424109a35b2e53601f30bf",
            "6898c85bbde34e2c9ba700adda691261",
            "3fc05f4fba1b4de48e859c4caf63f478",
            "22cdde1304374d5992c12c601321fc2e"
          ]
        },
        "outputId": "b14cd97f-9ab0-4993-982d-734c629e5f30"
      },
      "source": [
        "# initialize agent and find max_lr using lr_finder\n",
        "agent_class = globals()[config[\"agent\"]]\n",
        "agent = agent_class(config)"
      ],
      "execution_count": 38,
      "outputs": [
        {
          "output_type": "stream",
          "text": [
            "[INFO]: TRAINING MODE ACTIVATED!!!\n"
          ],
          "name": "stderr"
        },
        {
          "output_type": "stream",
          "text": [
            "Files already downloaded and verified\n",
            "Files already downloaded and verified\n"
          ],
          "name": "stdout"
        },
        {
          "output_type": "stream",
          "text": [
            "[INFO]: FINDING OPTIM LEARNING RATE...\n"
          ],
          "name": "stderr"
        },
        {
          "output_type": "display_data",
          "data": {
            "application/vnd.jupyter.widget-view+json": {
              "model_id": "01cf3768651a4921a78bb80f2280db2c",
              "version_minor": 0,
              "version_major": 2
            },
            "text/plain": [
              "HBox(children=(FloatProgress(value=0.0), HTML(value='')))"
            ]
          },
          "metadata": {
            "tags": []
          }
        },
        {
          "output_type": "stream",
          "text": [
            "Stopping early, the loss has diverged\n",
            "\n",
            "Learning rate search finished. See the graph with {finder_name}.plot()\n"
          ],
          "name": "stdout"
        },
        {
          "output_type": "display_data",
          "data": {
            "image/png": "[encoded data removed]",
            "text/plain": [
              "<Figure size 432x288 with 1 Axes>"
            ]
          },
          "metadata": {
            "tags": [],
            "needs_background": "light"
          }
        },
        {
          "output_type": "stream",
          "text": [
            "[INFO]: Learning rate with minimum loss : 0.05590810182512224\n",
            "[INFO]: Setting optimizer to optim learning rate : 0.06\n",
            "[INFO]: Program will RUN on ****GPU-CUDA****\n",
            "[INFO]: __Python VERSION : 3.6.9 (default, Apr 18 2020, 01:56:04) \n",
            "[GCC 8.4.0]\n",
            "[INFO]: __pytorch VERSION : 1.5.0+cu101\n",
            "[INFO]: __CUDNN VERSION : 7603\n",
            "[INFO]: __Number CUDA Devices : 1\n",
            "[INFO]: __Devices\n",
            "[INFO]: Active CUDA Device : GPU 0\n",
            "[INFO]: Available devices 1\n",
            "[INFO]: Current CUDA device 0\n"
          ],
          "name": "stderr"
        },
        {
          "output_type": "stream",
          "text": [
            "****************************\n",
            "**********NETWORK SUMMARY**********\n",
            "----------------------------------------------------------------\n",
            "        Layer (type)               Output Shape         Param #\n",
            "================================================================\n",
            "            Conv2d-1           [-1, 64, 32, 32]           1,728\n",
            "       BatchNorm2d-2           [-1, 64, 32, 32]             128\n",
            "            Conv2d-3           [-1, 64, 32, 32]          36,864\n",
            "       BatchNorm2d-4           [-1, 64, 32, 32]             128\n",
            "            Conv2d-5           [-1, 64, 32, 32]          36,864\n",
            "       BatchNorm2d-6           [-1, 64, 32, 32]             128\n",
            "        BasicBlock-7           [-1, 64, 32, 32]               0\n",
            "            Conv2d-8           [-1, 64, 32, 32]          36,864\n",
            "       BatchNorm2d-9           [-1, 64, 32, 32]             128\n",
            "           Conv2d-10           [-1, 64, 32, 32]          36,864\n",
            "      BatchNorm2d-11           [-1, 64, 32, 32]             128\n",
            "       BasicBlock-12           [-1, 64, 32, 32]               0\n",
            "           Conv2d-13          [-1, 128, 16, 16]          73,728\n",
            "      BatchNorm2d-14          [-1, 128, 16, 16]             256\n",
            "           Conv2d-15          [-1, 128, 16, 16]         147,456\n",
            "      BatchNorm2d-16          [-1, 128, 16, 16]             256\n",
            "           Conv2d-17          [-1, 128, 16, 16]           8,192\n",
            "      BatchNorm2d-18          [-1, 128, 16, 16]             256\n",
            "       BasicBlock-19          [-1, 128, 16, 16]               0\n",
            "           Conv2d-20          [-1, 128, 16, 16]         147,456\n",
            "      BatchNorm2d-21          [-1, 128, 16, 16]             256\n",
            "           Conv2d-22          [-1, 128, 16, 16]         147,456\n",
            "      BatchNorm2d-23          [-1, 128, 16, 16]             256\n",
            "       BasicBlock-24          [-1, 128, 16, 16]               0\n",
            "           Conv2d-25            [-1, 256, 8, 8]         294,912\n",
            "      BatchNorm2d-26            [-1, 256, 8, 8]             512\n",
            "           Conv2d-27            [-1, 256, 8, 8]         589,824\n",
            "      BatchNorm2d-28            [-1, 256, 8, 8]             512\n",
            "           Conv2d-29            [-1, 256, 8, 8]          32,768\n",
            "      BatchNorm2d-30            [-1, 256, 8, 8]             512\n",
            "       BasicBlock-31            [-1, 256, 8, 8]               0\n",
            "           Conv2d-32            [-1, 256, 8, 8]         589,824\n",
            "      BatchNorm2d-33            [-1, 256, 8, 8]             512\n",
            "           Conv2d-34            [-1, 256, 8, 8]         589,824\n",
            "      BatchNorm2d-35            [-1, 256, 8, 8]             512\n",
            "       BasicBlock-36            [-1, 256, 8, 8]               0\n",
            "           Conv2d-37            [-1, 512, 4, 4]       1,179,648\n",
            "      BatchNorm2d-38            [-1, 512, 4, 4]           1,024\n",
            "           Conv2d-39            [-1, 512, 4, 4]       2,359,296\n",
            "      BatchNorm2d-40            [-1, 512, 4, 4]           1,024\n",
            "           Conv2d-41            [-1, 512, 4, 4]         131,072\n",
            "      BatchNorm2d-42            [-1, 512, 4, 4]           1,024\n",
            "       BasicBlock-43            [-1, 512, 4, 4]               0\n",
            "           Conv2d-44            [-1, 512, 4, 4]       2,359,296\n",
            "      BatchNorm2d-45            [-1, 512, 4, 4]           1,024\n",
            "           Conv2d-46            [-1, 512, 4, 4]       2,359,296\n",
            "      BatchNorm2d-47            [-1, 512, 4, 4]           1,024\n",
            "       BasicBlock-48            [-1, 512, 4, 4]               0\n",
            "           Linear-49                   [-1, 10]           5,130\n",
            "================================================================\n",
            "Total params: 11,173,962\n",
            "Trainable params: 11,173,962\n",
            "Non-trainable params: 0\n",
            "----------------------------------------------------------------\n",
            "Input size (MB): 0.01\n",
            "Forward/backward pass size (MB): 11.25\n",
            "Params size (MB): 42.63\n",
            "Estimated Total Size (MB): 53.89\n",
            "----------------------------------------------------------------\n",
            "****************************\n"
          ],
          "name": "stdout"
        }
      ]
    },
    {
      "cell_type": "code",
      "metadata": {
        "id": "-8HAwsNCIZUj",
        "colab_type": "code",
        "colab": {
          "base_uri": "https://localhost:8080/",
          "height": 1000
        },
        "outputId": "0fe5657b-9cf9-4ed6-d3d9-a66ea49aa36f"
      },
      "source": [
        "import time\n",
        "start = time.time()\n",
        "# run for few epochs and check the graph\n",
        "agent.run()\n",
        "print(time.time()-start)"
      ],
      "execution_count": 39,
      "outputs": [
        {
          "output_type": "stream",
          "text": [
            "[INFO]: Current lr value = 0.012\n",
            "loss = 7.976589202880859 batch_id = 97: 100%|██████████| 98/98 [00:25<00:00,  3.82it/s]\n",
            "[INFO]: TRAIN EPOCH : 0\tLOSS : 0.0170\tACC : 26.6800\n",
            "[INFO]: Saved Best Model\n",
            "[INFO]: VALID EPOCH : 0\tLOSS : 0.0040\tACC : 34.5900\n",
            "[INFO]: Current lr value = 0.028054607508532423\n",
            "loss = 6.638611316680908 batch_id = 97: 100%|██████████| 98/98 [00:25<00:00,  3.84it/s]\n",
            "[INFO]: TRAIN EPOCH : 1\tLOSS : 0.0145\tACC : 37.4220\n",
            "[INFO]: Saved Best Model\n",
            "[INFO]: VALID EPOCH : 1\tLOSS : 0.0029\tACC : 46.9600\n",
            "[INFO]: Current lr value = 0.04410921501706484\n",
            "loss = 6.52183198928833 batch_id = 97: 100%|██████████| 98/98 [00:25<00:00,  3.80it/s]\n",
            "[INFO]: TRAIN EPOCH : 2\tLOSS : 0.0132\tACC : 44.3400\n",
            "[INFO]: Saved Best Model\n",
            "[INFO]: VALID EPOCH : 2\tLOSS : 0.0027\tACC : 51.2700\n",
            "[INFO]: Current lr value = 0.059949081632653056\n",
            "loss = 5.846279621124268 batch_id = 97: 100%|██████████| 98/98 [00:25<00:00,  3.79it/s]\n",
            "[INFO]: TRAIN EPOCH : 3\tLOSS : 0.0121\tACC : 49.9500\n",
            "[INFO]: Saved Best Model\n",
            "[INFO]: VALID EPOCH : 3\tLOSS : 0.0025\tACC : 55.7900\n",
            "[INFO]: Current lr value = 0.05495908163265306\n",
            "loss = 5.643977642059326 batch_id = 97: 100%|██████████| 98/98 [00:25<00:00,  3.79it/s]\n",
            "[INFO]: TRAIN EPOCH : 4\tLOSS : 0.0111\tACC : 54.3860\n",
            "[INFO]: Saved Best Model\n",
            "[INFO]: VALID EPOCH : 4\tLOSS : 0.0023\tACC : 59.1300\n",
            "[INFO]: Current lr value = 0.04996908163265306\n",
            "loss = 5.078038215637207 batch_id = 97: 100%|██████████| 98/98 [00:26<00:00,  3.77it/s]\n",
            "[INFO]: TRAIN EPOCH : 5\tLOSS : 0.0104\tACC : 57.6020\n",
            "[INFO]: Saved Best Model\n",
            "[INFO]: VALID EPOCH : 5\tLOSS : 0.0020\tACC : 65.9500\n",
            "[INFO]: Current lr value = 0.04497908163265306\n",
            "loss = 4.84757661819458 batch_id = 97: 100%|██████████| 98/98 [00:25<00:00,  3.79it/s]\n",
            "[INFO]: TRAIN EPOCH : 6\tLOSS : 0.0097\tACC : 61.1240\n",
            "[INFO]: Saved Best Model\n",
            "[INFO]: VALID EPOCH : 6\tLOSS : 0.0018\tACC : 69.7400\n",
            "[INFO]: Current lr value = 0.039989081632653065\n",
            "loss = 4.6034674644470215 batch_id = 97: 100%|██████████| 98/98 [00:25<00:00,  3.78it/s]\n",
            "[INFO]: TRAIN EPOCH : 7\tLOSS : 0.0091\tACC : 63.7400\n",
            "[INFO]: Saved Best Model\n",
            "[INFO]: VALID EPOCH : 7\tLOSS : 0.0016\tACC : 72.1100\n",
            "[INFO]: Current lr value = 0.034999081632653056\n",
            "loss = 4.15094518661499 batch_id = 97: 100%|██████████| 98/98 [00:25<00:00,  3.77it/s]\n",
            "[INFO]: TRAIN EPOCH : 8\tLOSS : 0.0087\tACC : 65.9520\n",
            "[INFO]: Saved Best Model\n",
            "[INFO]: VALID EPOCH : 8\tLOSS : 0.0015\tACC : 74.2700\n",
            "[INFO]: Current lr value = 0.03000908163265306\n",
            "loss = 4.2530837059021 batch_id = 97: 100%|██████████| 98/98 [00:25<00:00,  3.80it/s]\n",
            "[INFO]: TRAIN EPOCH : 9\tLOSS : 0.0082\tACC : 68.2940\n",
            "[INFO]: Saved Best Model\n",
            "[INFO]: VALID EPOCH : 9\tLOSS : 0.0015\tACC : 75.1700\n",
            "[INFO]: Current lr value = 0.025019081632653067\n",
            "loss = 4.235780715942383 batch_id = 97: 100%|██████████| 98/98 [00:25<00:00,  3.82it/s]\n",
            "[INFO]: TRAIN EPOCH : 10\tLOSS : 0.0079\tACC : 69.6900\n",
            "[INFO]: Saved Best Model\n",
            "[INFO]: VALID EPOCH : 10\tLOSS : 0.0013\tACC : 78.4700\n",
            "[INFO]: Current lr value = 0.02002908163265306\n",
            "loss = 3.6042003631591797 batch_id = 97: 100%|██████████| 98/98 [00:25<00:00,  3.80it/s]\n",
            "[INFO]: TRAIN EPOCH : 11\tLOSS : 0.0075\tACC : 71.4020\n",
            "[INFO]: VALID EPOCH : 11\tLOSS : 0.0012\tACC : 78.1500\n",
            "[INFO]: Current lr value = 0.015039081632653058\n",
            "loss = 3.6221346855163574 batch_id = 97: 100%|██████████| 98/98 [00:25<00:00,  3.83it/s]\n",
            "[INFO]: TRAIN EPOCH : 12\tLOSS : 0.0072\tACC : 72.7600\n",
            "[INFO]: VALID EPOCH : 12\tLOSS : 0.0014\tACC : 76.9900\n",
            "[INFO]: Current lr value = 0.010049081632653063\n",
            "loss = 3.428853988647461 batch_id = 97: 100%|██████████| 98/98 [00:25<00:00,  3.84it/s]\n",
            "[INFO]: TRAIN EPOCH : 13\tLOSS : 0.0068\tACC : 74.4540\n",
            "[INFO]: Saved Best Model\n",
            "[INFO]: VALID EPOCH : 13\tLOSS : 0.0012\tACC : 80.7600\n",
            "[INFO]: Current lr value = 0.005059081632653062\n",
            "loss = 2.963709592819214 batch_id = 97: 100%|██████████| 98/98 [00:25<00:00,  3.83it/s]\n",
            "[INFO]: TRAIN EPOCH : 14\tLOSS : 0.0064\tACC : 76.0500\n",
            "[INFO]: Saved Best Model\n",
            "[INFO]: VALID EPOCH : 14\tLOSS : 0.0010\tACC : 83.6800\n",
            "[INFO]: Current lr value = 6.90816326530605e-05\n",
            "  0%|          | 0/98 [00:04<?, ?it/s]\n",
            "[INFO]: Tried to step 1472 times. The specified number of total steps is 1470\n"
          ],
          "name": "stderr"
        },
        {
          "output_type": "stream",
          "text": [
            "533.8307394981384\n"
          ],
          "name": "stdout"
        }
      ]
    },
    {
      "cell_type": "code",
      "metadata": {
        "id": "ZuPoeyKxIdSa",
        "colab_type": "code",
        "colab": {
          "base_uri": "https://localhost:8080/",
          "height": 34
        },
        "outputId": "956b529c-7efb-4d5e-cf56-4d97a30530e5"
      },
      "source": [
        "agent.finalize()"
      ],
      "execution_count": 40,
      "outputs": [
        {
          "output_type": "stream",
          "text": [
            "[INFO]: Please wait while finalizing the operations.. Thank you\n"
          ],
          "name": "stderr"
        }
      ]
    },
    {
      "cell_type": "code",
      "metadata": {
        "id": "EfvuFsidIe0Y",
        "colab_type": "code",
        "colab": {
          "base_uri": "https://localhost:8080/",
          "height": 87
        },
        "outputId": "3113cedf-e478-454d-a502-8f09124c0dad"
      },
      "source": [
        "iagent_class = globals()[config[\"inference_agent\"]]\n",
        "iagent = iagent_class(config)"
      ],
      "execution_count": 41,
      "outputs": [
        {
          "output_type": "stream",
          "text": [
            "[INFO]: INFERENCE MODE ACTIVATED!!!\n"
          ],
          "name": "stderr"
        },
        {
          "output_type": "stream",
          "text": [
            "Files already downloaded and verified\n",
            "Files already downloaded and verified\n"
          ],
          "name": "stdout"
        },
        {
          "output_type": "stream",
          "text": [
            "[INFO]: Program will RUN on ****GPU-CUDA****\n"
          ],
          "name": "stderr"
        }
      ]
    },
    {
      "cell_type": "code",
      "metadata": {
        "id": "ruDPXgP2IhBt",
        "colab_type": "code",
        "colab": {
          "base_uri": "https://localhost:8080/",
          "height": 352
        },
        "outputId": "b71f1f94-7149-43ac-8e67-c82fd59db756"
      },
      "source": [
        "iagent.plot_lr_graph()"
      ],
      "execution_count": 42,
      "outputs": [
        {
          "output_type": "display_data",
          "data": {
            "image/png": "[encoded data removed]",
            "text/plain": [
              "<Figure size 360x360 with 1 Axes>"
            ]
          },
          "metadata": {
            "tags": [],
            "needs_background": "light"
          }
        },
        {
          "output_type": "stream",
          "text": [
            "[INFO]: Learning Rate Graph saved.\n"
          ],
          "name": "stderr"
        }
      ]
    },
    {
      "cell_type": "code",
      "metadata": {
        "id": "ei09UBYVIhxH",
        "colab_type": "code",
        "colab": {
          "base_uri": "https://localhost:8080/",
          "height": 352
        },
        "outputId": "c26382b0-419b-4312-b591-4f8aa90109c7"
      },
      "source": [
        "iagent.plot_accuracy_graph()"
      ],
      "execution_count": 43,
      "outputs": [
        {
          "output_type": "display_data",
          "data": {
            "image/png": "[encoded data removed]",
            "text/plain": [
              "<Figure size 360x360 with 1 Axes>"
            ]
          },
          "metadata": {
            "tags": [],
            "needs_background": "light"
          }
        },
        {
          "output_type": "stream",
          "text": [
            "[INFO]: Accuracy Graph saved.\n"
          ],
          "name": "stderr"
        }
      ]
    },
    {
      "cell_type": "code",
      "metadata": {
        "id": "v8IRaevPIkI3",
        "colab_type": "code",
        "colab": {
          "base_uri": "https://localhost:8080/",
          "height": 352
        },
        "outputId": "db997e1f-85ff-4ff1-a47e-82c93691d438"
      },
      "source": [
        "iagent.plot_loss_graph()"
      ],
      "execution_count": 44,
      "outputs": [
        {
          "output_type": "display_data",
          "data": {
            "image/png": "[encoded data removed]",
            "text/plain": [
              "<Figure size 360x360 with 1 Axes>"
            ]
          },
          "metadata": {
            "tags": [],
            "needs_background": "light"
          }
        },
        {
          "output_type": "stream",
          "text": [
            "[INFO]: Loss Graph saved.\n"
          ],
          "name": "stderr"
        }
      ]
    },
    {
      "cell_type": "code",
      "metadata": {
        "id": "Cqk5xWGQLR_E",
        "colab_type": "code",
        "colab": {}
      },
      "source": [
        ""
      ],
      "execution_count": 0,
      "outputs": []
    },
    {
      "cell_type": "markdown",
      "metadata": {
        "id": "-4v5PQ8oQCv_",
        "colab_type": "text"
      },
      "source": [
        "# EXPERIMENT 6"
      ]
    },
    {
      "cell_type": "code",
      "metadata": {
        "id": "PC_6aVrnQEHT",
        "colab_type": "code",
        "colab": {}
      },
      "source": [
        "config[\"batch_size\"] = 512\n",
        "config[\"scheduler\"][\"kwargs\"][\"pct_start\"] = 0.2\n",
        "config[\"epochs\"] = 25\n",
        "config[\"l2_decay\"] = 0.0001\n",
        "config[\"scheduler\"][\"kwargs\"][\"div_factor\"] = 10\n",
        "config[\"scheduler\"][\"kwargs\"][\"final_div_factor\"] = 1000\n",
        "config[\"scheduler\"][\"kwargs\"][\"epochs\"] = 25\n",
        "config[\"scheduler\"][\"kwargs\"][\"anneal_strategy\"] = \"linear\""
      ],
      "execution_count": 0,
      "outputs": []
    },
    {
      "cell_type": "code",
      "metadata": {
        "id": "lx3_strJQJ8x",
        "colab_type": "code",
        "colab": {
          "base_uri": "https://localhost:8080/",
          "height": 1000,
          "referenced_widgets": [
            "0b048a6dd4c9423f8d707b7b319e765e",
            "9a4300f7cac945eab84a6eb59cf9a142",
            "96ef447c18374c0fbd71d8910df29dc8",
            "545de3104b174ad6b9865b0b0fd63863",
            "d1b47a68d8e14576b391183fa57e20fa",
            "f7549cd25669441e9f3bd52baedaccb4",
            "f446ae95a829442ba8f4f74ff84ab042",
            "8aa533a30d274a8f9dcea6bf2caca6bb"
          ]
        },
        "outputId": "f8bb0c94-9d6f-4206-cc74-801e61c081f5"
      },
      "source": [
        "# initialize agent and find max_lr using lr_finder\n",
        "agent_class = globals()[config[\"agent\"]]\n",
        "agent = agent_class(config)"
      ],
      "execution_count": 46,
      "outputs": [
        {
          "output_type": "stream",
          "text": [
            "[INFO]: TRAINING MODE ACTIVATED!!!\n"
          ],
          "name": "stderr"
        },
        {
          "output_type": "stream",
          "text": [
            "Files already downloaded and verified\n",
            "Files already downloaded and verified\n"
          ],
          "name": "stdout"
        },
        {
          "output_type": "stream",
          "text": [
            "[INFO]: FINDING OPTIM LEARNING RATE...\n"
          ],
          "name": "stderr"
        },
        {
          "output_type": "display_data",
          "data": {
            "application/vnd.jupyter.widget-view+json": {
              "model_id": "0b048a6dd4c9423f8d707b7b319e765e",
              "version_minor": 0,
              "version_major": 2
            },
            "text/plain": [
              "HBox(children=(FloatProgress(value=0.0), HTML(value='')))"
            ]
          },
          "metadata": {
            "tags": []
          }
        },
        {
          "output_type": "stream",
          "text": [
            "Stopping early, the loss has diverged\n",
            "\n",
            "Learning rate search finished. See the graph with {finder_name}.plot()\n"
          ],
          "name": "stdout"
        },
        {
          "output_type": "display_data",
          "data": {
            "image/png": "[encoded data removed]",
            "text/plain": [
              "<Figure size 432x288 with 1 Axes>"
            ]
          },
          "metadata": {
            "tags": [],
            "needs_background": "light"
          }
        },
        {
          "output_type": "stream",
          "text": [
            "[INFO]: Learning rate with minimum loss : 0.05590810182512224\n",
            "[INFO]: Setting optimizer to optim learning rate : 0.06\n",
            "[INFO]: Program will RUN on ****GPU-CUDA****\n",
            "[INFO]: __Python VERSION : 3.6.9 (default, Apr 18 2020, 01:56:04) \n",
            "[GCC 8.4.0]\n",
            "[INFO]: __pytorch VERSION : 1.5.0+cu101\n",
            "[INFO]: __CUDNN VERSION : 7603\n",
            "[INFO]: __Number CUDA Devices : 1\n",
            "[INFO]: __Devices\n",
            "[INFO]: Active CUDA Device : GPU 0\n",
            "[INFO]: Available devices 1\n",
            "[INFO]: Current CUDA device 0\n"
          ],
          "name": "stderr"
        },
        {
          "output_type": "stream",
          "text": [
            "****************************\n",
            "**********NETWORK SUMMARY**********\n",
            "----------------------------------------------------------------\n",
            "        Layer (type)               Output Shape         Param #\n",
            "================================================================\n",
            "            Conv2d-1           [-1, 64, 32, 32]           1,728\n",
            "       BatchNorm2d-2           [-1, 64, 32, 32]             128\n",
            "            Conv2d-3           [-1, 64, 32, 32]          36,864\n",
            "       BatchNorm2d-4           [-1, 64, 32, 32]             128\n",
            "            Conv2d-5           [-1, 64, 32, 32]          36,864\n",
            "       BatchNorm2d-6           [-1, 64, 32, 32]             128\n",
            "        BasicBlock-7           [-1, 64, 32, 32]               0\n",
            "            Conv2d-8           [-1, 64, 32, 32]          36,864\n",
            "       BatchNorm2d-9           [-1, 64, 32, 32]             128\n",
            "           Conv2d-10           [-1, 64, 32, 32]          36,864\n",
            "      BatchNorm2d-11           [-1, 64, 32, 32]             128\n",
            "       BasicBlock-12           [-1, 64, 32, 32]               0\n",
            "           Conv2d-13          [-1, 128, 16, 16]          73,728\n",
            "      BatchNorm2d-14          [-1, 128, 16, 16]             256\n",
            "           Conv2d-15          [-1, 128, 16, 16]         147,456\n",
            "      BatchNorm2d-16          [-1, 128, 16, 16]             256\n",
            "           Conv2d-17          [-1, 128, 16, 16]           8,192\n",
            "      BatchNorm2d-18          [-1, 128, 16, 16]             256\n",
            "       BasicBlock-19          [-1, 128, 16, 16]               0\n",
            "           Conv2d-20          [-1, 128, 16, 16]         147,456\n",
            "      BatchNorm2d-21          [-1, 128, 16, 16]             256\n",
            "           Conv2d-22          [-1, 128, 16, 16]         147,456\n",
            "      BatchNorm2d-23          [-1, 128, 16, 16]             256\n",
            "       BasicBlock-24          [-1, 128, 16, 16]               0\n",
            "           Conv2d-25            [-1, 256, 8, 8]         294,912\n",
            "      BatchNorm2d-26            [-1, 256, 8, 8]             512\n",
            "           Conv2d-27            [-1, 256, 8, 8]         589,824\n",
            "      BatchNorm2d-28            [-1, 256, 8, 8]             512\n",
            "           Conv2d-29            [-1, 256, 8, 8]          32,768\n",
            "      BatchNorm2d-30            [-1, 256, 8, 8]             512\n",
            "       BasicBlock-31            [-1, 256, 8, 8]               0\n",
            "           Conv2d-32            [-1, 256, 8, 8]         589,824\n",
            "      BatchNorm2d-33            [-1, 256, 8, 8]             512\n",
            "           Conv2d-34            [-1, 256, 8, 8]         589,824\n",
            "      BatchNorm2d-35            [-1, 256, 8, 8]             512\n",
            "       BasicBlock-36            [-1, 256, 8, 8]               0\n",
            "           Conv2d-37            [-1, 512, 4, 4]       1,179,648\n",
            "      BatchNorm2d-38            [-1, 512, 4, 4]           1,024\n",
            "           Conv2d-39            [-1, 512, 4, 4]       2,359,296\n",
            "      BatchNorm2d-40            [-1, 512, 4, 4]           1,024\n",
            "           Conv2d-41            [-1, 512, 4, 4]         131,072\n",
            "      BatchNorm2d-42            [-1, 512, 4, 4]           1,024\n",
            "       BasicBlock-43            [-1, 512, 4, 4]               0\n",
            "           Conv2d-44            [-1, 512, 4, 4]       2,359,296\n",
            "      BatchNorm2d-45            [-1, 512, 4, 4]           1,024\n",
            "           Conv2d-46            [-1, 512, 4, 4]       2,359,296\n",
            "      BatchNorm2d-47            [-1, 512, 4, 4]           1,024\n",
            "       BasicBlock-48            [-1, 512, 4, 4]               0\n",
            "           Linear-49                   [-1, 10]           5,130\n",
            "================================================================\n",
            "Total params: 11,173,962\n",
            "Trainable params: 11,173,962\n",
            "Non-trainable params: 0\n",
            "----------------------------------------------------------------\n",
            "Input size (MB): 0.01\n",
            "Forward/backward pass size (MB): 11.25\n",
            "Params size (MB): 42.63\n",
            "Estimated Total Size (MB): 53.89\n",
            "----------------------------------------------------------------\n",
            "****************************\n"
          ],
          "name": "stdout"
        }
      ]
    },
    {
      "cell_type": "code",
      "metadata": {
        "id": "9tru4lgDQMia",
        "colab_type": "code",
        "colab": {
          "base_uri": "https://localhost:8080/",
          "height": 1000
        },
        "outputId": "bfbb6d92-338b-4a6d-d182-8ef258c6c34e"
      },
      "source": [
        "import time\n",
        "start = time.time()\n",
        "# run for few epochs and check the graph\n",
        "agent.run()\n",
        "print(time.time()-start)"
      ],
      "execution_count": 47,
      "outputs": [
        {
          "output_type": "stream",
          "text": [
            "[INFO]: Current lr value = 0.006\n",
            "loss = 7.368895053863525 batch_id = 97: 100%|██████████| 98/98 [00:25<00:00,  3.83it/s]\n",
            "[INFO]: TRAIN EPOCH : 0\tLOSS : 0.0156\tACC : 31.4200\n",
            "[INFO]: Saved Best Model\n",
            "[INFO]: VALID EPOCH : 0\tLOSS : 0.0031\tACC : 44.4200\n",
            "[INFO]: Current lr value = 0.01682208588957055\n",
            "loss = 6.3687591552734375 batch_id = 97: 100%|██████████| 98/98 [00:25<00:00,  3.84it/s]\n",
            "[INFO]: TRAIN EPOCH : 1\tLOSS : 0.0135\tACC : 42.5100\n",
            "[INFO]: Saved Best Model\n",
            "[INFO]: VALID EPOCH : 1\tLOSS : 0.0029\tACC : 46.8200\n",
            "[INFO]: Current lr value = 0.0276441717791411\n",
            "loss = 6.131869316101074 batch_id = 97: 100%|██████████| 98/98 [00:25<00:00,  3.82it/s]\n",
            "[INFO]: TRAIN EPOCH : 2\tLOSS : 0.0120\tACC : 49.8760\n",
            "[INFO]: Saved Best Model\n",
            "[INFO]: VALID EPOCH : 2\tLOSS : 0.0024\tACC : 56.0200\n",
            "[INFO]: Current lr value = 0.03846625766871165\n",
            "loss = 5.538270473480225 batch_id = 97: 100%|██████████| 98/98 [00:25<00:00,  3.80it/s]\n",
            "[INFO]: TRAIN EPOCH : 3\tLOSS : 0.0110\tACC : 55.0660\n",
            "[INFO]: Saved Best Model\n",
            "[INFO]: VALID EPOCH : 3\tLOSS : 0.0025\tACC : 57.0100\n",
            "[INFO]: Current lr value = 0.049288343558282204\n",
            "loss = 4.939805030822754 batch_id = 97: 100%|██████████| 98/98 [00:25<00:00,  3.78it/s]\n",
            "[INFO]: TRAIN EPOCH : 4\tLOSS : 0.0100\tACC : 59.7540\n",
            "[INFO]: Saved Best Model\n",
            "[INFO]: VALID EPOCH : 4\tLOSS : 0.0022\tACC : 60.5900\n",
            "[INFO]: Current lr value = 0.05996939081632653\n",
            "loss = 4.440160751342773 batch_id = 97: 100%|██████████| 98/98 [00:26<00:00,  3.76it/s]\n",
            "[INFO]: TRAIN EPOCH : 5\tLOSS : 0.0094\tACC : 62.5600\n",
            "[INFO]: Saved Best Model\n",
            "[INFO]: VALID EPOCH : 5\tLOSS : 0.0018\tACC : 68.3500\n",
            "[INFO]: Current lr value = 0.05696969081632653\n",
            "loss = 4.168970584869385 batch_id = 97: 100%|██████████| 98/98 [00:25<00:00,  3.78it/s]\n",
            "[INFO]: TRAIN EPOCH : 6\tLOSS : 0.0087\tACC : 65.9160\n",
            "[INFO]: Saved Best Model\n",
            "[INFO]: VALID EPOCH : 6\tLOSS : 0.0017\tACC : 70.8500\n",
            "[INFO]: Current lr value = 0.05396999081632653\n",
            "loss = 3.9901130199432373 batch_id = 97: 100%|██████████| 98/98 [00:25<00:00,  3.79it/s]\n",
            "[INFO]: TRAIN EPOCH : 7\tLOSS : 0.0083\tACC : 67.8800\n",
            "[INFO]: Saved Best Model\n",
            "[INFO]: VALID EPOCH : 7\tLOSS : 0.0015\tACC : 73.3500\n",
            "[INFO]: Current lr value = 0.05097029081632653\n",
            "loss = 4.251209259033203 batch_id = 97: 100%|██████████| 98/98 [00:25<00:00,  3.78it/s]\n",
            "[INFO]: TRAIN EPOCH : 8\tLOSS : 0.0080\tACC : 69.0880\n",
            "[INFO]: Saved Best Model\n",
            "[INFO]: VALID EPOCH : 8\tLOSS : 0.0014\tACC : 76.6900\n",
            "[INFO]: Current lr value = 0.04797059081632653\n",
            "loss = 4.072688102722168 batch_id = 97: 100%|██████████| 98/98 [00:25<00:00,  3.77it/s]\n",
            "[INFO]: TRAIN EPOCH : 9\tLOSS : 0.0077\tACC : 70.7260\n",
            "[INFO]: VALID EPOCH : 9\tLOSS : 0.0017\tACC : 73.3900\n",
            "[INFO]: Current lr value = 0.04497089081632653\n",
            "loss = 3.9313316345214844 batch_id = 97: 100%|██████████| 98/98 [00:25<00:00,  3.84it/s]\n",
            "[INFO]: TRAIN EPOCH : 10\tLOSS : 0.0074\tACC : 72.0200\n",
            "[INFO]: Saved Best Model\n",
            "[INFO]: VALID EPOCH : 10\tLOSS : 0.0012\tACC : 79.5800\n",
            "[INFO]: Current lr value = 0.041971190816326526\n",
            "loss = 3.666792631149292 batch_id = 97: 100%|██████████| 98/98 [00:25<00:00,  3.77it/s]\n",
            "[INFO]: TRAIN EPOCH : 11\tLOSS : 0.0072\tACC : 72.7200\n",
            "[INFO]: VALID EPOCH : 11\tLOSS : 0.0014\tACC : 77.2900\n",
            "[INFO]: Current lr value = 0.03897149081632653\n",
            "loss = 3.561044692993164 batch_id = 97: 100%|██████████| 98/98 [00:25<00:00,  3.82it/s]\n",
            "[INFO]: TRAIN EPOCH : 12\tLOSS : 0.0069\tACC : 74.0140\n",
            "[INFO]: VALID EPOCH : 12\tLOSS : 0.0013\tACC : 78.5800\n",
            "[INFO]: Current lr value = 0.03597179081632653\n",
            "loss = 3.3820152282714844 batch_id = 97: 100%|██████████| 98/98 [00:25<00:00,  3.80it/s]\n",
            "[INFO]: TRAIN EPOCH : 13\tLOSS : 0.0067\tACC : 75.0180\n",
            "[INFO]: Saved Best Model\n",
            "[INFO]: VALID EPOCH : 13\tLOSS : 0.0011\tACC : 81.4000\n",
            "[INFO]: Current lr value = 0.03297209081632653\n",
            "loss = 3.6007657051086426 batch_id = 97: 100%|██████████| 98/98 [00:25<00:00,  3.78it/s]\n",
            "[INFO]: TRAIN EPOCH : 14\tLOSS : 0.0066\tACC : 75.6120\n",
            "[INFO]: VALID EPOCH : 14\tLOSS : 0.0015\tACC : 76.3800\n",
            "[INFO]: Current lr value = 0.029972390816326532\n",
            "loss = 3.2363574504852295 batch_id = 97: 100%|██████████| 98/98 [00:25<00:00,  3.79it/s]\n",
            "[INFO]: TRAIN EPOCH : 15\tLOSS : 0.0065\tACC : 76.3300\n",
            "[INFO]: VALID EPOCH : 15\tLOSS : 0.0011\tACC : 81.1400\n",
            "[INFO]: Current lr value = 0.026972690816326528\n",
            "loss = 3.486809253692627 batch_id = 97: 100%|██████████| 98/98 [00:25<00:00,  3.83it/s]\n",
            "[INFO]: TRAIN EPOCH : 16\tLOSS : 0.0062\tACC : 77.5660\n",
            "[INFO]: Saved Best Model\n",
            "[INFO]: VALID EPOCH : 16\tLOSS : 0.0012\tACC : 81.6300\n",
            "[INFO]: Current lr value = 0.023972990816326527\n",
            "loss = 3.0219128131866455 batch_id = 97: 100%|██████████| 98/98 [00:25<00:00,  3.82it/s]\n",
            "[INFO]: TRAIN EPOCH : 17\tLOSS : 0.0060\tACC : 78.2980\n",
            "[INFO]: Saved Best Model\n",
            "[INFO]: VALID EPOCH : 17\tLOSS : 0.0010\tACC : 83.4500\n",
            "[INFO]: Current lr value = 0.020973290816326533\n",
            "loss = 3.1395485401153564 batch_id = 97: 100%|██████████| 98/98 [00:25<00:00,  3.84it/s]\n",
            "[INFO]: TRAIN EPOCH : 18\tLOSS : 0.0059\tACC : 78.9380\n",
            "[INFO]: Saved Best Model\n",
            "[INFO]: VALID EPOCH : 18\tLOSS : 0.0009\tACC : 84.6800\n",
            "[INFO]: Current lr value = 0.017973590816326525\n",
            "loss = 2.4985129833221436 batch_id = 97: 100%|██████████| 98/98 [00:27<00:00,  3.61it/s]\n",
            "[INFO]: TRAIN EPOCH : 19\tLOSS : 0.0058\tACC : 79.4260\n",
            "[INFO]: Saved Best Model\n",
            "[INFO]: VALID EPOCH : 19\tLOSS : 0.0009\tACC : 85.5200\n",
            "[INFO]: Current lr value = 0.01497389081632653\n",
            "loss = 3.041632890701294 batch_id = 97: 100%|██████████| 98/98 [00:26<00:00,  3.76it/s]\n",
            "[INFO]: TRAIN EPOCH : 20\tLOSS : 0.0056\tACC : 80.3640\n",
            "[INFO]: VALID EPOCH : 20\tLOSS : 0.0009\tACC : 85.2200\n",
            "[INFO]: Current lr value = 0.01197419081632653\n",
            "loss = 2.8721518516540527 batch_id = 97: 100%|██████████| 98/98 [00:26<00:00,  3.74it/s]\n",
            "[INFO]: TRAIN EPOCH : 21\tLOSS : 0.0054\tACC : 81.3660\n",
            "[INFO]: Saved Best Model\n",
            "[INFO]: VALID EPOCH : 21\tLOSS : 0.0009\tACC : 85.6600\n",
            "[INFO]: Current lr value = 0.008974490816326529\n",
            "loss = 2.5672354698181152 batch_id = 97: 100%|██████████| 98/98 [00:25<00:00,  3.80it/s]\n",
            "[INFO]: TRAIN EPOCH : 22\tLOSS : 0.0052\tACC : 81.9240\n",
            "[INFO]: Saved Best Model\n",
            "[INFO]: VALID EPOCH : 22\tLOSS : 0.0008\tACC : 87.2000\n",
            "[INFO]: Current lr value = 0.005974790816326528\n",
            "loss = 2.662933588027954 batch_id = 97: 100%|██████████| 98/98 [00:25<00:00,  3.81it/s]\n",
            "[INFO]: TRAIN EPOCH : 23\tLOSS : 0.0050\tACC : 82.9380\n",
            "[INFO]: Saved Best Model\n",
            "[INFO]: VALID EPOCH : 23\tLOSS : 0.0007\tACC : 88.3900\n",
            "[INFO]: Current lr value = 0.002975090816326527\n",
            "loss = 2.3844573497772217 batch_id = 97: 100%|██████████| 98/98 [00:25<00:00,  3.80it/s]\n",
            "[INFO]: TRAIN EPOCH : 24\tLOSS : 0.0048\tACC : 83.8440\n",
            "[INFO]: Saved Best Model\n",
            "[INFO]: VALID EPOCH : 24\tLOSS : 0.0007\tACC : 88.8300\n"
          ],
          "name": "stderr"
        },
        {
          "output_type": "stream",
          "text": [
            "1130.6923246383667\n"
          ],
          "name": "stdout"
        }
      ]
    },
    {
      "cell_type": "code",
      "metadata": {
        "id": "U-GSgxwLQO_E",
        "colab_type": "code",
        "colab": {
          "base_uri": "https://localhost:8080/",
          "height": 34
        },
        "outputId": "7acb37d5-1ad8-45b2-f489-af6d5c6f2838"
      },
      "source": [
        "agent.finalize()"
      ],
      "execution_count": 48,
      "outputs": [
        {
          "output_type": "stream",
          "text": [
            "[INFO]: Please wait while finalizing the operations.. Thank you\n"
          ],
          "name": "stderr"
        }
      ]
    },
    {
      "cell_type": "code",
      "metadata": {
        "id": "hOjrGm4wQRYU",
        "colab_type": "code",
        "colab": {
          "base_uri": "https://localhost:8080/",
          "height": 87
        },
        "outputId": "27d4ded4-5647-4240-d00c-c53b1768e252"
      },
      "source": [
        "iagent_class = globals()[config[\"inference_agent\"]]\n",
        "iagent = iagent_class(config)"
      ],
      "execution_count": 49,
      "outputs": [
        {
          "output_type": "stream",
          "text": [
            "[INFO]: INFERENCE MODE ACTIVATED!!!\n"
          ],
          "name": "stderr"
        },
        {
          "output_type": "stream",
          "text": [
            "Files already downloaded and verified\n",
            "Files already downloaded and verified\n"
          ],
          "name": "stdout"
        },
        {
          "output_type": "stream",
          "text": [
            "[INFO]: Program will RUN on ****GPU-CUDA****\n"
          ],
          "name": "stderr"
        }
      ]
    },
    {
      "cell_type": "code",
      "metadata": {
        "id": "i0q5f5XVQUSh",
        "colab_type": "code",
        "colab": {
          "base_uri": "https://localhost:8080/",
          "height": 352
        },
        "outputId": "02bb9a72-5608-41eb-d132-69d06f6485c9"
      },
      "source": [
        "iagent.plot_lr_graph()"
      ],
      "execution_count": 50,
      "outputs": [
        {
          "output_type": "display_data",
          "data": {
            "image/png": "[encoded data removed]",
            "text/plain": [
              "<Figure size 360x360 with 1 Axes>"
            ]
          },
          "metadata": {
            "tags": [],
            "needs_background": "light"
          }
        },
        {
          "output_type": "stream",
          "text": [
            "[INFO]: Learning Rate Graph saved.\n"
          ],
          "name": "stderr"
        }
      ]
    },
    {
      "cell_type": "code",
      "metadata": {
        "id": "JsX6W7orQWuf",
        "colab_type": "code",
        "colab": {
          "base_uri": "https://localhost:8080/",
          "height": 352
        },
        "outputId": "0d34687a-9c86-47c4-dd14-57ca0d09f8c1"
      },
      "source": [
        "iagent.plot_accuracy_graph()"
      ],
      "execution_count": 51,
      "outputs": [
        {
          "output_type": "display_data",
          "data": {
            "image/png": "[encoded data removed]",
            "text/plain": [
              "<Figure size 360x360 with 1 Axes>"
            ]
          },
          "metadata": {
            "tags": [],
            "needs_background": "light"
          }
        },
        {
          "output_type": "stream",
          "text": [
            "[INFO]: Accuracy Graph saved.\n"
          ],
          "name": "stderr"
        }
      ]
    },
    {
      "cell_type": "code",
      "metadata": {
        "id": "CBPquiE2QZHH",
        "colab_type": "code",
        "colab": {
          "base_uri": "https://localhost:8080/",
          "height": 352
        },
        "outputId": "770c87b3-9b9d-4bbf-f24d-e3669d9be5f3"
      },
      "source": [
        "iagent.plot_loss_graph()"
      ],
      "execution_count": 52,
      "outputs": [
        {
          "output_type": "display_data",
          "data": {
            "image/png": "[encoded data removed]",
            "text/plain": [
              "<Figure size 360x360 with 1 Axes>"
            ]
          },
          "metadata": {
            "tags": [],
            "needs_background": "light"
          }
        },
        {
          "output_type": "stream",
          "text": [
            "[INFO]: Loss Graph saved.\n"
          ],
          "name": "stderr"
        }
      ]
    },
    {
      "cell_type": "code",
      "metadata": {
        "id": "sJBinG6BbDyW",
        "colab_type": "code",
        "colab": {}
      },
      "source": [
        ""
      ],
      "execution_count": 0,
      "outputs": []
    }
  ]
}